{
  "nbformat": 4,
  "nbformat_minor": 0,
  "metadata": {
    "colab": {
      "name": "news_summary_model.ipynb",
      "provenance": [],
      "collapsed_sections": [],
      "include_colab_link": true
    },
    "kernelspec": {
      "display_name": "Python 3",
      "name": "python3"
    }
  },
  "cells": [
    {
      "cell_type": "markdown",
      "metadata": {
        "id": "view-in-github",
        "colab_type": "text"
      },
      "source": [
        "<a href=\"https://colab.research.google.com/github/amit-kumar56/Text-Summarisation/blob/main/news_summary_model.ipynb\" target=\"_parent\"><img src=\"https://colab.research.google.com/assets/colab-badge.svg\" alt=\"Open In Colab\"/></a>"
      ]
    },
    {
      "cell_type": "code",
      "metadata": {
        "colab": {
          "base_uri": "https://localhost:8080/"
        },
        "id": "KdO5Zan_JA1i",
        "outputId": "e7b4646d-bb28-4738-a527-932c2cb774c2"
      },
      "source": [
        "from google.colab import drive\n",
        "drive.mount('/content/gdrive')"
      ],
      "execution_count": null,
      "outputs": [
        {
          "output_type": "stream",
          "text": [
            "Mounted at /content/gdrive\n"
          ],
          "name": "stdout"
        }
      ]
    },
    {
      "cell_type": "code",
      "metadata": {
        "colab": {
          "resources": {
            "http://localhost:8080/nbextensions/google.colab/files.js": {
              "data": "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",
              "ok": true,
              "headers": [
                [
                  "content-type",
                  "application/javascript"
                ]
              ],
              "status": 200,
              "status_text": "OK"
            }
          },
          "base_uri": "https://localhost:8080/",
          "height": 75
        },
        "id": "f8_GOlO3LzgC",
        "outputId": "71964621-0902-4fc8-940e-1bd883cbf28c"
      },
      "source": [
        "from google.colab import files\n",
        "uploaded = files.upload()"
      ],
      "execution_count": null,
      "outputs": [
        {
          "output_type": "display_data",
          "data": {
            "text/html": [
              "\n",
              "     <input type=\"file\" id=\"files-9f0a1a70-4de4-4a38-941f-f8b3ddc12ed5\" name=\"files[]\" multiple disabled\n",
              "        style=\"border:none\" />\n",
              "     <output id=\"result-9f0a1a70-4de4-4a38-941f-f8b3ddc12ed5\">\n",
              "      Upload widget is only available when the cell has been executed in the\n",
              "      current browser session. Please rerun this cell to enable.\n",
              "      </output>\n",
              "      <script src=\"/nbextensions/google.colab/files.js\"></script> "
            ],
            "text/plain": [
              "<IPython.core.display.HTML object>"
            ]
          },
          "metadata": {
            "tags": []
          }
        },
        {
          "output_type": "stream",
          "text": [
            "Saving news_summary.csv to news_summary (1).csv\n"
          ],
          "name": "stdout"
        }
      ]
    },
    {
      "cell_type": "code",
      "metadata": {
        "id": "JnveIIHa4o3f"
      },
      "source": [
        ""
      ],
      "execution_count": null,
      "outputs": []
    },
    {
      "cell_type": "code",
      "metadata": {
        "id": "Z6vZW-xzNW6Y"
      },
      "source": [
        "import zipfile\n",
        "import io\n",
        "zf = zipfile.ZipFile('data.zip', 'r')\n",
        "zf.extractall() "
      ],
      "execution_count": null,
      "outputs": []
    },
    {
      "cell_type": "code",
      "metadata": {
        "colab": {
          "base_uri": "https://localhost:8080/"
        },
        "id": "UDXW5gkVNkC4",
        "outputId": "61dc14b1-a5a2-4324-8f3f-42ee94d59ef4"
      },
      "source": [
        "import numpy as np\n",
        "import pandas as pd \n",
        "import re\n",
        "from keras.preprocessing.text import Tokenizer \n",
        "from nltk import download\n",
        "download('stopwords')\n",
        "from nltk.corpus import stopwords\n",
        "from tensorflow.keras.layers import Input, LSTM, Embedding, Dense, Concatenate, TimeDistributed\n",
        "from tensorflow.keras.models import Model\n",
        "from tensorflow.keras.callbacks import EarlyStopping\n",
        "import warnings\n",
        "#from attention import AttentionLayer\n",
        "pd.set_option(\"display.max_colwidth\", 200)\n",
        "warnings.filterwarnings(\"ignore\")"
      ],
      "execution_count": null,
      "outputs": [
        {
          "output_type": "stream",
          "text": [
            "[nltk_data] Downloading package stopwords to /root/nltk_data...\n",
            "[nltk_data]   Unzipping corpora/stopwords.zip.\n"
          ],
          "name": "stdout"
        }
      ]
    },
    {
      "cell_type": "code",
      "metadata": {
        "id": "PR9dNnhnTl_-"
      },
      "source": [
        "reviews_org = pd.read_csv(\"news_summary.csv\", encoding='latin-1')"
      ],
      "execution_count": null,
      "outputs": []
    },
    {
      "cell_type": "code",
      "metadata": {
        "colab": {
          "base_uri": "https://localhost:8080/",
          "height": 1000
        },
        "id": "RO-AzyO8UALo",
        "outputId": "72e4acc7-03c3-4681-a271-00d22e9439db"
      },
      "source": [
        "reviews_org.head()"
      ],
      "execution_count": null,
      "outputs": [
        {
          "output_type": "execute_result",
          "data": {
            "text/html": [
              "<div>\n",
              "<style scoped>\n",
              "    .dataframe tbody tr th:only-of-type {\n",
              "        vertical-align: middle;\n",
              "    }\n",
              "\n",
              "    .dataframe tbody tr th {\n",
              "        vertical-align: top;\n",
              "    }\n",
              "\n",
              "    .dataframe thead th {\n",
              "        text-align: right;\n",
              "    }\n",
              "</style>\n",
              "<table border=\"1\" class=\"dataframe\">\n",
              "  <thead>\n",
              "    <tr style=\"text-align: right;\">\n",
              "      <th></th>\n",
              "      <th>author</th>\n",
              "      <th>date</th>\n",
              "      <th>headlines</th>\n",
              "      <th>read_more</th>\n",
              "      <th>text</th>\n",
              "      <th>ctext</th>\n",
              "    </tr>\n",
              "  </thead>\n",
              "  <tbody>\n",
              "    <tr>\n",
              "      <th>0</th>\n",
              "      <td>Chhavi Tyagi</td>\n",
              "      <td>03 Aug 2017,Thursday</td>\n",
              "      <td>Daman &amp; Diu revokes mandatory Rakshabandhan in offices order</td>\n",
              "      <td>http://www.hindustantimes.com/india-news/rakshabandhan-compulsory-in-daman-and-diu-women-employees-to-tie-rakhis-to-male-colleagues/story-E5h5U1ZDJii5zFpLXWRkhJ.html?utm_source=inshorts&amp;utm_medium...</td>\n",
              "      <td>The Administration of Union Territory Daman and Diu has revoked its order that made it compulsory for women to tie rakhis to their male colleagues on the occasion of Rakshabandhan on August 7. The...</td>\n",
              "      <td>The Daman and Diu administration on Wednesday withdrew a circular that asked women staff to tie rakhis on male colleagues after the order triggered a backlash from employees and was ripped apart o...</td>\n",
              "    </tr>\n",
              "    <tr>\n",
              "      <th>1</th>\n",
              "      <td>Daisy Mowke</td>\n",
              "      <td>03 Aug 2017,Thursday</td>\n",
              "      <td>Malaika slams user who trolled her for 'divorcing rich man'</td>\n",
              "      <td>http://www.hindustantimes.com/bollywood/malaika-arora-khan-was-trolled-for-divorcing-a-rich-man-her-reply-is-dignity-itself/story-oIPZNI9deImCmabLMMwR2H.html?utm_source=inshorts&amp;utm_medium=referra...</td>\n",
              "      <td>Malaika Arora slammed an Instagram user who trolled her for \"divorcing a rich man\" and \"having fun with the alimony\". \"Her life now is all about wearing short clothes, going to gym or salon, enjoy...</td>\n",
              "      <td>From her special numbers to TV?appearances, Bollywood actor Malaika Arora Khan has managed to carve her own identity. The actor, who made her debut in the Hindi film industry with the blockbuster ...</td>\n",
              "    </tr>\n",
              "    <tr>\n",
              "      <th>2</th>\n",
              "      <td>Arshiya Chopra</td>\n",
              "      <td>03 Aug 2017,Thursday</td>\n",
              "      <td>'Virgin' now corrected to 'Unmarried' in IGIMS' form</td>\n",
              "      <td>http://www.hindustantimes.com/patna/bihar-igims-form-loses-virginity-after-row-opts-for-unmarried-instead/story-8XmHIg39otGBoZAYEBQxMK.html?utm_source=inshorts&amp;utm_medium=referral&amp;utm_campaign=ful...</td>\n",
              "      <td>The Indira Gandhi Institute of Medical Sciences (IGIMS) in Patna on Thursday made corrections in its Marital Declaration Form by changing 'Virgin' option to 'Unmarried'. Earlier, Bihar Health Mini...</td>\n",
              "      <td>The Indira Gandhi Institute of Medical Sciences (IGIMS) in Patna amended its marital declaration form on Thursday, replacing the word ?virgin? with ?unmarried? after controversy.Until now, new rec...</td>\n",
              "    </tr>\n",
              "    <tr>\n",
              "      <th>3</th>\n",
              "      <td>Sumedha Sehra</td>\n",
              "      <td>03 Aug 2017,Thursday</td>\n",
              "      <td>Aaj aapne pakad liya: LeT man Dujana before being killed</td>\n",
              "      <td>http://indiatoday.intoday.in/story/abu-dujana-last-phone-call-lashkar-e-taiba-jammu-and-kashmir/1/1017550.html?utm_source=inshorts&amp;utm_medium=referral&amp;utm_campaign=fullarticle</td>\n",
              "      <td>Lashkar-e-Taiba's Kashmir commander Abu Dujana, who was killed by security forces, said \"Kabhi hum aage, kabhi aap, aaj aapne pakad liya, mubarak ho aapko (Today you caught me. Congratulations)\" a...</td>\n",
              "      <td>Lashkar-e-Taiba's Kashmir commander Abu Dujana was killed in an encounter in a village in Pulwama district of Jammu and Kashmir earlier this week. Dujana, who had managed to give the security forc...</td>\n",
              "    </tr>\n",
              "    <tr>\n",
              "      <th>4</th>\n",
              "      <td>Aarushi Maheshwari</td>\n",
              "      <td>03 Aug 2017,Thursday</td>\n",
              "      <td>Hotel staff to get training to spot signs of sex trafficking</td>\n",
              "      <td>http://indiatoday.intoday.in/story/sex-trafficking-mumbai-rescue-me-maharashtra-international-labour-organization-forced-labour-trafficking-traning-hotel-staff/1/1017210.html?utm_source=inshorts&amp;u...</td>\n",
              "      <td>Hotels in Maharashtra will train their staff to spot signs of sex trafficking, including frequent requests for bed linen changes and 'Do not disturb' signs left on room doors for days. A mobile ph...</td>\n",
              "      <td>Hotels in Mumbai and other Indian cities are to train their staff to spot signs of sex trafficking such as frequent requests for bed linen changes or a \"Do not disturb\" sign left on the door for d...</td>\n",
              "    </tr>\n",
              "  </tbody>\n",
              "</table>\n",
              "</div>"
            ],
            "text/plain": [
              "               author  ...                                                                                                                                                                                                    ctext\n",
              "0        Chhavi Tyagi  ...  The Daman and Diu administration on Wednesday withdrew a circular that asked women staff to tie rakhis on male colleagues after the order triggered a backlash from employees and was ripped apart o...\n",
              "1         Daisy Mowke  ...  From her special numbers to TV?appearances, Bollywood actor Malaika Arora Khan has managed to carve her own identity. The actor, who made her debut in the Hindi film industry with the blockbuster ...\n",
              "2      Arshiya Chopra  ...  The Indira Gandhi Institute of Medical Sciences (IGIMS) in Patna amended its marital declaration form on Thursday, replacing the word ?virgin? with ?unmarried? after controversy.Until now, new rec...\n",
              "3       Sumedha Sehra  ...  Lashkar-e-Taiba's Kashmir commander Abu Dujana was killed in an encounter in a village in Pulwama district of Jammu and Kashmir earlier this week. Dujana, who had managed to give the security forc...\n",
              "4  Aarushi Maheshwari  ...  Hotels in Mumbai and other Indian cities are to train their staff to spot signs of sex trafficking such as frequent requests for bed linen changes or a \"Do not disturb\" sign left on the door for d...\n",
              "\n",
              "[5 rows x 6 columns]"
            ]
          },
          "metadata": {
            "tags": []
          },
          "execution_count": 8
        }
      ]
    },
    {
      "cell_type": "code",
      "metadata": {
        "colab": {
          "base_uri": "https://localhost:8080/"
        },
        "id": "11OueG6uVKHc",
        "outputId": "12fddccb-0af5-4e40-f5c7-713cc2e23945"
      },
      "source": [
        "reviews_org.isnull().sum()"
      ],
      "execution_count": null,
      "outputs": [
        {
          "output_type": "execute_result",
          "data": {
            "text/plain": [
              "author         0\n",
              "date           0\n",
              "headlines      0\n",
              "read_more      0\n",
              "text           0\n",
              "ctext        118\n",
              "dtype: int64"
            ]
          },
          "metadata": {
            "tags": []
          },
          "execution_count": 9
        }
      ]
    },
    {
      "cell_type": "code",
      "metadata": {
        "id": "Oi7tBVFlVKS-"
      },
      "source": [
        "CURRENCIES = {\n",
        "    \"$\": \"USD\", \"zł\": \"PLN\", \"£\": \"GBP\", \"¥\": \"JPY\", \"฿\": \"THB\", \"₡\": \"CRC\", \"₦\": \"NGN\",\"₩\": \"KRW\",\n",
        "    \"₪\": \"ILS\", \"₫\": \"VND\", \"€\": \"EUR\", \"₱\": \"PHP\", \"₲\": \"PYG\", \"₴\": \"UAH\", \"₹\": \"INR\"}"
      ],
      "execution_count": null,
      "outputs": []
    },
    {
      "cell_type": "code",
      "metadata": {
        "id": "rK11YrrZVKVT"
      },
      "source": [
        "CURRENCY_REGEX = re.compile(\n",
        "    \"({})+\".format(\"|\".join(re.escape(c) for c in CURRENCIES.keys())))"
      ],
      "execution_count": null,
      "outputs": []
    },
    {
      "cell_type": "code",
      "metadata": {
        "id": "ctCcFR9-VKX9"
      },
      "source": [
        "EMAIL_REGEX = re.compile(\n",
        "    r\"(?:^|(?<=[^\\w@.)]))([\\w+-](\\.(?!\\.))?)*?[\\w+-]@(?:\\w-?)*?\\w+(\\.([a-z]{2,})){1,3}(?:$|(?=\\b))\",\n",
        "    flags=re.IGNORECASE | re.UNICODE)"
      ],
      "execution_count": null,
      "outputs": []
    },
    {
      "cell_type": "code",
      "metadata": {
        "id": "FJ4MRUOvVKaq"
      },
      "source": [
        "contractions =          {\"ain't\": \"is not\", \"aren't\": \"are not\",\"can't\": \"cannot\", \"'cause\": \"because\", \"could've\": \"could have\", \"couldn't\": \"could not\",\n",
        "                           \"didn't\": \"did not\",  \"doesn't\": \"does not\", \"don't\": \"do not\", \"hadn't\": \"had not\", \"hasn't\": \"has not\", \"haven't\": \"have not\",\n",
        "                           \"he'd\": \"he would\",\"he'll\": \"he will\", \"he's\": \"he is\", \"how'd\": \"how did\", \"how'd'y\": \"how do you\", \"how'll\": \"how will\", \"how's\": \"how is\",\n",
        "                           \"I'd\": \"I would\", \"I'd've\": \"I would have\", \"I'll\": \"I will\", \"I'll've\": \"I will have\",\"I'm\": \"I am\", \"I've\": \"I have\", \"i'd\": \"i would\",\n",
        "                           \"i'd've\": \"i would have\", \"i'll\": \"i will\",  \"i'll've\": \"i will have\",\"i'm\": \"i am\", \"i've\": \"i have\", \"isn't\": \"is not\", \"it'd\": \"it would\",\n",
        "                           \"it'd've\": \"it would have\", \"it'll\": \"it will\", \"it'll've\": \"it will have\",\"it's\": \"it is\", \"let's\": \"let us\", \"ma'am\": \"madam\",\n",
        "                           \"mayn't\": \"may not\", \"might've\": \"might have\",\"mightn't\": \"might not\",\"mightn't've\": \"might not have\", \"must've\": \"must have\",\n",
        "                           \"mustn't\": \"must not\", \"mustn't've\": \"must not have\", \"needn't\": \"need not\", \"needn't've\": \"need not have\",\"o'clock\": \"of the clock\",\n",
        "                           \"oughtn't\": \"ought not\", \"oughtn't've\": \"ought not have\", \"shan't\": \"shall not\", \"sha'n't\": \"shall not\", \"shan't've\": \"shall not have\",\n",
        "                           \"she'd\": \"she would\", \"she'd've\": \"she would have\", \"she'll\": \"she will\", \"she'll've\": \"she will have\", \"she's\": \"she is\",\n",
        "                           \"should've\": \"should have\", \"shouldn't\": \"should not\", \"shouldn't've\": \"should not have\", \"so've\": \"so have\",\"so's\": \"so as\",\n",
        "                           \"this's\": \"this is\",\"that'd\": \"that would\", \"that'd've\": \"that would have\", \"that's\": \"that is\", \"there'd\": \"there would\",\n",
        "                           \"there'd've\": \"there would have\", \"there's\": \"there is\", \"here's\": \"here is\",\"they'd\": \"they would\", \"they'd've\": \"they would have\",\n",
        "                           \"they'll\": \"they will\", \"they'll've\": \"they will have\", \"they're\": \"they are\", \"they've\": \"they have\", \"to've\": \"to have\",\n",
        "                           \"wasn't\": \"was not\", \"we'd\": \"we would\", \"we'd've\": \"we would have\", \"we'll\": \"we will\", \"we'll've\": \"we will have\", \"we're\": \"we are\",\n",
        "                           \"we've\": \"we have\", \"weren't\": \"were not\", \"what'll\": \"what will\", \"what'll've\": \"what will have\", \"what're\": \"what are\",\n",
        "                           \"what's\": \"what is\", \"what've\": \"what have\", \"when's\": \"when is\", \"when've\": \"when have\", \"where'd\": \"where did\", \"where's\": \"where is\",\n",
        "                           \"where've\": \"where have\", \"who'll\": \"who will\", \"who'll've\": \"who will have\", \"who's\": \"who is\", \"who've\": \"who have\",\n",
        "                           \"why's\": \"why is\", \"why've\": \"why have\", \"will've\": \"will have\", \"won't\": \"will not\", \"won't've\": \"will not have\",\n",
        "                           \"would've\": \"would have\", \"wouldn't\": \"would not\", \"wouldn't've\": \"would not have\", \"y'all\": \"you all\",\n",
        "                           \"y'all'd\": \"you all would\",\"y'all'd've\": \"you all would have\",\"y'all're\": \"you all are\",\"y'all've\": \"you all have\",\n",
        "                           \"you'd\": \"you would\", \"you'd've\": \"you would have\", \"you'll\": \"you will\", \"you'll've\": \"you will have\",\n",
        "                           \"you're\": \"you are\", \"you've\": \"you have\", \"i've\": \"i have\"}"
      ],
      "execution_count": null,
      "outputs": []
    },
    {
      "cell_type": "code",
      "metadata": {
        "id": "fARD577jVKdH"
      },
      "source": [
        "def clean_text(text, remove_stopwords = True):\n",
        "    \n",
        "    text = text.lower()\n",
        "    if True:\n",
        "        text = text.split()\n",
        "        new_text = []\n",
        "        for word in text:\n",
        "            if word in contractions:\n",
        "                new_text.append(contractions[word])\n",
        "            else:\n",
        "                new_text.append(word)\n",
        "        text = \" \".join(new_text)\n",
        "        \n",
        "    text = re.sub(r'https?:\\/\\/.*[\\r\\n]*', '', text, flags=re.MULTILINE)\n",
        "    text = EMAIL_REGEX.sub(' ',text)\n",
        "    text = CURRENCY_REGEX.sub(' ',text)\n",
        "    text = ' '.join([contractions[t] if t in contractions else t for t in text.split(\" \")])    \n",
        "    text = re.sub(r'[_\"\\-;%()|+&=*%.,!?:#$@\\[\\]/]', ' ', text)\n",
        "    text = re.sub(r\"'s\\b\",\"\", text)\n",
        "    text = re.sub(r'&amp;', '', text) \n",
        "    \n",
        "    if remove_stopwords:\n",
        "        text = text.split()\n",
        "        stops = set(stopwords.words(\"english\"))\n",
        "        text = [w for w in text if not w in stops]\n",
        "        text = \" \".join(text)\n",
        "\n",
        "    return text"
      ],
      "execution_count": null,
      "outputs": []
    },
    {
      "cell_type": "code",
      "metadata": {
        "colab": {
          "base_uri": "https://localhost:8080/"
        },
        "id": "cKMaXrL0VKf0",
        "outputId": "e060b30e-a511-4355-b1d2-d304771fe282"
      },
      "source": [
        "cleaned_headlines = []\n",
        "cleaned_text = []\n",
        "\n",
        "for headlines in reviews_org['headlines']:\n",
        "    cleaned_headlines.append(clean_text(headlines, remove_stopwords=False))\n",
        "print(\"Headlines are complete.\")\n",
        "\n",
        "for text in reviews_org['text']:\n",
        "    cleaned_text.append(clean_text(text))\n",
        "print(\"Texts are complete.\")"
      ],
      "execution_count": null,
      "outputs": [
        {
          "output_type": "stream",
          "text": [
            "Headlines are complete.\n",
            "Texts are complete.\n"
          ],
          "name": "stdout"
        }
      ]
    },
    {
      "cell_type": "code",
      "metadata": {
        "colab": {
          "base_uri": "https://localhost:8080/"
        },
        "id": "Sw3Eq9zpVKjZ",
        "outputId": "b9b2cc1b-1ebc-4d93-ec80-980212e80a47"
      },
      "source": [
        "for i in range(4):\n",
        "    print(\"Review: \",i+1) # You can change it by \"Review\" to \"Headline\"\n",
        "    print(cleaned_headlines[i])\n",
        "    print('-'*80)\n",
        "    print(cleaned_text[i])\n",
        "    print()"
      ],
      "execution_count": null,
      "outputs": [
        {
          "output_type": "stream",
          "text": [
            "Review:  1\n",
            "daman   diu revokes mandatory rakshabandhan in offices order\n",
            "--------------------------------------------------------------------------------\n",
            "administration union territory daman diu revoked order made compulsory women tie rakhis male colleagues occasion rakshabandhan august 7 administration forced withdraw decision within 24 hours issuing circular received flak employees slammed social media\n",
            "\n",
            "Review:  2\n",
            "malaika slams user who trolled her for 'divorcing rich man'\n",
            "--------------------------------------------------------------------------------\n",
            "malaika arora slammed instagram user trolled divorcing rich man fun alimony life wearing short clothes going gym salon enjoying vacation user commented malaika responded certainly got get damn facts right spewing sh know nothing\n",
            "\n",
            "Review:  3\n",
            "'virgin' now corrected to 'unmarried' in igims' form\n",
            "--------------------------------------------------------------------------------\n",
            "indira gandhi institute medical sciences igims patna thursday made corrections marital declaration form changing 'virgin' option 'unmarried' earlier bihar health minister defined virgin unmarried woman consider term objectionable institute however faced strong backlash asking new recruits declare virginity form\n",
            "\n",
            "Review:  4\n",
            "aaj aapne pakad liya  let man dujana before being killed\n",
            "--------------------------------------------------------------------------------\n",
            "lashkar e taiba kashmir commander abu dujana killed security forces said kabhi hum aage kabhi aap aaj aapne pakad liya mubarak ho aapko today caught congratulations caught added surrender whatever fate happen hum nikley shaheed hone left home martyrdom added\n",
            "\n"
          ],
          "name": "stdout"
        }
      ]
    },
    {
      "cell_type": "code",
      "metadata": {
        "id": "r9YgsYT9-OXT"
      },
      "source": [
        "from pickle import dump, load\r\n",
        "dump(reviews_org, open('reviews_org.pkl', 'wb'))"
      ],
      "execution_count": null,
      "outputs": []
    },
    {
      "cell_type": "code",
      "metadata": {
        "colab": {
          "base_uri": "https://localhost:8080/",
          "height": 281
        },
        "id": "wW1kJjQ7VKnz",
        "outputId": "be2010a4-8979-4f5b-c71c-3001369a9c29"
      },
      "source": [
        "import matplotlib.pyplot as plt #pip install matplotlib\n",
        "\n",
        "text_word_count = []\n",
        "headlines_word_count = []\n",
        "\n",
        "for i in cleaned_text:\n",
        "    text_word_count.append(len(i.split()))\n",
        "for i in cleaned_headlines:\n",
        "    headlines_word_count.append(len(i.split()))\n",
        "\n",
        "length_df = pd.DataFrame({'text': text_word_count, 'headlines': headlines_word_count})\n",
        "length_df.hist(bins=15)\n",
        "plt.show()"
      ],
      "execution_count": null,
      "outputs": [
        {
          "output_type": "display_data",
          "data": {
            "image/png": "[encoded data removed]",
            "text/plain": [
              "<Figure size 432x288 with 2 Axes>"
            ]
          },
          "metadata": {
            "tags": [],
            "needs_background": "light"
          }
        }
      ]
    },
    {
      "cell_type": "code",
      "metadata": {
        "colab": {
          "base_uri": "https://localhost:8080/"
        },
        "id": "RuEKkOoWVKif",
        "outputId": "6e6e2281-1fd4-473e-f90a-3372cfc23697"
      },
      "source": [
        "count = 0\n",
        "for i in cleaned_text:\n",
        "    if(len(i.split())<=55):\n",
        "        count += 1\n",
        "print(count/len(cleaned_text))"
      ],
      "execution_count": null,
      "outputs": [
        {
          "output_type": "stream",
          "text": [
            "1.0\n"
          ],
          "name": "stdout"
        }
      ]
    },
    {
      "cell_type": "code",
      "metadata": {
        "colab": {
          "base_uri": "https://localhost:8080/",
          "height": 293
        },
        "id": "pD42ZjK9XSGV",
        "outputId": "84766d64-5003-419a-e896-3c73e9feb811"
      },
      "source": [
        "max_headlines_len=15\n",
        "max_text_len=55\n",
        "\n",
        "cleaned_text = np.array(cleaned_text)\n",
        "cleaned_headlines = np.array(cleaned_headlines)\n",
        "\n",
        "short_text=[]\n",
        "short_headlines=[]\n",
        "\n",
        "for i in range(len(cleaned_text)):\n",
        "    \n",
        "    if(len(cleaned_headlines[i].split())<=max_headlines_len and len(cleaned_text[i].split())<=max_text_len):\n",
        "        short_text.append(cleaned_text[i])\n",
        "        short_headlines.append(cleaned_headlines[i])\n",
        "\n",
        "df=pd.DataFrame({'text':short_text,'headlines':short_headlines})\n",
        "df['headlines'] = df['headlines'].apply(lambda x : 'sostok '+ x + ' eostok')\n",
        "\n",
        "from sklearn.model_selection import train_test_split\n",
        "x_tr,x_val,y_tr,y_val=train_test_split(np.array(df['text']),np.array(df['headlines']),test_size=0.1,random_state=0,shuffle=True)\n",
        "df.head()"
      ],
      "execution_count": null,
      "outputs": [
        {
          "output_type": "execute_result",
          "data": {
            "text/html": [
              "<div>\n",
              "<style scoped>\n",
              "    .dataframe tbody tr th:only-of-type {\n",
              "        vertical-align: middle;\n",
              "    }\n",
              "\n",
              "    .dataframe tbody tr th {\n",
              "        vertical-align: top;\n",
              "    }\n",
              "\n",
              "    .dataframe thead th {\n",
              "        text-align: right;\n",
              "    }\n",
              "</style>\n",
              "<table border=\"1\" class=\"dataframe\">\n",
              "  <thead>\n",
              "    <tr style=\"text-align: right;\">\n",
              "      <th></th>\n",
              "      <th>text</th>\n",
              "      <th>headlines</th>\n",
              "    </tr>\n",
              "  </thead>\n",
              "  <tbody>\n",
              "    <tr>\n",
              "      <th>0</th>\n",
              "      <td>administration union territory daman diu revoked order made compulsory women tie rakhis male colleagues occasion rakshabandhan august 7 administration forced withdraw decision within 24 hours issu...</td>\n",
              "      <td>sostok daman   diu revokes mandatory rakshabandhan in offices order eostok</td>\n",
              "    </tr>\n",
              "    <tr>\n",
              "      <th>1</th>\n",
              "      <td>malaika arora slammed instagram user trolled divorcing rich man fun alimony life wearing short clothes going gym salon enjoying vacation user commented malaika responded certainly got get damn fac...</td>\n",
              "      <td>sostok malaika slams user who trolled her for 'divorcing rich man' eostok</td>\n",
              "    </tr>\n",
              "    <tr>\n",
              "      <th>2</th>\n",
              "      <td>indira gandhi institute medical sciences igims patna thursday made corrections marital declaration form changing 'virgin' option 'unmarried' earlier bihar health minister defined virgin unmarried ...</td>\n",
              "      <td>sostok 'virgin' now corrected to 'unmarried' in igims' form eostok</td>\n",
              "    </tr>\n",
              "    <tr>\n",
              "      <th>3</th>\n",
              "      <td>lashkar e taiba kashmir commander abu dujana killed security forces said kabhi hum aage kabhi aap aaj aapne pakad liya mubarak ho aapko today caught congratulations caught added surrender whatever...</td>\n",
              "      <td>sostok aaj aapne pakad liya  let man dujana before being killed eostok</td>\n",
              "    </tr>\n",
              "    <tr>\n",
              "      <th>4</th>\n",
              "      <td>hotels maharashtra train staff spot signs sex trafficking including frequent requests bed linen changes 'do disturb' signs left room doors days mobile phone app called rescue allow staff alert pol...</td>\n",
              "      <td>sostok hotel staff to get training to spot signs of sex trafficking eostok</td>\n",
              "    </tr>\n",
              "  </tbody>\n",
              "</table>\n",
              "</div>"
            ],
            "text/plain": [
              "                                                                                                                                                                                                      text                                                                   headlines\n",
              "0  administration union territory daman diu revoked order made compulsory women tie rakhis male colleagues occasion rakshabandhan august 7 administration forced withdraw decision within 24 hours issu...  sostok daman   diu revokes mandatory rakshabandhan in offices order eostok\n",
              "1  malaika arora slammed instagram user trolled divorcing rich man fun alimony life wearing short clothes going gym salon enjoying vacation user commented malaika responded certainly got get damn fac...   sostok malaika slams user who trolled her for 'divorcing rich man' eostok\n",
              "2  indira gandhi institute medical sciences igims patna thursday made corrections marital declaration form changing 'virgin' option 'unmarried' earlier bihar health minister defined virgin unmarried ...          sostok 'virgin' now corrected to 'unmarried' in igims' form eostok\n",
              "3  lashkar e taiba kashmir commander abu dujana killed security forces said kabhi hum aage kabhi aap aaj aapne pakad liya mubarak ho aapko today caught congratulations caught added surrender whatever...      sostok aaj aapne pakad liya  let man dujana before being killed eostok\n",
              "4  hotels maharashtra train staff spot signs sex trafficking including frequent requests bed linen changes 'do disturb' signs left room doors days mobile phone app called rescue allow staff alert pol...  sostok hotel staff to get training to spot signs of sex trafficking eostok"
            ]
          },
          "metadata": {
            "tags": []
          },
          "execution_count": 19
        }
      ]
    },
    {
      "cell_type": "code",
      "metadata": {
        "colab": {
          "base_uri": "https://localhost:8080/"
        },
        "id": "demsqyHEXSI8",
        "outputId": "f20f7b88-16dc-467e-9e86-ccb48744adb9"
      },
      "source": [
        "from keras.preprocessing.text import Tokenizer \n",
        "from keras.preprocessing.sequence import pad_sequences\n",
        "\n",
        "#prepare a tokenizer for reviews on training data\n",
        "x_tokenizer = Tokenizer() \n",
        "x_tokenizer.fit_on_texts(list(x_tr))\n",
        "\n",
        "thresh=4\n",
        "cnt=0\n",
        "tot_cnt=0\n",
        "freq=0\n",
        "tot_freq=0\n",
        "\n",
        "for key,value in x_tokenizer.word_counts.items():\n",
        "    tot_cnt=tot_cnt+1\n",
        "    tot_freq=tot_freq+value\n",
        "    if(value<thresh):\n",
        "        cnt=cnt+1\n",
        "        freq=freq+value\n",
        "    \n",
        "print(\"% of rare words in vocabulary:\",(cnt/tot_cnt)*100)\n",
        "print(\"Total Coverage of rare words:\",(freq/tot_freq)*100)\n",
        "\n",
        "#prepare a tokenizer for reviews on training data\n",
        "x_tokenizer = Tokenizer(num_words=tot_cnt-cnt) \n",
        "x_tokenizer.fit_on_texts(list(x_tr))\n",
        "\n",
        "#convert text sequences into integer sequences\n",
        "x_tr_seq    =   x_tokenizer.texts_to_sequences(x_tr) \n",
        "x_val_seq   =   x_tokenizer.texts_to_sequences(x_val)\n",
        "\n",
        "#padding zero upto maximum length\n",
        "x_tr    =   pad_sequences(x_tr_seq,  maxlen=max_text_len, padding='post')\n",
        "x_val   =   pad_sequences(x_val_seq, maxlen=max_text_len, padding='post')\n",
        "\n",
        "#size of vocabulary ( +1 for padding token)\n",
        "x_voc   =  x_tokenizer.num_words + 1\n",
        "\n",
        "print(x_voc)"
      ],
      "execution_count": null,
      "outputs": [
        {
          "output_type": "stream",
          "text": [
            "% of rare words in vocabulary: 68.12220256063287\n",
            "Total Coverage of rare words: 13.023654231389239\n",
            "6126\n"
          ],
          "name": "stdout"
        }
      ]
    },
    {
      "cell_type": "code",
      "metadata": {
        "colab": {
          "base_uri": "https://localhost:8080/"
        },
        "id": "ziLY0zLUXSOb",
        "outputId": "ada1d27a-dfc4-4c30-a06c-43b25966a356"
      },
      "source": [
        "#prepare a tokenizer for reviews on training data\n",
        "y_tokenizer = Tokenizer()   \n",
        "y_tokenizer.fit_on_texts(list(y_tr))\n",
        "\n",
        "thresh=6\n",
        "cnt=0\n",
        "tot_cnt=0\n",
        "freq=0\n",
        "tot_freq=0\n",
        "\n",
        "for key,value in y_tokenizer.word_counts.items():\n",
        "    tot_cnt=tot_cnt+1\n",
        "    tot_freq=tot_freq+value\n",
        "    if(value<thresh):\n",
        "        cnt=cnt+1\n",
        "        freq=freq+value\n",
        "    \n",
        "print(\"% of rare words in vocabulary:\",(cnt/tot_cnt)*100)\n",
        "print(\"Total Coverage of rare words:\",(freq/tot_freq)*100)\n",
        "\n",
        "#prepare a tokenizer for reviews on training data\n",
        "y_tokenizer = Tokenizer(num_words=tot_cnt-cnt) \n",
        "y_tokenizer.fit_on_texts(list(y_tr))\n",
        "\n",
        "#convert text sequences into integer sequences\n",
        "y_tr_seq    =   y_tokenizer.texts_to_sequences(y_tr) \n",
        "y_val_seq   =   y_tokenizer.texts_to_sequences(y_val) \n",
        "\n",
        "#padding zero upto maximum length\n",
        "y_tr    =   pad_sequences(y_tr_seq, maxlen=max_headlines_len, padding='post')\n",
        "y_val   =   pad_sequences(y_val_seq, maxlen=max_headlines_len, padding='post')\n",
        "\n",
        "#size of vocabulary\n",
        "y_voc  =   y_tokenizer.num_words +1\n",
        "\n",
        "y_tokenizer.word_counts['sostok'],len(y_tr)"
      ],
      "execution_count": null,
      "outputs": [
        {
          "output_type": "stream",
          "text": [
            "% of rare words in vocabulary: 85.91779542269967\n",
            "Total Coverage of rare words: 26.708114207848066\n"
          ],
          "name": "stdout"
        },
        {
          "output_type": "execute_result",
          "data": {
            "text/plain": [
              "(4062, 4062)"
            ]
          },
          "metadata": {
            "tags": []
          },
          "execution_count": 21
        }
      ]
    },
    {
      "cell_type": "code",
      "metadata": {
        "id": "tKVHHuSfXSVd"
      },
      "source": [
        "ind=[]\n",
        "for i in range(len(y_tr)):\n",
        "    cnt=0\n",
        "    for j in y_tr[i]:\n",
        "        if j!=0:\n",
        "            cnt=cnt+1\n",
        "    if(cnt==2):\n",
        "        ind.append(i)\n",
        "\n",
        "y_tr=np.delete(y_tr,ind, axis=0)\n",
        "x_tr=np.delete(x_tr,ind, axis=0)\n",
        "\n",
        "ind=[]\n",
        "for i in range(len(y_val)):\n",
        "    cnt=0\n",
        "    for j in y_val[i]:\n",
        "        if j!=0:\n",
        "            cnt=cnt+1\n",
        "    if(cnt==2):\n",
        "        ind.append(i)\n",
        "\n",
        "y_val=np.delete(y_val,ind, axis=0)\n",
        "x_val=np.delete(x_val,ind, axis=0)"
      ],
      "execution_count": null,
      "outputs": []
    },
    {
      "cell_type": "code",
      "metadata": {
        "colab": {
          "base_uri": "https://localhost:8080/"
        },
        "id": "xMrCUmGGi8TQ",
        "outputId": "7bbb9f26-0f25-415c-d06a-d4f38cdae1c5"
      },
      "source": [
        "print(x_tr)"
      ],
      "execution_count": null,
      "outputs": [
        {
          "output_type": "stream",
          "text": [
            "[[   7  532 1204 ...    0    0    0]\n",
            " [  72  179    9 ...    0    0    0]\n",
            " [  56  416  624 ...    0    0    0]\n",
            " ...\n",
            " [  40 5935 5936 ...    0    0    0]\n",
            " [  53  967  199 ...    0    0    0]\n",
            " [  97   52 4470 ...    0    0    0]]\n"
          ],
          "name": "stdout"
        }
      ]
    },
    {
      "cell_type": "code",
      "metadata": {
        "colab": {
          "base_uri": "https://localhost:8080/"
        },
        "id": "LJiKxAP6Y7DG",
        "outputId": "5c92502c-4ac6-4634-b17d-2209d28c6544"
      },
      "source": [
        "pip install keras-attention"
      ],
      "execution_count": null,
      "outputs": [
        {
          "output_type": "stream",
          "text": [
            "Collecting keras-attention\n",
            "  Downloading https://files.pythonhosted.org/packages/9a/e9/1373dff1b2dd7cb45208d224c84d7a2bddcf0519f01d98f07d8ce15dc4be/keras_attention-1.0.0-py3-none-any.whl\n",
            "Requirement already satisfied: keras in /usr/local/lib/python3.6/dist-packages (from keras-attention) (2.4.3)\n",
            "Requirement already satisfied: numpy>=1.9.1 in /usr/local/lib/python3.6/dist-packages (from keras->keras-attention) (1.19.4)\n",
            "Requirement already satisfied: pyyaml in /usr/local/lib/python3.6/dist-packages (from keras->keras-attention) (3.13)\n",
            "Requirement already satisfied: scipy>=0.14 in /usr/local/lib/python3.6/dist-packages (from keras->keras-attention) (1.4.1)\n",
            "Requirement already satisfied: h5py in /usr/local/lib/python3.6/dist-packages (from keras->keras-attention) (2.10.0)\n",
            "Requirement already satisfied: six in /usr/local/lib/python3.6/dist-packages (from h5py->keras->keras-attention) (1.15.0)\n",
            "Installing collected packages: keras-attention\n",
            "Successfully installed keras-attention-1.0.0\n"
          ],
          "name": "stdout"
        }
      ]
    },
    {
      "cell_type": "code",
      "metadata": {
        "id": "HTtFgWGOaDsl"
      },
      "source": [
        "import tensorflow as tf\n"
      ],
      "execution_count": null,
      "outputs": []
    },
    {
      "cell_type": "code",
      "metadata": {
        "colab": {
          "base_uri": "https://localhost:8080/"
        },
        "id": "ZapiDBE6hJ4B",
        "outputId": "5579b673-2f79-41d6-a182-1f43d8ab2b4b"
      },
      "source": [
        "pip install keras-self-attention"
      ],
      "execution_count": null,
      "outputs": [
        {
          "output_type": "stream",
          "text": [
            "Collecting keras-self-attention\n",
            "  Downloading https://files.pythonhosted.org/packages/39/0d/b8ab8469ae55cea199574f4d2c30da4656d310a833a67bb422ad8a056bf0/keras-self-attention-0.47.0.tar.gz\n",
            "Requirement already satisfied: numpy in /usr/local/lib/python3.6/dist-packages (from keras-self-attention) (1.19.4)\n",
            "Requirement already satisfied: Keras in /usr/local/lib/python3.6/dist-packages (from keras-self-attention) (2.4.3)\n",
            "Requirement already satisfied: scipy>=0.14 in /usr/local/lib/python3.6/dist-packages (from Keras->keras-self-attention) (1.4.1)\n",
            "Requirement already satisfied: h5py in /usr/local/lib/python3.6/dist-packages (from Keras->keras-self-attention) (2.10.0)\n",
            "Requirement already satisfied: pyyaml in /usr/local/lib/python3.6/dist-packages (from Keras->keras-self-attention) (3.13)\n",
            "Requirement already satisfied: six in /usr/local/lib/python3.6/dist-packages (from h5py->Keras->keras-self-attention) (1.15.0)\n",
            "Building wheels for collected packages: keras-self-attention\n",
            "  Building wheel for keras-self-attention (setup.py) ... \u001b[?25l\u001b[?25hdone\n",
            "  Created wheel for keras-self-attention: filename=keras_self_attention-0.47.0-cp36-none-any.whl size=17290 sha256=5ea3d78f343d89c32a51d3698b3fd6f9eb66b1fe82dfc8a15908376d4607286b\n",
            "  Stored in directory: /root/.cache/pip/wheels/70/87/01/76c703d5401b65e323927c1fdc665f3fb143282ff67d71e859\n",
            "Successfully built keras-self-attention\n",
            "Installing collected packages: keras-self-attention\n",
            "Successfully installed keras-self-attention-0.47.0\n"
          ],
          "name": "stdout"
        }
      ]
    },
    {
      "cell_type": "code",
      "metadata": {
        "id": "80x8jJ3XdbfX"
      },
      "source": [
        "from keras_self_attention import SeqSelfAttention"
      ],
      "execution_count": null,
      "outputs": []
    },
    {
      "cell_type": "code",
      "metadata": {
        "colab": {
          "base_uri": "https://localhost:8080/"
        },
        "id": "n0EMd7MQXSdd",
        "outputId": "cef355d8-5291-4319-afe3-955931791f47"
      },
      "source": [
        "from keras import backend as K \n",
        "from tensorflow.keras.layers import dot, Activation\n",
        "# from tensorflow.keras.layers import AttentionLayer\n",
        "\n",
        "K.clear_session()\n",
        "#from attention import AttentionLayer\n",
        "latent_dim = 200\n",
        "embedding_dim=110\n",
        "\n",
        "# Encoder\n",
        "encoder_inputs = Input(shape=(max_text_len,))\n",
        "\n",
        "#embedding layer\n",
        "enc_emb =  Embedding(x_voc, embedding_dim,trainable=True)(encoder_inputs)\n",
        "\n",
        "#encoder lstm 1\n",
        "encoder_lstm1 = LSTM(latent_dim,return_sequences=True,return_state=True,dropout=0.4,recurrent_dropout=0.4)\n",
        "encoder_output1, state_h1, state_c1 = encoder_lstm1(enc_emb)\n",
        "\n",
        "#encoder lstm 2\n",
        "encoder_lstm2 = LSTM(latent_dim,return_sequences=True,return_state=True,dropout=0.4,recurrent_dropout=0.4)\n",
        "encoder_output2, state_h2, state_c2 = encoder_lstm2(encoder_output1)\n",
        "\n",
        "#encoder lstm 3\n",
        "encoder_lstm3=LSTM(latent_dim, return_state=True, return_sequences=True,dropout=0.4,recurrent_dropout=0.4)\n",
        "encoder_outputs, state_h, state_c= encoder_lstm3(encoder_output2)\n",
        "\n",
        "# Set up the decoder, using `encoder_states` as initial state.\n",
        "decoder_inputs = Input(shape=(None,))\n",
        "\n",
        "#embedding layer\n",
        "dec_emb_layer = Embedding(y_voc, embedding_dim,trainable=True)\n",
        "dec_emb = dec_emb_layer(decoder_inputs)\n",
        "\n",
        "decoder_lstm = LSTM(latent_dim, return_sequences=True, return_state=True,dropout=0.4,recurrent_dropout=0.2)\n",
        "decoder_outputs,decoder_fwd_state, decoder_back_state = decoder_lstm(dec_emb,initial_state=[state_h, state_c])\n",
        "\n",
        "# Attention layer\n",
        "attention = dot([decoder_outputs, encoder_outputs], axes=[2, 2])\n",
        "attention = Activation('softmax')(attention)\n",
        "attn_out = dot([attention, encoder_outputs], axes=[2,1])\n",
        "# attn_layer = AttentionLayer(name='attention_layer')\n",
        "# attn_layer = SeqSelfAttention(attention_activation='sigmoid')\n",
        "# attn_out, attn_states = attn_layer([encoder_outputs, decoder_outputs])\n",
        "\n",
        "# Concat attention input and decoder LSTM output\n",
        "decoder_concat_input = Concatenate(axis=-1, name='concat_layer')([decoder_outputs, attn_out])\n",
        "\n",
        "#dense layer\n",
        "decoder_dense =  TimeDistributed(Dense(y_voc, activation='softmax'))\n",
        "decoder_outputs = decoder_dense(decoder_concat_input)\n",
        "\n",
        "# Define the model \n",
        "model = Model([encoder_inputs, decoder_inputs], decoder_outputs)\n",
        "\n",
        "model.summary()"
      ],
      "execution_count": null,
      "outputs": [
        {
          "output_type": "stream",
          "text": [
            "Model: \"model\"\n",
            "__________________________________________________________________________________________________\n",
            "Layer (type)                    Output Shape         Param #     Connected to                     \n",
            "==================================================================================================\n",
            "input_1 (InputLayer)            [(None, 55)]         0                                            \n",
            "__________________________________________________________________________________________________\n",
            "embedding (Embedding)           (None, 55, 110)      673860      input_1[0][0]                    \n",
            "__________________________________________________________________________________________________\n",
            "lstm (LSTM)                     [(None, 55, 200), (N 248800      embedding[0][0]                  \n",
            "__________________________________________________________________________________________________\n",
            "input_2 (InputLayer)            [(None, None)]       0                                            \n",
            "__________________________________________________________________________________________________\n",
            "lstm_1 (LSTM)                   [(None, 55, 200), (N 320800      lstm[0][0]                       \n",
            "__________________________________________________________________________________________________\n",
            "embedding_1 (Embedding)         (None, None, 110)    132770      input_2[0][0]                    \n",
            "__________________________________________________________________________________________________\n",
            "lstm_2 (LSTM)                   [(None, 55, 200), (N 320800      lstm_1[0][0]                     \n",
            "__________________________________________________________________________________________________\n",
            "lstm_3 (LSTM)                   [(None, None, 200),  248800      embedding_1[0][0]                \n",
            "                                                                 lstm_2[0][1]                     \n",
            "                                                                 lstm_2[0][2]                     \n",
            "__________________________________________________________________________________________________\n",
            "dot (Dot)                       (None, None, 55)     0           lstm_3[0][0]                     \n",
            "                                                                 lstm_2[0][0]                     \n",
            "__________________________________________________________________________________________________\n",
            "activation (Activation)         (None, None, 55)     0           dot[0][0]                        \n",
            "__________________________________________________________________________________________________\n",
            "dot_1 (Dot)                     (None, None, 200)    0           activation[0][0]                 \n",
            "                                                                 lstm_2[0][0]                     \n",
            "__________________________________________________________________________________________________\n",
            "concat_layer (Concatenate)      (None, None, 400)    0           lstm_3[0][0]                     \n",
            "                                                                 dot_1[0][0]                      \n",
            "__________________________________________________________________________________________________\n",
            "time_distributed (TimeDistribut (None, None, 1207)   484007      concat_layer[0][0]               \n",
            "==================================================================================================\n",
            "Total params: 2,429,837\n",
            "Trainable params: 2,429,837\n",
            "Non-trainable params: 0\n",
            "__________________________________________________________________________________________________\n"
          ],
          "name": "stdout"
        }
      ]
    },
    {
      "cell_type": "code",
      "metadata": {
        "colab": {
          "base_uri": "https://localhost:8080/"
        },
        "id": "qmGwZ6TfjCte",
        "outputId": "acc3e1fe-fe06-4c3b-f684-56caadc3f212"
      },
      "source": [
        "print(x_tr)"
      ],
      "execution_count": null,
      "outputs": [
        {
          "output_type": "stream",
          "text": [
            "[[   7  532 1204 ...    0    0    0]\n",
            " [  72  179    9 ...    0    0    0]\n",
            " [  56  416  624 ...    0    0    0]\n",
            " ...\n",
            " [  40 5935 5936 ...    0    0    0]\n",
            " [  53  967  199 ...    0    0    0]\n",
            " [  97   52 4470 ...    0    0    0]]\n"
          ],
          "name": "stdout"
        }
      ]
    },
    {
      "cell_type": "code",
      "metadata": {
        "colab": {
          "base_uri": "https://localhost:8080/"
        },
        "id": "c5-OfDivXSfQ",
        "outputId": "58355114-f0f1-4302-dc35-d5a1ee420cca"
      },
      "source": [
        "model.compile(optimizer='rmsprop', loss='sparse_categorical_crossentropy',metrics=['accuracy'])\n",
        "#es = EarlyStopping(monitor='val_loss', mode='min', verbose=1,patience=2)\n",
        "history=model.fit([x_tr,y_tr[:,:-1]], y_tr.reshape(y_tr.shape[0],y_tr.shape[1], 1)[:,1:] ,epochs=30,batch_size=128, validation_data=([x_val,y_val[:,:-1]], y_val.reshape(y_val.shape[0],y_val.shape[1], 1)[:,1:]))"
      ],
      "execution_count": null,
      "outputs": [
        {
          "output_type": "stream",
          "text": [
            "Epoch 1/30\n",
            "32/32 [==============================] - 266s 8s/step - loss: 2.4978 - accuracy: 0.5791 - val_loss: 2.6327 - val_accuracy: 0.5872\n",
            "Epoch 2/30\n",
            "32/32 [==============================] - 250s 8s/step - loss: 2.4408 - accuracy: 0.5825 - val_loss: 2.6332 - val_accuracy: 0.5847\n",
            "Epoch 3/30\n",
            "32/32 [==============================] - 253s 8s/step - loss: 2.3931 - accuracy: 0.5882 - val_loss: 2.6347 - val_accuracy: 0.5904\n",
            "Epoch 4/30\n",
            "32/32 [==============================] - 246s 8s/step - loss: 2.3729 - accuracy: 0.5878 - val_loss: 2.6387 - val_accuracy: 0.5896\n",
            "Epoch 5/30\n",
            "32/32 [==============================] - 249s 8s/step - loss: 2.3655 - accuracy: 0.5872 - val_loss: 2.6402 - val_accuracy: 0.5877\n",
            "Epoch 6/30\n",
            "32/32 [==============================] - 248s 8s/step - loss: 2.3346 - accuracy: 0.5917 - val_loss: 2.6290 - val_accuracy: 0.5875\n",
            "Epoch 7/30\n",
            "32/32 [==============================] - 245s 8s/step - loss: 2.3054 - accuracy: 0.5920 - val_loss: 2.6301 - val_accuracy: 0.5875\n",
            "Epoch 8/30\n",
            "32/32 [==============================] - 241s 8s/step - loss: 2.2784 - accuracy: 0.5941 - val_loss: 2.6349 - val_accuracy: 0.5902\n",
            "Epoch 9/30\n",
            "32/32 [==============================] - 243s 8s/step - loss: 2.2502 - accuracy: 0.5975 - val_loss: 2.6356 - val_accuracy: 0.5901\n",
            "Epoch 10/30\n",
            "32/32 [==============================] - 242s 8s/step - loss: 2.2431 - accuracy: 0.5938 - val_loss: 2.6432 - val_accuracy: 0.5902\n",
            "Epoch 11/30\n",
            "32/32 [==============================] - 251s 8s/step - loss: 2.2190 - accuracy: 0.5960 - val_loss: 2.6393 - val_accuracy: 0.5882\n",
            "Epoch 12/30\n",
            "32/32 [==============================] - 248s 8s/step - loss: 2.1866 - accuracy: 0.6002 - val_loss: 2.6389 - val_accuracy: 0.5887\n",
            "Epoch 13/30\n",
            "32/32 [==============================] - 244s 8s/step - loss: 2.1829 - accuracy: 0.5993 - val_loss: 2.6389 - val_accuracy: 0.5898\n",
            "Epoch 14/30\n",
            "32/32 [==============================] - 252s 8s/step - loss: 2.1326 - accuracy: 0.6056 - val_loss: 2.6438 - val_accuracy: 0.5896\n",
            "Epoch 15/30\n",
            "32/32 [==============================] - 249s 8s/step - loss: 2.1162 - accuracy: 0.6059 - val_loss: 2.6546 - val_accuracy: 0.5861\n",
            "Epoch 16/30\n",
            "32/32 [==============================] - 245s 8s/step - loss: 2.1025 - accuracy: 0.6049 - val_loss: 2.6553 - val_accuracy: 0.5887\n",
            "Epoch 17/30\n",
            "32/32 [==============================] - 243s 8s/step - loss: 2.0718 - accuracy: 0.6103 - val_loss: 2.6640 - val_accuracy: 0.5866\n",
            "Epoch 18/30\n",
            "32/32 [==============================] - 248s 8s/step - loss: 2.0547 - accuracy: 0.6101 - val_loss: 2.6664 - val_accuracy: 0.5879\n",
            "Epoch 19/30\n",
            "32/32 [==============================] - 255s 8s/step - loss: 1.9970 - accuracy: 0.6181 - val_loss: 2.6677 - val_accuracy: 0.5893\n",
            "Epoch 20/30\n",
            "32/32 [==============================] - 249s 8s/step - loss: 1.9903 - accuracy: 0.6169 - val_loss: 2.6692 - val_accuracy: 0.5879\n",
            "Epoch 21/30\n",
            "32/32 [==============================] - 250s 8s/step - loss: 1.9766 - accuracy: 0.6195 - val_loss: 2.6733 - val_accuracy: 0.5847\n",
            "Epoch 22/30\n",
            "32/32 [==============================] - 249s 8s/step - loss: 1.9542 - accuracy: 0.6192 - val_loss: 2.6790 - val_accuracy: 0.5882\n",
            "Epoch 23/30\n",
            "32/32 [==============================] - 250s 8s/step - loss: 1.9252 - accuracy: 0.6249 - val_loss: 2.6880 - val_accuracy: 0.5855\n",
            "Epoch 24/30\n",
            "32/32 [==============================] - 244s 8s/step - loss: 1.8909 - accuracy: 0.6268 - val_loss: 2.7042 - val_accuracy: 0.5852\n",
            "Epoch 25/30\n",
            "32/32 [==============================] - 243s 8s/step - loss: 1.8690 - accuracy: 0.6299 - val_loss: 2.7082 - val_accuracy: 0.5871\n",
            "Epoch 26/30\n",
            "32/32 [==============================] - 242s 8s/step - loss: 1.8578 - accuracy: 0.6314 - val_loss: 2.7114 - val_accuracy: 0.5814\n",
            "Epoch 27/30\n",
            "32/32 [==============================] - 246s 8s/step - loss: 1.8274 - accuracy: 0.6347 - val_loss: 2.7114 - val_accuracy: 0.5838\n",
            "Epoch 28/30\n",
            "32/32 [==============================] - 241s 8s/step - loss: 1.8084 - accuracy: 0.6364 - val_loss: 2.7233 - val_accuracy: 0.5849\n",
            "Epoch 29/30\n",
            "32/32 [==============================] - 242s 8s/step - loss: 1.8035 - accuracy: 0.6359 - val_loss: 2.7336 - val_accuracy: 0.5844\n",
            "Epoch 30/30\n",
            "32/32 [==============================] - 243s 8s/step - loss: 1.7772 - accuracy: 0.6399 - val_loss: 2.7409 - val_accuracy: 0.5872\n"
          ],
          "name": "stdout"
        }
      ]
    },
    {
      "cell_type": "code",
      "metadata": {
        "id": "QklE6iL1XSjH"
      },
      "source": [
        "acc=history.history['accuracy']"
      ],
      "execution_count": null,
      "outputs": []
    },
    {
      "cell_type": "code",
      "metadata": {
        "colab": {
          "base_uri": "https://localhost:8080/"
        },
        "id": "sDKVjhi9jJh9",
        "outputId": "0985dab3-598a-4a73-a8a3-999c0b9864b6"
      },
      "source": [
        "print(x_tr)"
      ],
      "execution_count": null,
      "outputs": [
        {
          "output_type": "stream",
          "text": [
            "[[   1   37    7 ...    0    0    0]\n",
            " [4576   55   36 ...    0    0    0]\n",
            " [   8 2185    1 ...    0    0    0]\n",
            " ...\n",
            " [  97 4088 4089 ...    0    0    0]\n",
            " [  53  100 1015 ...    0    0    0]\n",
            " [ 163    6  108 ...    0    0    0]]\n"
          ],
          "name": "stdout"
        }
      ]
    },
    {
      "cell_type": "code",
      "metadata": {
        "colab": {
          "base_uri": "https://localhost:8080/"
        },
        "id": "mvNHRiPXXSvZ",
        "outputId": "3dfacb25-d2e4-4197-dcde-37417829f210"
      },
      "source": [
        "max(acc)*100"
      ],
      "execution_count": null,
      "outputs": [
        {
          "output_type": "execute_result",
          "data": {
            "text/plain": [
              "64.11861777305603"
            ]
          },
          "metadata": {
            "tags": []
          },
          "execution_count": 80
        }
      ]
    },
    {
      "cell_type": "code",
      "metadata": {
        "colab": {
          "base_uri": "https://localhost:8080/",
          "height": 265
        },
        "id": "7c3TdU0nXSz4",
        "outputId": "c2dacc6a-43e1-4e8b-b4c4-bf1a8e6f1d88"
      },
      "source": [
        "from matplotlib import pyplot\n",
        "pyplot.plot(history.history['loss'], label='train')\n",
        "pyplot.plot(history.history['val_loss'], label='test')\n",
        "pyplot.legend()\n",
        "pyplot.show()"
      ],
      "execution_count": null,
      "outputs": [
        {
          "output_type": "display_data",
          "data": {
            "image/png": "[encoded data removed]",
            "text/plain": [
              "<Figure size 432x288 with 1 Axes>"
            ]
          },
          "metadata": {
            "tags": [],
            "needs_background": "light"
          }
        }
      ]
    },
    {
      "cell_type": "code",
      "metadata": {
        "colab": {
          "base_uri": "https://localhost:8080/",
          "height": 265
        },
        "id": "yoQvYxafXS21",
        "outputId": "02e5381c-ce31-4069-c544-3b4acc3c406c"
      },
      "source": [
        "from matplotlib import pyplot\n",
        "pyplot.plot(history.history['accuracy'], label='train')\n",
        "pyplot.plot(history.history['val_accuracy'], label='test')\n",
        "pyplot.legend()\n",
        "pyplot.show()"
      ],
      "execution_count": null,
      "outputs": [
        {
          "output_type": "display_data",
          "data": {
            "image/png": "[encoded data removed]",
            "text/plain": [
              "<Figure size 432x288 with 1 Axes>"
            ]
          },
          "metadata": {
            "tags": [],
            "needs_background": "light"
          }
        }
      ]
    },
    {
      "cell_type": "code",
      "metadata": {
        "id": "88HfyjxqXSuU",
        "colab": {
          "base_uri": "https://localhost:8080/",
          "height": 271
        },
        "outputId": "0b853a6f-e8b5-4d97-a22d-fe7a57811b91"
      },
      "source": [
        "reverse_target_word_index=y_tokenizer.index_word\n",
        "reverse_source_word_index=x_tokenizer.index_word\n",
        "target_word_index=y_tokenizer.word_index\n",
        "                                                                                                                                                                                                                                        \n",
        "# Encode the input sequence to get the feature vector\n",
        "encoder_model = Model(inputs=encoder_inputs,outputs=[encoder_outputs, state_h, state_c])\n",
        "\n",
        "# Decoder setup\n",
        "decoder_state_input_h = Input(shape=(latent_dim,))\n",
        "decoder_state_input_c = Input(shape=(latent_dim,))\n",
        "decoder_hidden_state_input = Input(shape=(max_text_len,latent_dim))\n",
        "dec_emb2= dec_emb_layer(decoder_inputs) \n",
        "decoder_outputs2, state_h2, state_c2 = decoder_lstm(dec_emb2, initial_state=[decoder_state_input_h, decoder_state_input_c])\n",
        "\n",
        "\"\"\"\n",
        "DEBUG: Check if Attention Layer works properly\n",
        "attention = dot([decoder_outputs, encoder_outputs], axes=[2, 2])\n",
        "attention = Activation('softmax')(attention)\n",
        "attn_out = dot([attention, encoder_outputs], axes=[2,1])\n",
        "\"\"\"\n",
        "attention = dot([decoder_outputs2, decoder_hidden_state_input], axes=[2, 2])\n",
        "attention = Activation('softmax')(attention)\n",
        "attn_out_inf = dot([attention, decoder_hidden_state_input], axes=[2,1])\n",
        "decoder_inf_concat = Concatenate(axis=-1, name='concat')([decoder_outputs2, attn_out_inf])\n",
        "decoder_outputs2 = decoder_dense(decoder_inf_concat) \n",
        "\n",
        "decoder_model = Model(\n",
        "    [decoder_inputs] + [decoder_hidden_state_input,decoder_state_input_h, decoder_state_input_c],\n",
        "    [decoder_outputs2] + [state_h2, state_c2])\n",
        "\n",
        "def decode_sequence(input_seq):\n",
        "    e_out, e_h, e_c = encoder_model.predict(input_seq)\n",
        "    target_seq = np.zeros((1,1))\n",
        "    target_seq[0, 0] = target_word_index['sostok']\n",
        "    stop_condition = False\n",
        "    decoded_sentence = ''\n",
        "    while not stop_condition:\n",
        "        output_tokens, h, c = decoder_model.predict([target_seq] + [e_out, e_h, e_c])\n",
        "        sampled_token_index = np.argmax(output_tokens[0, -1, :])\n",
        "        sampled_token = reverse_target_word_index[sampled_token_index]\n",
        "        if(sampled_token!='eostok'):\n",
        "            decoded_sentence += ' '+sampled_token\n",
        "        if (sampled_token == 'eostok'  or len(decoded_sentence.split()) >= (max_headlines_len-1)):\n",
        "            stop_condition = True\n",
        "        target_seq = np.zeros((1,1))\n",
        "        target_seq[0, 0] = sampled_token_index\n",
        "        e_h, e_c = h, c\n",
        "    return decoded_sentence\n",
        "\n",
        "def seq2summary(input_seq):\n",
        "    newString=''\n",
        "    for i in input_seq:\n",
        "        if((i!=0 and i!=target_word_index['sostok']) and i!=target_word_index['eostok']):\n",
        "            newString=newString+reverse_target_word_index[i]+' '\n",
        "    return newString\n",
        "\n",
        "def seq2text(input_seq):\n",
        "    newString=''\n",
        "    for i in input_seq:\n",
        "        if(i!=0):\n",
        "            newString=newString+reverse_source_word_index[i]+' '\n",
        "    return newString\n"
      ],
      "execution_count": null,
      "outputs": [
        {
          "output_type": "error",
          "ename": "TypeError",
          "evalue": "ignored",
          "traceback": [
            "\u001b[0;31m---------------------------------------------------------------------------\u001b[0m",
            "\u001b[0;31mTypeError\u001b[0m                                 Traceback (most recent call last)",
            "\u001b[0;32m<ipython-input-91-9c6dd6fc2741>\u001b[0m in \u001b[0;36m<module>\u001b[0;34m()\u001b[0m\n\u001b[1;32m     19\u001b[0m \u001b[0mattn_out\u001b[0m \u001b[0;34m=\u001b[0m \u001b[0mdot\u001b[0m\u001b[0;34m(\u001b[0m\u001b[0;34m[\u001b[0m\u001b[0mattention\u001b[0m\u001b[0;34m,\u001b[0m \u001b[0mencoder_outputs\u001b[0m\u001b[0;34m]\u001b[0m\u001b[0;34m,\u001b[0m \u001b[0maxes\u001b[0m\u001b[0;34m=\u001b[0m\u001b[0;34m[\u001b[0m\u001b[0;36m2\u001b[0m\u001b[0;34m,\u001b[0m\u001b[0;36m1\u001b[0m\u001b[0;34m]\u001b[0m\u001b[0;34m)\u001b[0m\u001b[0;34m\u001b[0m\u001b[0;34m\u001b[0m\u001b[0m\n\u001b[1;32m     20\u001b[0m \"\"\"\n\u001b[0;32m---> 21\u001b[0;31m \u001b[0mattention\u001b[0m \u001b[0;34m=\u001b[0m \u001b[0mdot\u001b[0m\u001b[0;34m(\u001b[0m\u001b[0;34m[\u001b[0m\u001b[0mdecoder_outputs2\u001b[0m\u001b[0;34m,\u001b[0m \u001b[0mdecoder_hidden_state_input\u001b[0m\u001b[0;34m]\u001b[0m\u001b[0;34m,\u001b[0m \u001b[0maxes\u001b[0m\u001b[0;34m=\u001b[0m\u001b[0;34m[\u001b[0m\u001b[0;36m2\u001b[0m\u001b[0;34m,\u001b[0m \u001b[0;36m2\u001b[0m\u001b[0;34m]\u001b[0m\u001b[0;34m)\u001b[0m\u001b[0;34m\u001b[0m\u001b[0;34m\u001b[0m\u001b[0m\n\u001b[0m\u001b[1;32m     22\u001b[0m \u001b[0mattention\u001b[0m \u001b[0;34m=\u001b[0m \u001b[0mActivation\u001b[0m\u001b[0;34m(\u001b[0m\u001b[0;34m'softmax'\u001b[0m\u001b[0;34m)\u001b[0m\u001b[0;34m(\u001b[0m\u001b[0mattention\u001b[0m\u001b[0;34m)\u001b[0m\u001b[0;34m\u001b[0m\u001b[0;34m\u001b[0m\u001b[0m\n\u001b[1;32m     23\u001b[0m \u001b[0mattn_out_inf\u001b[0m \u001b[0;34m=\u001b[0m \u001b[0mdot\u001b[0m\u001b[0;34m(\u001b[0m\u001b[0;34m[\u001b[0m\u001b[0mattention\u001b[0m\u001b[0;34m,\u001b[0m \u001b[0mdecoder_hidden_state_input\u001b[0m\u001b[0;34m]\u001b[0m\u001b[0;34m,\u001b[0m \u001b[0maxes\u001b[0m\u001b[0;34m=\u001b[0m\u001b[0;34m[\u001b[0m\u001b[0;36m2\u001b[0m\u001b[0;34m,\u001b[0m\u001b[0;36m1\u001b[0m\u001b[0;34m]\u001b[0m\u001b[0;34m)\u001b[0m\u001b[0;34m\u001b[0m\u001b[0;34m\u001b[0m\u001b[0m\n",
            "\u001b[0;32m<__array_function__ internals>\u001b[0m in \u001b[0;36mdot\u001b[0;34m(*args, **kwargs)\u001b[0m\n",
            "\u001b[0;31mTypeError\u001b[0m: dot() got an unexpected keyword argument 'axes'"
          ]
        }
      ]
    },
    {
      "cell_type": "code",
      "metadata": {
        "id": "bZswCKAxYoPD"
      },
      "source": [
        "text='''Santiago is a Shepherd who has a recurring dream which is supposedly prophetic. Inspired on learning this, he undertakes a journey to Egypt to discover the meaning of life and fulfill his destiny. During the course of his travels, he learns of his true purpose and meets many characters, including an “Alchemist”, that teach him valuable lessons about achieving his dreams. Santiago sets his sights on obtaining a certain kind of “treasure” for which he travels to Egypt. The key message is, “when you want something, all the universe conspires in helping you to achieve it.” Towards the final arc, Santiago gets robbed by bandits who end up revealing that the “treasure” he was looking for is buried in the place where his journey began. The end.'''"
      ],
      "execution_count": null,
      "outputs": []
    },
    {
      "cell_type": "code",
      "metadata": {
        "colab": {
          "base_uri": "https://localhost:8080/"
        },
        "id": "4Mcry4NTXSmE",
        "outputId": "1a72b8b0-5a57-42d3-f121-53770de9f00d"
      },
      "source": [
        "for i in range(0,7):\n",
        "    print(\"Review:\",seq2text(x_tr[i]))\n",
        "    print(\"Original summary:\",seq2summary(y_tr[i]))\n",
        "    print(\"Predicted summary:\",decode_sequence(x_tr[i].reshape(1,max_text_len)))\n",
        "    print(\"\\n\")"
      ],
      "execution_count": null,
      "outputs": [
        {
          "output_type": "stream",
          "text": [
            "Review: the police has banned in groups in leone citing public order and safety the police accused people in groups of insults traffic on vehicles playing music and property from other members of the public it said violators will be with according to law you have been warned \n",
            "Original summary: start bans in groups end \n",
            "Predicted summary:  start delhi airport to end\n",
            "\n",
            "\n",
            "Review: thirty two year old jammu and kashmir police officer ahmed dar who was buried on friday had written facebook post just yourself in your grave down there in that dark hole alone dar along with five other policemen was killed on friday in an in in anantnag district by suspected lashkar e taiba let militants \n",
            "Original summary: start just in cop on end \n",
            "Predicted summary:  start delhi metro to install end\n",
            "\n",
            "\n",
            "Review: for changing the names of the central government schemes bjp leader chandra kumar bose compared west bengal cm mamata banerjee to mughal babur who demolished ram temple in ayodhya and built babri masjid think it very of mamata to give name at the state level for the same scheme which the centre has actually adopted bose added \n",
            "Original summary: start bjp leader calls mamata for centre scheme end \n",
            "Predicted summary:  start delhi police to be in case end\n",
            "\n",
            "\n",
            "Review: delhi deputy chief minister manish sisodia on saturday claimed that his twitter account was hacked after anti hazare messages were from his account someone anti hazare messages from account trying to them not even getting deleted he said don believe them have greatest respect for can never say such things against him he added \n",
            "Original summary: start claims twitter after anti tweets appear end \n",
            "Predicted summary:  start shares pic of rajinikanth on his birthday end\n",
            "\n",
            "\n",
            "Review: pacer who appeared in five tests and 61 one day for south africa has been charged with match fixing by the nation cricket board the charges are related to south africa domestic series held in 2015 six other players have already been banned for trying to fix the outcome of matches in the t20 league \n",
            "Original summary: start south international charged with match fixing end \n",
            "Predicted summary:  start india to get record for of end\n",
            "\n",
            "\n",
            "Review: director christopher nolan film which released on friday is one of the greatest war movies ever made wrote hindustan times the guardian wrote it piece of film making while times of india called it the first real contender for best picture at oscars the film has been rated 5 5 hindustan times the guardian and 4 5 5 times of india \n",
            "Original summary: start hits the theatres end \n",
            "Predicted summary:  start i was to be end\n",
            "\n",
            "\n",
            "Review: like have been found in south african rocks dating back 2 4 billion years the oldest evidence of possible life by at most billion years the suggest it may have underwater scientists said if not the could be from an branch of life that hasn been described before scientists added \n",
            "Original summary: start world oldest in south end \n",
            "Predicted summary:  start to be in end\n",
            "\n",
            "\n"
          ],
          "name": "stdout"
        }
      ]
    },
    {
      "cell_type": "code",
      "metadata": {
        "colab": {
          "base_uri": "https://localhost:8080/"
        },
        "id": "HYMsqCo4XSUE",
        "outputId": "d8362299-251d-48f2-e36b-943acd88465c"
      },
      "source": [
        "!pip install git+https://github.com/tagucci/pythonrouge.git\r\n",
        "\r\n"
      ],
      "execution_count": null,
      "outputs": [
        {
          "output_type": "stream",
          "text": [
            "Collecting git+https://github.com/tagucci/pythonrouge.git\n",
            "  Cloning https://github.com/tagucci/pythonrouge.git to /tmp/pip-req-build-t5mtopaz\n",
            "  Running command git clone -q https://github.com/tagucci/pythonrouge.git /tmp/pip-req-build-t5mtopaz\n",
            "Building wheels for collected packages: pythonrouge\n",
            "  Building wheel for pythonrouge (setup.py) ... \u001b[?25l\u001b[?25hdone\n",
            "  Created wheel for pythonrouge: filename=pythonrouge-0.2-cp36-none-any.whl size=285402 sha256=4894cc2d5b63ae49ca4a2b4751976607f91fc3dbf513a846bef2241f1d925daf\n",
            "  Stored in directory: /tmp/pip-ephem-wheel-cache-nbdhn6hi/wheels/fd/ff/be/6716935d513fa8656ab185cb0aa70aed382b72dda42bf09c95\n",
            "Successfully built pythonrouge\n",
            "Installing collected packages: pythonrouge\n",
            "Successfully installed pythonrouge-0.2\n"
          ],
          "name": "stdout"
        }
      ]
    },
    {
      "cell_type": "code",
      "metadata": {
        "colab": {
          "base_uri": "https://localhost:8080/"
        },
        "id": "ALOmk7NSzzgA",
        "outputId": "27e35095-e879-4e00-e400-b1a915072342"
      },
      "source": [
        "!apt-get install -y cpanminus\r\n",
        "\r\n",
        "!cpanm --force XML::Parser"
      ],
      "execution_count": null,
      "outputs": [
        {
          "output_type": "stream",
          "text": [
            "Reading package lists... Done\n",
            "Building dependency tree       \n",
            "Reading state information... Done\n",
            "The following additional packages will be installed:\n",
            "  libalgorithm-c3-perl libb-hooks-endofscope-perl libb-hooks-op-check-perl\n",
            "  libclass-c3-perl libclass-c3-xs-perl libclass-method-modifiers-perl\n",
            "  libclass-xsaccessor-perl libcpan-changes-perl libcpan-distnameinfo-perl\n",
            "  libcpan-meta-check-perl libdata-optlist-perl libdata-perl-perl\n",
            "  libdata-section-perl libdevel-callchecker-perl\n",
            "  libdevel-globaldestruction-perl libdynaloader-functions-perl\n",
            "  libencode-locale-perl libexporter-tiny-perl libfile-pushd-perl\n",
            "  libfile-slurp-perl libgetopt-long-descriptive-perl libhtml-parser-perl\n",
            "  libhtml-tagset-perl libhttp-date-perl libhttp-message-perl\n",
            "  libimport-into-perl libio-html-perl libio-stringy-perl\n",
            "  liblist-moreutils-perl liblocal-lib-perl liblwp-mediatypes-perl\n",
            "  libmodule-build-perl libmodule-cpanfile-perl libmodule-implementation-perl\n",
            "  libmodule-runtime-perl libmodule-signature-perl libmoo-perl\n",
            "  libmoox-handlesvia-perl libmro-compat-perl libnamespace-autoclean-perl\n",
            "  libnamespace-clean-perl libpackage-stash-perl libpackage-stash-xs-perl\n",
            "  libparams-classify-perl libparams-util-perl libparams-validate-perl\n",
            "  libparse-pmfile-perl libpath-tiny-perl libpod-markdown-perl\n",
            "  libpod-readme-perl libreadonly-perl libref-util-perl libref-util-xs-perl\n",
            "  librole-tiny-perl libsoftware-license-perl libstrictures-perl\n",
            "  libstring-shellquote-perl libsub-exporter-perl\n",
            "  libsub-exporter-progressive-perl libsub-identify-perl libsub-install-perl\n",
            "  libsub-name-perl libsub-quote-perl libtext-template-perl libtimedate-perl\n",
            "  libtry-tiny-perl libtype-tiny-perl libtype-tiny-xs-perl libunicode-utf8-perl\n",
            "  liburi-perl libvariable-magic-perl\n",
            "Suggested packages:\n",
            "  libdata-dump-perl libscalar-number-perl libbareword-filehandles-perl\n",
            "  libindirect-perl libmultidimensional-perl libdevel-stacktrace-perl\n",
            "  libdevel-lexalias-perl libwww-perl\n",
            "The following NEW packages will be installed:\n",
            "  cpanminus libalgorithm-c3-perl libb-hooks-endofscope-perl\n",
            "  libb-hooks-op-check-perl libclass-c3-perl libclass-c3-xs-perl\n",
            "  libclass-method-modifiers-perl libclass-xsaccessor-perl libcpan-changes-perl\n",
            "  libcpan-distnameinfo-perl libcpan-meta-check-perl libdata-optlist-perl\n",
            "  libdata-perl-perl libdata-section-perl libdevel-callchecker-perl\n",
            "  libdevel-globaldestruction-perl libdynaloader-functions-perl\n",
            "  libencode-locale-perl libexporter-tiny-perl libfile-pushd-perl\n",
            "  libfile-slurp-perl libgetopt-long-descriptive-perl libhtml-parser-perl\n",
            "  libhtml-tagset-perl libhttp-date-perl libhttp-message-perl\n",
            "  libimport-into-perl libio-html-perl libio-stringy-perl\n",
            "  liblist-moreutils-perl liblocal-lib-perl liblwp-mediatypes-perl\n",
            "  libmodule-build-perl libmodule-cpanfile-perl libmodule-implementation-perl\n",
            "  libmodule-runtime-perl libmodule-signature-perl libmoo-perl\n",
            "  libmoox-handlesvia-perl libmro-compat-perl libnamespace-autoclean-perl\n",
            "  libnamespace-clean-perl libpackage-stash-perl libpackage-stash-xs-perl\n",
            "  libparams-classify-perl libparams-util-perl libparams-validate-perl\n",
            "  libparse-pmfile-perl libpath-tiny-perl libpod-markdown-perl\n",
            "  libpod-readme-perl libreadonly-perl libref-util-perl libref-util-xs-perl\n",
            "  librole-tiny-perl libsoftware-license-perl libstrictures-perl\n",
            "  libstring-shellquote-perl libsub-exporter-perl\n",
            "  libsub-exporter-progressive-perl libsub-identify-perl libsub-install-perl\n",
            "  libsub-name-perl libsub-quote-perl libtext-template-perl libtimedate-perl\n",
            "  libtry-tiny-perl libtype-tiny-perl libtype-tiny-xs-perl libunicode-utf8-perl\n",
            "  liburi-perl libvariable-magic-perl\n",
            "0 upgraded, 72 newly installed, 0 to remove and 14 not upgraded.\n",
            "Need to get 2,249 kB of archives.\n",
            "After this operation, 6,883 kB of additional disk space will be used.\n",
            "Get:1 http://archive.ubuntu.com/ubuntu bionic/universe amd64 libcpan-distnameinfo-perl all 0.12-1 [8,662 B]\n",
            "Get:2 http://archive.ubuntu.com/ubuntu bionic/universe amd64 libcpan-meta-check-perl all 0.014-1 [7,594 B]\n",
            "Get:3 http://archive.ubuntu.com/ubuntu bionic/universe amd64 libfile-pushd-perl all 1.014-1 [11.8 kB]\n",
            "Get:4 http://archive.ubuntu.com/ubuntu bionic/universe amd64 libmodule-build-perl all 0.422400-1 [201 kB]\n",
            "Get:5 http://archive.ubuntu.com/ubuntu bionic/universe amd64 liblocal-lib-perl all 2.000024-1 [46.1 kB]\n",
            "Get:6 http://archive.ubuntu.com/ubuntu bionic/universe amd64 libmodule-cpanfile-perl all 1.1002-1 [23.8 kB]\n",
            "Get:7 http://archive.ubuntu.com/ubuntu bionic/universe amd64 libparse-pmfile-perl all 0.41-1 [14.2 kB]\n",
            "Get:8 http://archive.ubuntu.com/ubuntu bionic/universe amd64 libstring-shellquote-perl all 1.04-1 [12.0 kB]\n",
            "Get:9 http://archive.ubuntu.com/ubuntu bionic/universe amd64 cpanminus all 1.7043-1 [58.0 kB]\n",
            "Get:10 http://archive.ubuntu.com/ubuntu bionic/universe amd64 libalgorithm-c3-perl all 0.10-1 [11.3 kB]\n",
            "Get:11 http://archive.ubuntu.com/ubuntu bionic/main amd64 libb-hooks-op-check-perl amd64 0.22-1 [10.1 kB]\n",
            "Get:12 http://archive.ubuntu.com/ubuntu bionic/main amd64 libdynaloader-functions-perl all 0.003-1 [11.9 kB]\n",
            "Get:13 http://archive.ubuntu.com/ubuntu bionic/main amd64 libdevel-callchecker-perl amd64 0.007-2build1 [14.1 kB]\n",
            "Get:14 http://archive.ubuntu.com/ubuntu bionic/main amd64 libparams-classify-perl amd64 0.015-1 [21.2 kB]\n",
            "Get:15 http://archive.ubuntu.com/ubuntu bionic/main amd64 libmodule-runtime-perl all 0.016-1 [16.2 kB]\n",
            "Get:16 http://archive.ubuntu.com/ubuntu bionic/main amd64 libtry-tiny-perl all 0.30-1 [20.5 kB]\n",
            "Get:17 http://archive.ubuntu.com/ubuntu bionic/main amd64 libmodule-implementation-perl all 0.09-1 [12.2 kB]\n",
            "Get:18 http://archive.ubuntu.com/ubuntu bionic/main amd64 libsub-exporter-progressive-perl all 0.001013-1 [6,784 B]\n",
            "Get:19 http://archive.ubuntu.com/ubuntu bionic/main amd64 libvariable-magic-perl amd64 0.62-1 [34.5 kB]\n",
            "Get:20 http://archive.ubuntu.com/ubuntu bionic/main amd64 libb-hooks-endofscope-perl all 0.21-1 [14.7 kB]\n",
            "Get:21 http://archive.ubuntu.com/ubuntu bionic/universe amd64 libclass-c3-perl all 0.33-1 [19.0 kB]\n",
            "Get:22 http://archive.ubuntu.com/ubuntu bionic/universe amd64 libclass-c3-xs-perl amd64 0.14-1build3 [15.8 kB]\n",
            "Get:23 http://archive.ubuntu.com/ubuntu bionic/main amd64 libclass-method-modifiers-perl all 2.12-1 [15.7 kB]\n",
            "Get:24 http://archive.ubuntu.com/ubuntu bionic/main amd64 libclass-xsaccessor-perl amd64 1.19-2build8 [32.8 kB]\n",
            "Get:25 http://archive.ubuntu.com/ubuntu bionic/universe amd64 libcpan-changes-perl all 0.400002-1 [32.0 kB]\n",
            "Get:26 http://archive.ubuntu.com/ubuntu bionic/main amd64 libparams-util-perl amd64 1.07-3build3 [19.6 kB]\n",
            "Get:27 http://archive.ubuntu.com/ubuntu bionic/main amd64 libsub-install-perl all 0.928-1 [10.5 kB]\n",
            "Get:28 http://archive.ubuntu.com/ubuntu bionic/main amd64 libdata-optlist-perl all 0.110-1 [9,956 B]\n",
            "Get:29 http://archive.ubuntu.com/ubuntu bionic/main amd64 libexporter-tiny-perl all 1.000000-2 [34.6 kB]\n",
            "Get:30 http://archive.ubuntu.com/ubuntu bionic/main amd64 liblist-moreutils-perl amd64 0.416-1build3 [55.5 kB]\n",
            "Get:31 http://archive.ubuntu.com/ubuntu bionic/main amd64 librole-tiny-perl all 2.000006-1 [15.9 kB]\n",
            "Get:32 http://archive.ubuntu.com/ubuntu bionic/main amd64 libstrictures-perl all 2.000003-1 [16.1 kB]\n",
            "Get:33 http://archive.ubuntu.com/ubuntu bionic/universe amd64 libdata-perl-perl all 0.002009-2 [39.1 kB]\n",
            "Get:34 http://archive.ubuntu.com/ubuntu bionic/universe amd64 libmro-compat-perl all 0.13-1 [11.2 kB]\n",
            "Get:35 http://archive.ubuntu.com/ubuntu bionic/main amd64 libsub-exporter-perl all 0.987-1 [44.9 kB]\n",
            "Get:36 http://archive.ubuntu.com/ubuntu bionic/universe amd64 libdata-section-perl all 0.200007-1 [11.8 kB]\n",
            "Get:37 http://archive.ubuntu.com/ubuntu bionic/main amd64 libdevel-globaldestruction-perl all 0.14-1 [6,752 B]\n",
            "Get:38 http://archive.ubuntu.com/ubuntu bionic/main amd64 libencode-locale-perl all 1.05-1 [12.3 kB]\n",
            "Get:39 http://archive.ubuntu.com/ubuntu bionic/universe amd64 libfile-slurp-perl all 9999.19-6 [38.5 kB]\n",
            "Get:40 http://archive.ubuntu.com/ubuntu bionic/main amd64 libio-stringy-perl all 2.111-2 [60.6 kB]\n",
            "Get:41 http://archive.ubuntu.com/ubuntu bionic/main amd64 libparams-validate-perl amd64 1.29-1 [52.3 kB]\n",
            "Get:42 http://archive.ubuntu.com/ubuntu bionic/main amd64 libgetopt-long-descriptive-perl all 0.102-1 [24.4 kB]\n",
            "Get:43 http://archive.ubuntu.com/ubuntu bionic/main amd64 libhtml-tagset-perl all 3.20-3 [12.1 kB]\n",
            "Get:44 http://archive.ubuntu.com/ubuntu bionic/main amd64 liburi-perl all 1.73-1 [77.2 kB]\n",
            "Get:45 http://archive.ubuntu.com/ubuntu bionic/main amd64 libhtml-parser-perl amd64 3.72-3build1 [85.9 kB]\n",
            "Get:46 http://archive.ubuntu.com/ubuntu bionic/main amd64 libtimedate-perl all 2.3000-2 [37.5 kB]\n",
            "Get:47 http://archive.ubuntu.com/ubuntu bionic/main amd64 libhttp-date-perl all 6.02-1 [10.4 kB]\n",
            "Get:48 http://archive.ubuntu.com/ubuntu bionic/main amd64 libio-html-perl all 1.001-1 [14.9 kB]\n",
            "Get:49 http://archive.ubuntu.com/ubuntu bionic/main amd64 liblwp-mediatypes-perl all 6.02-1 [21.7 kB]\n",
            "Get:50 http://archive.ubuntu.com/ubuntu bionic/main amd64 libhttp-message-perl all 6.14-1 [72.1 kB]\n",
            "Get:51 http://archive.ubuntu.com/ubuntu bionic/main amd64 libimport-into-perl all 1.002005-1 [11.0 kB]\n",
            "Get:52 http://archive.ubuntu.com/ubuntu bionic/universe amd64 libmodule-signature-perl all 0.81-1 [22.9 kB]\n",
            "Get:53 http://archive.ubuntu.com/ubuntu bionic/main amd64 libsub-quote-perl all 2.005000-1 [17.0 kB]\n",
            "Get:54 http://archive.ubuntu.com/ubuntu bionic/main amd64 libmoo-perl all 2.003004-1 [45.5 kB]\n",
            "Get:55 http://archive.ubuntu.com/ubuntu bionic/universe amd64 libmoox-handlesvia-perl all 0.001008-3 [17.6 kB]\n",
            "Get:56 http://archive.ubuntu.com/ubuntu bionic/main amd64 libpackage-stash-perl all 0.37-1 [18.3 kB]\n",
            "Get:57 http://archive.ubuntu.com/ubuntu bionic/main amd64 libsub-identify-perl amd64 0.14-1 [10.5 kB]\n",
            "Get:58 http://archive.ubuntu.com/ubuntu bionic/main amd64 libsub-name-perl amd64 0.21-1build1 [11.6 kB]\n",
            "Get:59 http://archive.ubuntu.com/ubuntu bionic/main amd64 libnamespace-clean-perl all 0.27-1 [13.6 kB]\n",
            "Get:60 http://archive.ubuntu.com/ubuntu bionic/universe amd64 libnamespace-autoclean-perl all 0.28-1 [12.5 kB]\n",
            "Get:61 http://archive.ubuntu.com/ubuntu bionic/main amd64 libpackage-stash-xs-perl amd64 0.28-3build2 [16.4 kB]\n",
            "Get:62 http://archive.ubuntu.com/ubuntu bionic/main amd64 libpath-tiny-perl all 0.104-1 [55.3 kB]\n",
            "Get:63 http://archive.ubuntu.com/ubuntu bionic/universe amd64 libpod-markdown-perl all 3.005000-1 [27.9 kB]\n",
            "Get:64 http://archive.ubuntu.com/ubuntu bionic/universe amd64 libtype-tiny-perl all 1.002001-1 [226 kB]\n",
            "Get:65 http://archive.ubuntu.com/ubuntu bionic/universe amd64 libpod-readme-perl all 1.1.2-2 [32.9 kB]\n",
            "Get:66 http://archive.ubuntu.com/ubuntu bionic/universe amd64 libreadonly-perl all 2.050-1 [19.8 kB]\n",
            "Get:67 http://archive.ubuntu.com/ubuntu bionic/universe amd64 libref-util-perl all 0.203-1 [14.8 kB]\n",
            "Get:68 http://archive.ubuntu.com/ubuntu bionic/universe amd64 libref-util-xs-perl amd64 0.116-1 [11.5 kB]\n",
            "Get:69 http://archive.ubuntu.com/ubuntu bionic/universe amd64 libtext-template-perl all 1.47-1 [46.9 kB]\n",
            "Get:70 http://archive.ubuntu.com/ubuntu bionic/universe amd64 libsoftware-license-perl all 0.103012-1 [108 kB]\n",
            "Get:71 http://archive.ubuntu.com/ubuntu bionic/universe amd64 libtype-tiny-xs-perl amd64 0.012-2 [22.8 kB]\n",
            "Get:72 http://archive.ubuntu.com/ubuntu bionic/main amd64 libunicode-utf8-perl amd64 0.60-1build4 [17.9 kB]\n",
            "Fetched 2,249 kB in 3s (846 kB/s)\n",
            "Extracting templates from packages: 100%\n",
            "Selecting previously unselected package libcpan-distnameinfo-perl.\n",
            "(Reading database ... 144865 files and directories currently installed.)\n",
            "Preparing to unpack .../00-libcpan-distnameinfo-perl_0.12-1_all.deb ...\n",
            "Unpacking libcpan-distnameinfo-perl (0.12-1) ...\n",
            "Selecting previously unselected package libcpan-meta-check-perl.\n",
            "Preparing to unpack .../01-libcpan-meta-check-perl_0.014-1_all.deb ...\n",
            "Unpacking libcpan-meta-check-perl (0.014-1) ...\n",
            "Selecting previously unselected package libfile-pushd-perl.\n",
            "Preparing to unpack .../02-libfile-pushd-perl_1.014-1_all.deb ...\n",
            "Unpacking libfile-pushd-perl (1.014-1) ...\n",
            "Selecting previously unselected package libmodule-build-perl.\n",
            "Preparing to unpack .../03-libmodule-build-perl_0.422400-1_all.deb ...\n",
            "Adding 'diversion of /usr/bin/config_data to /usr/bin/config_data.diverted by libmodule-build-perl'\n",
            "Adding 'diversion of /usr/share/man/man1/config_data.1.gz to /usr/share/man/man1/config_data.diverted.1.gz by libmodule-build-perl'\n",
            "Unpacking libmodule-build-perl (0.422400-1) ...\n",
            "Selecting previously unselected package liblocal-lib-perl.\n",
            "Preparing to unpack .../04-liblocal-lib-perl_2.000024-1_all.deb ...\n",
            "Unpacking liblocal-lib-perl (2.000024-1) ...\n",
            "Selecting previously unselected package libmodule-cpanfile-perl.\n",
            "Preparing to unpack .../05-libmodule-cpanfile-perl_1.1002-1_all.deb ...\n",
            "Unpacking libmodule-cpanfile-perl (1.1002-1) ...\n",
            "Selecting previously unselected package libparse-pmfile-perl.\n",
            "Preparing to unpack .../06-libparse-pmfile-perl_0.41-1_all.deb ...\n",
            "Unpacking libparse-pmfile-perl (0.41-1) ...\n",
            "Selecting previously unselected package libstring-shellquote-perl.\n",
            "Preparing to unpack .../07-libstring-shellquote-perl_1.04-1_all.deb ...\n",
            "Unpacking libstring-shellquote-perl (1.04-1) ...\n",
            "Selecting previously unselected package cpanminus.\n",
            "Preparing to unpack .../08-cpanminus_1.7043-1_all.deb ...\n",
            "Unpacking cpanminus (1.7043-1) ...\n",
            "Selecting previously unselected package libalgorithm-c3-perl.\n",
            "Preparing to unpack .../09-libalgorithm-c3-perl_0.10-1_all.deb ...\n",
            "Unpacking libalgorithm-c3-perl (0.10-1) ...\n",
            "Selecting previously unselected package libb-hooks-op-check-perl.\n",
            "Preparing to unpack .../10-libb-hooks-op-check-perl_0.22-1_amd64.deb ...\n",
            "Unpacking libb-hooks-op-check-perl (0.22-1) ...\n",
            "Selecting previously unselected package libdynaloader-functions-perl.\n",
            "Preparing to unpack .../11-libdynaloader-functions-perl_0.003-1_all.deb ...\n",
            "Unpacking libdynaloader-functions-perl (0.003-1) ...\n",
            "Selecting previously unselected package libdevel-callchecker-perl.\n",
            "Preparing to unpack .../12-libdevel-callchecker-perl_0.007-2build1_amd64.deb ...\n",
            "Unpacking libdevel-callchecker-perl (0.007-2build1) ...\n",
            "Selecting previously unselected package libparams-classify-perl.\n",
            "Preparing to unpack .../13-libparams-classify-perl_0.015-1_amd64.deb ...\n",
            "Unpacking libparams-classify-perl (0.015-1) ...\n",
            "Selecting previously unselected package libmodule-runtime-perl.\n",
            "Preparing to unpack .../14-libmodule-runtime-perl_0.016-1_all.deb ...\n",
            "Unpacking libmodule-runtime-perl (0.016-1) ...\n",
            "Selecting previously unselected package libtry-tiny-perl.\n",
            "Preparing to unpack .../15-libtry-tiny-perl_0.30-1_all.deb ...\n",
            "Unpacking libtry-tiny-perl (0.30-1) ...\n",
            "Selecting previously unselected package libmodule-implementation-perl.\n",
            "Preparing to unpack .../16-libmodule-implementation-perl_0.09-1_all.deb ...\n",
            "Unpacking libmodule-implementation-perl (0.09-1) ...\n",
            "Selecting previously unselected package libsub-exporter-progressive-perl.\n",
            "Preparing to unpack .../17-libsub-exporter-progressive-perl_0.001013-1_all.deb ...\n",
            "Unpacking libsub-exporter-progressive-perl (0.001013-1) ...\n",
            "Selecting previously unselected package libvariable-magic-perl.\n",
            "Preparing to unpack .../18-libvariable-magic-perl_0.62-1_amd64.deb ...\n",
            "Unpacking libvariable-magic-perl (0.62-1) ...\n",
            "Selecting previously unselected package libb-hooks-endofscope-perl.\n",
            "Preparing to unpack .../19-libb-hooks-endofscope-perl_0.21-1_all.deb ...\n",
            "Unpacking libb-hooks-endofscope-perl (0.21-1) ...\n",
            "Selecting previously unselected package libclass-c3-perl.\n",
            "Preparing to unpack .../20-libclass-c3-perl_0.33-1_all.deb ...\n",
            "Unpacking libclass-c3-perl (0.33-1) ...\n",
            "Selecting previously unselected package libclass-c3-xs-perl.\n",
            "Preparing to unpack .../21-libclass-c3-xs-perl_0.14-1build3_amd64.deb ...\n",
            "Unpacking libclass-c3-xs-perl (0.14-1build3) ...\n",
            "Selecting previously unselected package libclass-method-modifiers-perl.\n",
            "Preparing to unpack .../22-libclass-method-modifiers-perl_2.12-1_all.deb ...\n",
            "Unpacking libclass-method-modifiers-perl (2.12-1) ...\n",
            "Selecting previously unselected package libclass-xsaccessor-perl.\n",
            "Preparing to unpack .../23-libclass-xsaccessor-perl_1.19-2build8_amd64.deb ...\n",
            "Unpacking libclass-xsaccessor-perl (1.19-2build8) ...\n",
            "Selecting previously unselected package libcpan-changes-perl.\n",
            "Preparing to unpack .../24-libcpan-changes-perl_0.400002-1_all.deb ...\n",
            "Unpacking libcpan-changes-perl (0.400002-1) ...\n",
            "Selecting previously unselected package libparams-util-perl.\n",
            "Preparing to unpack .../25-libparams-util-perl_1.07-3build3_amd64.deb ...\n",
            "Unpacking libparams-util-perl (1.07-3build3) ...\n",
            "Selecting previously unselected package libsub-install-perl.\n",
            "Preparing to unpack .../26-libsub-install-perl_0.928-1_all.deb ...\n",
            "Unpacking libsub-install-perl (0.928-1) ...\n",
            "Selecting previously unselected package libdata-optlist-perl.\n",
            "Preparing to unpack .../27-libdata-optlist-perl_0.110-1_all.deb ...\n",
            "Unpacking libdata-optlist-perl (0.110-1) ...\n",
            "Selecting previously unselected package libexporter-tiny-perl.\n",
            "Preparing to unpack .../28-libexporter-tiny-perl_1.000000-2_all.deb ...\n",
            "Unpacking libexporter-tiny-perl (1.000000-2) ...\n",
            "Selecting previously unselected package liblist-moreutils-perl.\n",
            "Preparing to unpack .../29-liblist-moreutils-perl_0.416-1build3_amd64.deb ...\n",
            "Unpacking liblist-moreutils-perl (0.416-1build3) ...\n",
            "Selecting previously unselected package librole-tiny-perl.\n",
            "Preparing to unpack .../30-librole-tiny-perl_2.000006-1_all.deb ...\n",
            "Unpacking librole-tiny-perl (2.000006-1) ...\n",
            "Selecting previously unselected package libstrictures-perl.\n",
            "Preparing to unpack .../31-libstrictures-perl_2.000003-1_all.deb ...\n",
            "Unpacking libstrictures-perl (2.000003-1) ...\n",
            "Selecting previously unselected package libdata-perl-perl.\n",
            "Preparing to unpack .../32-libdata-perl-perl_0.002009-2_all.deb ...\n",
            "Unpacking libdata-perl-perl (0.002009-2) ...\n",
            "Selecting previously unselected package libmro-compat-perl.\n",
            "Preparing to unpack .../33-libmro-compat-perl_0.13-1_all.deb ...\n",
            "Unpacking libmro-compat-perl (0.13-1) ...\n",
            "Selecting previously unselected package libsub-exporter-perl.\n",
            "Preparing to unpack .../34-libsub-exporter-perl_0.987-1_all.deb ...\n",
            "Unpacking libsub-exporter-perl (0.987-1) ...\n",
            "Selecting previously unselected package libdata-section-perl.\n",
            "Preparing to unpack .../35-libdata-section-perl_0.200007-1_all.deb ...\n",
            "Unpacking libdata-section-perl (0.200007-1) ...\n",
            "Selecting previously unselected package libdevel-globaldestruction-perl.\n",
            "Preparing to unpack .../36-libdevel-globaldestruction-perl_0.14-1_all.deb ...\n",
            "Unpacking libdevel-globaldestruction-perl (0.14-1) ...\n",
            "Selecting previously unselected package libencode-locale-perl.\n",
            "Preparing to unpack .../37-libencode-locale-perl_1.05-1_all.deb ...\n",
            "Unpacking libencode-locale-perl (1.05-1) ...\n",
            "Selecting previously unselected package libfile-slurp-perl.\n",
            "Preparing to unpack .../38-libfile-slurp-perl_9999.19-6_all.deb ...\n",
            "Unpacking libfile-slurp-perl (9999.19-6) ...\n",
            "Selecting previously unselected package libio-stringy-perl.\n",
            "Preparing to unpack .../39-libio-stringy-perl_2.111-2_all.deb ...\n",
            "Unpacking libio-stringy-perl (2.111-2) ...\n",
            "Selecting previously unselected package libparams-validate-perl.\n",
            "Preparing to unpack .../40-libparams-validate-perl_1.29-1_amd64.deb ...\n",
            "Unpacking libparams-validate-perl (1.29-1) ...\n",
            "Selecting previously unselected package libgetopt-long-descriptive-perl.\n",
            "Preparing to unpack .../41-libgetopt-long-descriptive-perl_0.102-1_all.deb ...\n",
            "Unpacking libgetopt-long-descriptive-perl (0.102-1) ...\n",
            "Selecting previously unselected package libhtml-tagset-perl.\n",
            "Preparing to unpack .../42-libhtml-tagset-perl_3.20-3_all.deb ...\n",
            "Unpacking libhtml-tagset-perl (3.20-3) ...\n",
            "Selecting previously unselected package liburi-perl.\n",
            "Preparing to unpack .../43-liburi-perl_1.73-1_all.deb ...\n",
            "Unpacking liburi-perl (1.73-1) ...\n",
            "Selecting previously unselected package libhtml-parser-perl.\n",
            "Preparing to unpack .../44-libhtml-parser-perl_3.72-3build1_amd64.deb ...\n",
            "Unpacking libhtml-parser-perl (3.72-3build1) ...\n",
            "Selecting previously unselected package libtimedate-perl.\n",
            "Preparing to unpack .../45-libtimedate-perl_2.3000-2_all.deb ...\n",
            "Unpacking libtimedate-perl (2.3000-2) ...\n",
            "Selecting previously unselected package libhttp-date-perl.\n",
            "Preparing to unpack .../46-libhttp-date-perl_6.02-1_all.deb ...\n",
            "Unpacking libhttp-date-perl (6.02-1) ...\n",
            "Selecting previously unselected package libio-html-perl.\n",
            "Preparing to unpack .../47-libio-html-perl_1.001-1_all.deb ...\n",
            "Unpacking libio-html-perl (1.001-1) ...\n",
            "Selecting previously unselected package liblwp-mediatypes-perl.\n",
            "Preparing to unpack .../48-liblwp-mediatypes-perl_6.02-1_all.deb ...\n",
            "Unpacking liblwp-mediatypes-perl (6.02-1) ...\n",
            "Selecting previously unselected package libhttp-message-perl.\n",
            "Preparing to unpack .../49-libhttp-message-perl_6.14-1_all.deb ...\n",
            "Unpacking libhttp-message-perl (6.14-1) ...\n",
            "Selecting previously unselected package libimport-into-perl.\n",
            "Preparing to unpack .../50-libimport-into-perl_1.002005-1_all.deb ...\n",
            "Unpacking libimport-into-perl (1.002005-1) ...\n",
            "Selecting previously unselected package libmodule-signature-perl.\n",
            "Preparing to unpack .../51-libmodule-signature-perl_0.81-1_all.deb ...\n",
            "Unpacking libmodule-signature-perl (0.81-1) ...\n",
            "Selecting previously unselected package libsub-quote-perl.\n",
            "Preparing to unpack .../52-libsub-quote-perl_2.005000-1_all.deb ...\n",
            "Unpacking libsub-quote-perl (2.005000-1) ...\n",
            "Selecting previously unselected package libmoo-perl.\n",
            "Preparing to unpack .../53-libmoo-perl_2.003004-1_all.deb ...\n",
            "Unpacking libmoo-perl (2.003004-1) ...\n",
            "Selecting previously unselected package libmoox-handlesvia-perl.\n",
            "Preparing to unpack .../54-libmoox-handlesvia-perl_0.001008-3_all.deb ...\n",
            "Unpacking libmoox-handlesvia-perl (0.001008-3) ...\n",
            "Selecting previously unselected package libpackage-stash-perl.\n",
            "Preparing to unpack .../55-libpackage-stash-perl_0.37-1_all.deb ...\n",
            "Unpacking libpackage-stash-perl (0.37-1) ...\n",
            "Selecting previously unselected package libsub-identify-perl.\n",
            "Preparing to unpack .../56-libsub-identify-perl_0.14-1_amd64.deb ...\n",
            "Unpacking libsub-identify-perl (0.14-1) ...\n",
            "Selecting previously unselected package libsub-name-perl.\n",
            "Preparing to unpack .../57-libsub-name-perl_0.21-1build1_amd64.deb ...\n",
            "Unpacking libsub-name-perl (0.21-1build1) ...\n",
            "Selecting previously unselected package libnamespace-clean-perl.\n",
            "Preparing to unpack .../58-libnamespace-clean-perl_0.27-1_all.deb ...\n",
            "Unpacking libnamespace-clean-perl (0.27-1) ...\n",
            "Selecting previously unselected package libnamespace-autoclean-perl.\n",
            "Preparing to unpack .../59-libnamespace-autoclean-perl_0.28-1_all.deb ...\n",
            "Unpacking libnamespace-autoclean-perl (0.28-1) ...\n",
            "Selecting previously unselected package libpackage-stash-xs-perl.\n",
            "Preparing to unpack .../60-libpackage-stash-xs-perl_0.28-3build2_amd64.deb ...\n",
            "Unpacking libpackage-stash-xs-perl (0.28-3build2) ...\n",
            "Selecting previously unselected package libpath-tiny-perl.\n",
            "Preparing to unpack .../61-libpath-tiny-perl_0.104-1_all.deb ...\n",
            "Unpacking libpath-tiny-perl (0.104-1) ...\n",
            "Selecting previously unselected package libpod-markdown-perl.\n",
            "Preparing to unpack .../62-libpod-markdown-perl_3.005000-1_all.deb ...\n",
            "Unpacking libpod-markdown-perl (3.005000-1) ...\n",
            "Selecting previously unselected package libtype-tiny-perl.\n",
            "Preparing to unpack .../63-libtype-tiny-perl_1.002001-1_all.deb ...\n",
            "Unpacking libtype-tiny-perl (1.002001-1) ...\n",
            "Selecting previously unselected package libpod-readme-perl.\n",
            "Preparing to unpack .../64-libpod-readme-perl_1.1.2-2_all.deb ...\n",
            "Unpacking libpod-readme-perl (1.1.2-2) ...\n",
            "Selecting previously unselected package libreadonly-perl.\n",
            "Preparing to unpack .../65-libreadonly-perl_2.050-1_all.deb ...\n",
            "Unpacking libreadonly-perl (2.050-1) ...\n",
            "Selecting previously unselected package libref-util-perl.\n",
            "Preparing to unpack .../66-libref-util-perl_0.203-1_all.deb ...\n",
            "Unpacking libref-util-perl (0.203-1) ...\n",
            "Selecting previously unselected package libref-util-xs-perl.\n",
            "Preparing to unpack .../67-libref-util-xs-perl_0.116-1_amd64.deb ...\n",
            "Unpacking libref-util-xs-perl (0.116-1) ...\n",
            "Selecting previously unselected package libtext-template-perl.\n",
            "Preparing to unpack .../68-libtext-template-perl_1.47-1_all.deb ...\n",
            "Unpacking libtext-template-perl (1.47-1) ...\n",
            "Selecting previously unselected package libsoftware-license-perl.\n",
            "Preparing to unpack .../69-libsoftware-license-perl_0.103012-1_all.deb ...\n",
            "Unpacking libsoftware-license-perl (0.103012-1) ...\n",
            "Selecting previously unselected package libtype-tiny-xs-perl.\n",
            "Preparing to unpack .../70-libtype-tiny-xs-perl_0.012-2_amd64.deb ...\n",
            "Unpacking libtype-tiny-xs-perl (0.012-2) ...\n",
            "Selecting previously unselected package libunicode-utf8-perl.\n",
            "Preparing to unpack .../71-libunicode-utf8-perl_0.60-1build4_amd64.deb ...\n",
            "Unpacking libunicode-utf8-perl (0.60-1build4) ...\n",
            "Setting up libhtml-tagset-perl (3.20-3) ...\n",
            "Setting up libpath-tiny-perl (0.104-1) ...\n",
            "Setting up libclass-c3-xs-perl (0.14-1build3) ...\n",
            "Setting up libsub-install-perl (0.928-1) ...\n",
            "Setting up libio-stringy-perl (2.111-2) ...\n",
            "Setting up libcpan-distnameinfo-perl (0.12-1) ...\n",
            "Setting up libsub-exporter-progressive-perl (0.001013-1) ...\n",
            "Setting up libtry-tiny-perl (0.30-1) ...\n",
            "Setting up libfile-slurp-perl (9999.19-6) ...\n",
            "Setting up libclass-method-modifiers-perl (2.12-1) ...\n",
            "Setting up libencode-locale-perl (1.05-1) ...\n",
            "Setting up libvariable-magic-perl (0.62-1) ...\n",
            "Setting up libtimedate-perl (2.3000-2) ...\n",
            "Setting up librole-tiny-perl (2.000006-1) ...\n",
            "Setting up libstring-shellquote-perl (1.04-1) ...\n",
            "Setting up libb-hooks-op-check-perl (0.22-1) ...\n",
            "Setting up libio-html-perl (1.001-1) ...\n",
            "Setting up libexporter-tiny-perl (1.000000-2) ...\n",
            "Setting up libmodule-cpanfile-perl (1.1002-1) ...\n",
            "Setting up libtype-tiny-xs-perl (0.012-2) ...\n",
            "Setting up libsub-identify-perl (0.14-1) ...\n",
            "Setting up libref-util-perl (0.203-1) ...\n",
            "Setting up libdynaloader-functions-perl (0.003-1) ...\n",
            "Setting up libparse-pmfile-perl (0.41-1) ...\n",
            "Setting up libfile-pushd-perl (1.014-1) ...\n",
            "Setting up libcpan-meta-check-perl (0.014-1) ...\n",
            "Setting up libpackage-stash-xs-perl (0.28-3build2) ...\n",
            "Setting up libstrictures-perl (2.000003-1) ...\n",
            "Setting up libmodule-signature-perl (0.81-1) ...\n",
            "Setting up libreadonly-perl (2.050-1) ...\n",
            "Setting up liblwp-mediatypes-perl (6.02-1) ...\n",
            "Setting up libref-util-xs-perl (0.116-1) ...\n",
            "Setting up liburi-perl (1.73-1) ...\n",
            "Setting up libhtml-parser-perl (3.72-3build1) ...\n",
            "Setting up libdevel-globaldestruction-perl (0.14-1) ...\n",
            "Setting up libpod-markdown-perl (3.005000-1) ...\n",
            "Setting up libclass-xsaccessor-perl (1.19-2build8) ...\n",
            "Setting up libcpan-changes-perl (0.400002-1) ...\n",
            "Setting up libunicode-utf8-perl (0.60-1build4) ...\n",
            "Setting up libmodule-build-perl (0.422400-1) ...\n",
            "Setting up libparams-util-perl (1.07-3build3) ...\n",
            "Setting up libsub-name-perl (0.21-1build1) ...\n",
            "Setting up libsub-quote-perl (2.005000-1) ...\n",
            "Setting up libtext-template-perl (1.47-1) ...\n",
            "Setting up libalgorithm-c3-perl (0.10-1) ...\n",
            "Setting up libclass-c3-perl (0.33-1) ...\n",
            "Setting up liblocal-lib-perl (2.000024-1) ...\n",
            "Setting up liblist-moreutils-perl (0.416-1build3) ...\n",
            "Setting up libdata-optlist-perl (0.110-1) ...\n",
            "Setting up libhttp-date-perl (6.02-1) ...\n",
            "Setting up libtype-tiny-perl (1.002001-1) ...\n",
            "Setting up libdevel-callchecker-perl (0.007-2build1) ...\n",
            "Setting up cpanminus (1.7043-1) ...\n",
            "Setting up libmro-compat-perl (0.13-1) ...\n",
            "Setting up libsub-exporter-perl (0.987-1) ...\n",
            "Setting up libhttp-message-perl (6.14-1) ...\n",
            "Setting up libparams-classify-perl (0.015-1) ...\n",
            "Setting up libdata-section-perl (0.200007-1) ...\n",
            "Setting up libmodule-runtime-perl (0.016-1) ...\n",
            "Setting up libsoftware-license-perl (0.103012-1) ...\n",
            "Setting up libdata-perl-perl (0.002009-2) ...\n",
            "Setting up libimport-into-perl (1.002005-1) ...\n",
            "Setting up libmodule-implementation-perl (0.09-1) ...\n",
            "Setting up libparams-validate-perl (1.29-1) ...\n",
            "Setting up libmoo-perl (2.003004-1) ...\n",
            "Setting up libb-hooks-endofscope-perl (0.21-1) ...\n",
            "Setting up libpackage-stash-perl (0.37-1) ...\n",
            "Setting up libgetopt-long-descriptive-perl (0.102-1) ...\n",
            "Setting up libmoox-handlesvia-perl (0.001008-3) ...\n",
            "Setting up libnamespace-clean-perl (0.27-1) ...\n",
            "Setting up libnamespace-autoclean-perl (0.28-1) ...\n",
            "Setting up libpod-readme-perl (1.1.2-2) ...\n",
            "Processing triggers for man-db (2.8.3-2ubuntu0.1) ...\n",
            "--> Working on XML::Parser\n",
            "Fetching http://www.cpan.org/authors/id/T/TO/TODDR/XML-Parser-2.46.tar.gz ... OK\n",
            "Configuring XML-Parser-2.46 ... OK\n",
            "==> Found dependencies: LWP::UserAgent\n",
            "--> Working on LWP::UserAgent\n",
            "Fetching http://www.cpan.org/authors/id/O/OA/OALDERS/libwww-perl-6.50.tar.gz ... OK\n",
            "Configuring libwww-perl-6.50 ... OK\n",
            "==> Found dependencies: Net::HTTP, WWW::RobotRules, Test::RequiresInternet, HTTP::Daemon, HTTP::Negotiate, File::Listing, Test::Fatal, Test::Needs, HTTP::Cookies\n",
            "--> Working on Net::HTTP\n",
            "Fetching http://www.cpan.org/authors/id/O/OA/OALDERS/Net-HTTP-6.19.tar.gz ... OK\n",
            "Configuring Net-HTTP-6.19 ... OK\n",
            "Building and testing Net-HTTP-6.19 ... OK\n",
            "Successfully installed Net-HTTP-6.19\n",
            "--> Working on WWW::RobotRules\n",
            "Fetching http://www.cpan.org/authors/id/G/GA/GAAS/WWW-RobotRules-6.02.tar.gz ... OK\n",
            "Configuring WWW-RobotRules-6.02 ... OK\n",
            "Building and testing WWW-RobotRules-6.02 ... OK\n",
            "Successfully installed WWW-RobotRules-6.02\n",
            "--> Working on Test::RequiresInternet\n",
            "Fetching http://www.cpan.org/authors/id/M/MA/MALLEN/Test-RequiresInternet-0.05.tar.gz ... OK\n",
            "Configuring Test-RequiresInternet-0.05 ... OK\n",
            "Building and testing Test-RequiresInternet-0.05 ... OK\n",
            "Successfully installed Test-RequiresInternet-0.05\n",
            "--> Working on HTTP::Daemon\n",
            "Fetching http://www.cpan.org/authors/id/O/OA/OALDERS/HTTP-Daemon-6.12.tar.gz ... OK\n",
            "==> Found dependencies: Module::Build::Tiny\n",
            "--> Working on Module::Build::Tiny\n",
            "Fetching http://www.cpan.org/authors/id/L/LE/LEONT/Module-Build-Tiny-0.039.tar.gz ... OK\n",
            "==> Found dependencies: ExtUtils::Config, ExtUtils::InstallPaths, ExtUtils::Helpers\n",
            "--> Working on ExtUtils::Config\n",
            "Fetching http://www.cpan.org/authors/id/L/LE/LEONT/ExtUtils-Config-0.008.tar.gz ... OK\n",
            "Configuring ExtUtils-Config-0.008 ... OK\n",
            "Building and testing ExtUtils-Config-0.008 ... OK\n",
            "Successfully installed ExtUtils-Config-0.008\n",
            "--> Working on ExtUtils::InstallPaths\n",
            "Fetching http://www.cpan.org/authors/id/L/LE/LEONT/ExtUtils-InstallPaths-0.012.tar.gz ... OK\n",
            "Configuring ExtUtils-InstallPaths-0.012 ... OK\n",
            "Building and testing ExtUtils-InstallPaths-0.012 ... OK\n",
            "Successfully installed ExtUtils-InstallPaths-0.012\n",
            "--> Working on ExtUtils::Helpers\n",
            "Fetching http://www.cpan.org/authors/id/L/LE/LEONT/ExtUtils-Helpers-0.026.tar.gz ... OK\n",
            "Configuring ExtUtils-Helpers-0.026 ... OK\n",
            "Building and testing ExtUtils-Helpers-0.026 ... OK\n",
            "Successfully installed ExtUtils-Helpers-0.026\n",
            "Configuring Module-Build-Tiny-0.039 ... OK\n",
            "Building and testing Module-Build-Tiny-0.039 ... OK\n",
            "Successfully installed Module-Build-Tiny-0.039\n",
            "Configuring HTTP-Daemon-6.12 ... OK\n",
            "==> Found dependencies: Test::Needs\n",
            "--> Working on Test::Needs\n",
            "Fetching http://www.cpan.org/authors/id/H/HA/HAARG/Test-Needs-0.002006.tar.gz ... OK\n",
            "Configuring Test-Needs-0.002006 ... OK\n",
            "Building and testing Test-Needs-0.002006 ... OK\n",
            "Successfully installed Test-Needs-0.002006\n",
            "Building and testing HTTP-Daemon-6.12 ... OK\n",
            "Successfully installed HTTP-Daemon-6.12\n",
            "--> Working on HTTP::Negotiate\n",
            "Fetching http://www.cpan.org/authors/id/G/GA/GAAS/HTTP-Negotiate-6.01.tar.gz ... OK\n",
            "Configuring HTTP-Negotiate-6.01 ... OK\n",
            "Building and testing HTTP-Negotiate-6.01 ... OK\n",
            "Successfully installed HTTP-Negotiate-6.01\n",
            "--> Working on File::Listing\n",
            "Fetching http://www.cpan.org/authors/id/P/PL/PLICEASE/File-Listing-6.14.tar.gz ... OK\n",
            "Configuring File-Listing-6.14 ... OK\n",
            "Building and testing File-Listing-6.14 ... OK\n",
            "Successfully installed File-Listing-6.14\n",
            "--> Working on Test::Fatal\n",
            "Fetching http://www.cpan.org/authors/id/R/RJ/RJBS/Test-Fatal-0.016.tar.gz ... OK\n",
            "Configuring Test-Fatal-0.016 ... OK\n",
            "Building and testing Test-Fatal-0.016 ... OK\n",
            "Successfully installed Test-Fatal-0.016\n",
            "--> Working on HTTP::Cookies\n",
            "Fetching http://www.cpan.org/authors/id/O/OA/OALDERS/HTTP-Cookies-6.09.tar.gz ... OK\n",
            "Configuring HTTP-Cookies-6.09 ... OK\n",
            "Building and testing HTTP-Cookies-6.09 ... OK\n",
            "Successfully installed HTTP-Cookies-6.09\n",
            "Building and testing libwww-perl-6.50 ... OK\n",
            "Successfully installed libwww-perl-6.50\n",
            "Building and testing XML-Parser-2.46 ... OK\n",
            "Successfully installed XML-Parser-2.46\n",
            "15 distributions installed\n"
          ],
          "name": "stdout"
        }
      ]
    },
    {
      "cell_type": "code",
      "metadata": {
        "colab": {
          "base_uri": "https://localhost:8080/"
        },
        "id": "-YncYq6xXSNF",
        "outputId": "a43148e7-1700-4f28-aa48-beb67d97e7cd"
      },
      "source": [
        "from pythonrouge.pythonrouge import Pythonrouge\r\n",
        "\r\n",
        "\r\n",
        "# initialize setting of ROUGE to evaluate ROUGE-1, 2, W and SU4\r\n",
        "\r\n",
        " \r\n",
        "\r\n",
        "rouge = Pythonrouge(summary_file_exist=False,\r\n",
        "\r\n",
        "                    summary=[[x_tr[0]]], reference=[[[y_tr[0]]]],\r\n",
        "\r\n",
        "                    n_gram=2, ROUGE_SU4=True, ROUGE_L=True,ROUGE_W=True,ROUGE_W_Weight=1.2,\r\n",
        "\r\n",
        "                    recall_only=False, stemming=True, stopwords=True,\r\n",
        "\r\n",
        "                    word_level=True, length_limit=True, length=50,\r\n",
        "\r\n",
        "                    use_cf=False, cf=95, scoring_formula='average',\r\n",
        "\r\n",
        "                    resampling=True, samples=1000, favor=True, p=0.5)\r\n",
        "\r\n",
        "score = rouge.calc_score()\r\n",
        "\r\n",
        "print(score)"
      ],
      "execution_count": null,
      "outputs": [
        {
          "output_type": "stream",
          "text": [
            "{'ROUGE-1-R': 0.8, 'ROUGE-1-P': 0.26087, 'ROUGE-1-F': 0.39344, 'ROUGE-2-R': 0.71429, 'ROUGE-2-P': 0.22222, 'ROUGE-2-F': 0.33898, 'ROUGE-L-R': 0.8, 'ROUGE-L-P': 0.26087, 'ROUGE-L-F': 0.39344, 'ROUGE-W-1.2-R': 0.44658, 'ROUGE-W-1.2-P': 0.25029, 'ROUGE-W-1.2-F': 0.32079, 'ROUGE-SU4-R': 0.7027, 'ROUGE-SU4-P': 0.2, 'ROUGE-SU4-F': 0.31138}\n"
          ],
          "name": "stdout"
        }
      ]
    },
    {
      "cell_type": "code",
      "metadata": {
        "colab": {
          "base_uri": "https://localhost:8080/"
        },
        "id": "n1Ykfd-l2ust",
        "outputId": "48d90ed6-91a1-45ab-8872-effee621092a"
      },
      "source": [
        "from pythonrouge.pythonrouge import Pythonrouge\r\n",
        "\r\n",
        "# initialize setting of ROUGE to evaluate ROUGE-1, 2, W and SU4\r\n",
        "\r\n",
        " \r\n",
        "\r\n",
        "rouge = Pythonrouge(summary_file_exist=False,\r\n",
        "\r\n",
        "                    summary=[[seq2summary(y_tr[2])]], reference=[[[decode_sequence(x_tr[2].reshape(1,max_text_len))]]],\r\n",
        "\r\n",
        "                    n_gram=2, ROUGE_SU4=True, ROUGE_L=True,ROUGE_W=True,ROUGE_W_Weight=1.2,\r\n",
        "\r\n",
        "                    recall_only=False, stemming=True, stopwords=True,\r\n",
        "\r\n",
        "                    word_level=True, length_limit=True, length=50,\r\n",
        "\r\n",
        "                    use_cf=False, cf=95, scoring_formula='average',\r\n",
        "\r\n",
        "                    resampling=True, samples=1000, favor=True, p=0.5)\r\n",
        "\r\n",
        "score1 = rouge.calc_score()\r\n",
        "\r\n",
        "print(score1)"
      ],
      "execution_count": null,
      "outputs": [
        {
          "output_type": "stream",
          "text": [
            "{'ROUGE-1-R': 0.5, 'ROUGE-1-P': 0.2, 'ROUGE-1-F': 0.28571, 'ROUGE-2-R': 0.0, 'ROUGE-2-P': 0.0, 'ROUGE-2-F': 0.0, 'ROUGE-L-R': 0.5, 'ROUGE-L-P': 0.2, 'ROUGE-L-F': 0.28571, 'ROUGE-W-1.2-R': 0.43528, 'ROUGE-W-1.2-P': 0.2, 'ROUGE-W-1.2-F': 0.27407, 'ROUGE-SU4-R': 0.5, 'ROUGE-SU4-P': 0.07143, 'ROUGE-SU4-F': 0.125}\n"
          ],
          "name": "stdout"
        }
      ]
    },
    {
      "cell_type": "code",
      "metadata": {
        "colab": {
          "base_uri": "https://localhost:8080/"
        },
        "id": "GcMqPjr-2u67",
        "outputId": "0191c1c1-d831-419d-86d4-ea6bf2028cd0"
      },
      "source": [
        "from pythonrouge.pythonrouge import Pythonrouge\r\n",
        "\r\n",
        "\r\n",
        "# initialize setting of ROUGE to evaluate ROUGE-1, 2, W and SU4\r\n",
        "\r\n",
        " \r\n",
        "\r\n",
        "rouge = Pythonrouge(summary_file_exist=False,\r\n",
        "\r\n",
        "                    summary=[[seq2summary(y_tr[1])]], reference=[[[decode_sequence(x_tr[1].reshape(1,max_text_len))]]],\r\n",
        "\r\n",
        "                    n_gram=2, ROUGE_SU4=True, ROUGE_L=True,ROUGE_W=True,ROUGE_W_Weight=1.2,\r\n",
        "\r\n",
        "                    recall_only=False, stemming=True, stopwords=True,\r\n",
        "\r\n",
        "                    word_level=True, length_limit=True, length=50,\r\n",
        "\r\n",
        "                    use_cf=False, cf=95, scoring_formula='average',\r\n",
        "\r\n",
        "                    resampling=True, samples=1000, favor=True, p=0.5)\r\n",
        "\r\n",
        "score1 = rouge.calc_score()\r\n",
        "\r\n",
        "print(score1)"
      ],
      "execution_count": null,
      "outputs": [
        {
          "output_type": "stream",
          "text": [
            "{'ROUGE-1-R': 0.2, 'ROUGE-1-P': 0.2, 'ROUGE-1-F': 0.2, 'ROUGE-2-R': 0.0, 'ROUGE-2-P': 0.0, 'ROUGE-2-F': 0.0, 'ROUGE-L-R': 0.2, 'ROUGE-L-P': 0.2, 'ROUGE-L-F': 0.2, 'ROUGE-W-1.2-R': 0.14496, 'ROUGE-W-1.2-P': 0.2, 'ROUGE-W-1.2-F': 0.16809, 'ROUGE-SU4-R': 0.07143, 'ROUGE-SU4-P': 0.07143, 'ROUGE-SU4-F': 0.07143}\n"
          ],
          "name": "stdout"
        }
      ]
    },
    {
      "cell_type": "code",
      "metadata": {
        "colab": {
          "base_uri": "https://localhost:8080/"
        },
        "id": "Zp8j3WmF2vID",
        "outputId": "8f666793-e091-4fc9-804b-a4caf3d3cb7a"
      },
      "source": [
        "from pythonrouge.pythonrouge import Pythonrouge\r\n",
        "\r\n",
        "# initialize setting of ROUGE to evaluate ROUGE-1, 2, W and SU4\r\n",
        "\r\n",
        "rouge = Pythonrouge(summary_file_exist=False,\r\n",
        "\r\n",
        "                    summary=[[seq2summary(y_tr[3])]], reference=[[[decode_sequence(x_tr[3].reshape(1,max_text_len))]]],\r\n",
        "\r\n",
        "                    n_gram=2, ROUGE_SU4=True, ROUGE_L=True,ROUGE_W=True,ROUGE_W_Weight=1.2,\r\n",
        "\r\n",
        "                    recall_only=False, stemming=True, stopwords=True,\r\n",
        "\r\n",
        "                    word_level=True, length_limit=True, length=50,\r\n",
        "\r\n",
        "                    use_cf=False, cf=95, scoring_formula='average',\r\n",
        "\r\n",
        "                    resampling=True, samples=1000, favor=True, p=0.5)\r\n",
        "\r\n",
        "score1 = rouge.calc_score()\r\n",
        "\r\n",
        "print(score1)"
      ],
      "execution_count": null,
      "outputs": [
        {
          "output_type": "stream",
          "text": [
            "{'ROUGE-1-R': 0.66667, 'ROUGE-1-P': 0.33333, 'ROUGE-1-F': 0.44444, 'ROUGE-2-R': 0.5, 'ROUGE-2-P': 0.2, 'ROUGE-2-F': 0.28571, 'ROUGE-L-R': 0.66667, 'ROUGE-L-P': 0.33333, 'ROUGE-L-F': 0.44444, 'ROUGE-W-1.2-R': 0.53516, 'ROUGE-W-1.2-P': 0.33333, 'ROUGE-W-1.2-F': 0.41079, 'ROUGE-SU4-R': 0.4, 'ROUGE-SU4-P': 0.1, 'ROUGE-SU4-F': 0.16}\n"
          ],
          "name": "stdout"
        }
      ]
    },
    {
      "cell_type": "code",
      "metadata": {
        "colab": {
          "base_uri": "https://localhost:8080/"
        },
        "id": "cwehsoBR4R1h",
        "outputId": "ab0bd6cc-3a86-4539-ec1f-4ab4da8f6bb7"
      },
      "source": [
        "from nltk.translate.bleu_score import sentence_bleu\r\n",
        "reference = [(seq2summary(y_tr[0])).split()]\r\n",
        "candidate = (decode_sequence(x_tr[0].reshape(1,max_text_len))).split()\r\n",
        "#score_bleu = sentence_bleu(reference, candidate,weights=(0.25, 0.25, 0.25, 0.25))\r\n",
        "#print(score)\r\n",
        "print('Individual 1-gram: %f' % sentence_bleu(reference, candidate, weights=(1, 0, 0, 0)))\r\n",
        "print('Individual 2-gram: %f' % sentence_bleu(reference, candidate, weights=(0, 1, 0, 0)))\r\n",
        "print('Individual 3-gram: %f' % sentence_bleu(reference, candidate, weights=(0, 0, 1, 0)))\r\n",
        "print('Individual 4-gram: %f' % sentence_bleu(reference, candidate, weights=(0, 0, 0, 1)))\r\n",
        "#print(reference)\r\n",
        "#print(candidate)"
      ],
      "execution_count": null,
      "outputs": [
        {
          "output_type": "stream",
          "text": [
            "Individual 1-gram: 0.200000\n",
            "Individual 2-gram: 1.000000\n",
            "Individual 3-gram: 1.000000\n",
            "Individual 4-gram: 1.000000\n"
          ],
          "name": "stdout"
        }
      ]
    },
    {
      "cell_type": "code",
      "metadata": {
        "colab": {
          "base_uri": "https://localhost:8080/"
        },
        "id": "x639haAI86-B",
        "outputId": "572d2744-44cf-43ed-9159-0f02b80142ba"
      },
      "source": [
        "from nltk.translate.bleu_score import sentence_bleu\r\n",
        "reference = [(seq2summary(y_tr[1])).split()]\r\n",
        "candidate = (decode_sequence(x_tr[1].reshape(1,max_text_len))).split()\r\n",
        "#score_bleu = sentence_bleu(reference, candidate,weights=(0.25, 0.25, 0.25, 0.25))\r\n",
        "#print(score)\r\n",
        "print('Individual 1-gram: %f' % sentence_bleu(reference, candidate, weights=(1, 0, 0, 0)))\r\n",
        "print('Individual 2-gram: %f' % sentence_bleu(reference, candidate, weights=(0, 1, 0, 0)))\r\n",
        "print('Individual 3-gram: %f' % sentence_bleu(reference, candidate, weights=(0, 0, 1, 0)))\r\n",
        "print('Individual 4-gram: %f' % sentence_bleu(reference, candidate, weights=(0, 0, 0, 1)))\r\n",
        "#print(reference)\r\n",
        "#print(candidate)"
      ],
      "execution_count": null,
      "outputs": [
        {
          "output_type": "stream",
          "text": [
            "Individual 1-gram: 0.322062\n",
            "Individual 2-gram: 0.125246\n",
            "Individual 3-gram: 0.751477\n",
            "Individual 4-gram: 0.751477\n"
          ],
          "name": "stdout"
        }
      ]
    },
    {
      "cell_type": "code",
      "metadata": {
        "colab": {
          "base_uri": "https://localhost:8080/"
        },
        "id": "mt7jSzIL87Nz",
        "outputId": "e03c7619-033c-4892-9d96-2aed6490105d"
      },
      "source": [
        "from nltk.translate.bleu_score import sentence_bleu\r\n",
        "reference = [(seq2summary(y_tr[2])).split()]\r\n",
        "candidate = (decode_sequence(x_tr[2].reshape(1,max_text_len))).split()\r\n",
        "#score_bleu = sentence_bleu(reference, candidate,weights=(0.25, 0.25, 0.25, 0.25))\r\n",
        "#print(score)\r\n",
        "print('Individual 1-gram: %f' % sentence_bleu(reference, candidate, weights=(1, 0, 0, 0)))\r\n",
        "print('Individual 2-gram: %f' % sentence_bleu(reference, candidate, weights=(0, 1, 0, 0)))\r\n",
        "print('Individual 3-gram: %f' % sentence_bleu(reference, candidate, weights=(0, 0, 1, 0)))\r\n",
        "print('Individual 4-gram: %f' % sentence_bleu(reference, candidate, weights=(0, 0, 0, 1)))\r\n",
        "#print(reference)\r\n",
        "#print(candidate)"
      ],
      "execution_count": null,
      "outputs": [
        {
          "output_type": "stream",
          "text": [
            "Individual 1-gram: 0.282161\n",
            "Individual 2-gram: 0.846482\n",
            "Individual 3-gram: 0.846482\n",
            "Individual 4-gram: 0.846482\n"
          ],
          "name": "stdout"
        }
      ]
    },
    {
      "cell_type": "code",
      "metadata": {
        "colab": {
          "base_uri": "https://localhost:8080/"
        },
        "id": "7ckBtBRW87wP",
        "outputId": "fb626606-74fe-4535-ff24-f52085cbad50"
      },
      "source": [
        "from nltk.translate.bleu_score import sentence_bleu\r\n",
        "reference = [(seq2summary(y_tr[3])).split()]\r\n",
        "candidate = (decode_sequence(x_tr[3].reshape(1,max_text_len))).split()\r\n",
        "#score_bleu = sentence_bleu(reference, candidate,weights=(0.25, 0.25, 0.25, 0.25))\r\n",
        "#print(score)\r\n",
        "print('Individual 1-gram: %f' % sentence_bleu(reference, candidate, weights=(1, 0, 0, 0)))\r\n",
        "print('Individual 2-gram: %f' % sentence_bleu(reference, candidate, weights=(0, 1, 0, 0)))\r\n",
        "print('Individual 3-gram: %f' % sentence_bleu(reference, candidate, weights=(0, 0, 1, 0)))\r\n",
        "print('Individual 4-gram: %f' % sentence_bleu(reference, candidate, weights=(0, 0, 0, 1)))\r\n",
        "#print(reference)\r\n",
        "#print(candidate)"
      ],
      "execution_count": null,
      "outputs": [
        {
          "output_type": "stream",
          "text": [
            "Individual 1-gram: 0.217299\n",
            "Individual 2-gram: 0.086920\n",
            "Individual 3-gram: 0.434598\n",
            "Individual 4-gram: 0.434598\n"
          ],
          "name": "stdout"
        }
      ]
    },
    {
      "cell_type": "code",
      "metadata": {
        "id": "1cdBJR089HAk"
      },
      "source": [
        ""
      ],
      "execution_count": null,
      "outputs": []
    },
    {
      "cell_type": "code",
      "metadata": {
        "id": "kdUVDf0KfJQH"
      },
      "source": [
        "###### BASED ON TEXT RANKING##################"
      ],
      "execution_count": null,
      "outputs": []
    },
    {
      "cell_type": "code",
      "metadata": {
        "id": "oXfYfxBQfJSN"
      },
      "source": [
        "import numpy as np\n",
        "import pandas as pd\n",
        "import nltk\n",
        "import re\n",
        "from nltk.tokenize import sent_tokenize\n",
        "from nltk.corpus import stopwords\n",
        "from gensim.models import Word2Vec\n",
        "from scipy import spatial\n",
        "import networkx as nx"
      ],
      "execution_count": null,
      "outputs": []
    },
    {
      "cell_type": "code",
      "metadata": {
        "id": "x3o0cbiYfJWV"
      },
      "source": [
        "text='''Santiago is a Shepherd who has a recurring dream which is supposedly prophetic. Inspired on learning this, he undertakes a journey to Egypt to discover the meaning of life and fulfill his destiny. During the course of his travels, he learns of his true purpose and meets many characters, including an “Alchemist”, that teach him valuable lessons about achieving his dreams. Santiago sets his sights on obtaining a certain kind of “treasure” for which he travels to Egypt. The key message is, “when you want something, all the universe conspires in helping you to achieve it.” Towards the final arc, Santiago gets robbed by bandits who end up revealing that the “treasure” he was looking for is buried in the place where his journey began. The end.'''"
      ],
      "execution_count": null,
      "outputs": []
    },
    {
      "cell_type": "code",
      "metadata": {
        "colab": {
          "base_uri": "https://localhost:8080/"
        },
        "id": "3C_mueyhfJZz",
        "outputId": "33296a08-9e6e-491b-ef06-f34129fc204f"
      },
      "source": [
        "nltk.download('punkt')\n"
      ],
      "execution_count": null,
      "outputs": [
        {
          "output_type": "stream",
          "text": [
            "[nltk_data] Downloading package punkt to /root/nltk_data...\n",
            "[nltk_data]   Package punkt is already up-to-date!\n"
          ],
          "name": "stdout"
        },
        {
          "output_type": "execute_result",
          "data": {
            "text/plain": [
              "True"
            ]
          },
          "metadata": {
            "tags": []
          },
          "execution_count": 5
        }
      ]
    },
    {
      "cell_type": "code",
      "metadata": {
        "id": "Wg8Al0LvfJdZ"
      },
      "source": [
        "sentences=sent_tokenize(text)"
      ],
      "execution_count": null,
      "outputs": []
    },
    {
      "cell_type": "code",
      "metadata": {
        "colab": {
          "base_uri": "https://localhost:8080/"
        },
        "id": "O5vDmiqDfJgu",
        "outputId": "9878f410-bb0e-4555-afbb-6e2042407ed6"
      },
      "source": [
        "nltk.download('stopwords')"
      ],
      "execution_count": null,
      "outputs": [
        {
          "output_type": "stream",
          "text": [
            "[nltk_data] Downloading package stopwords to /root/nltk_data...\n",
            "[nltk_data]   Unzipping corpora/stopwords.zip.\n"
          ],
          "name": "stdout"
        },
        {
          "output_type": "execute_result",
          "data": {
            "text/plain": [
              "True"
            ]
          },
          "metadata": {
            "tags": []
          },
          "execution_count": 7
        }
      ]
    },
    {
      "cell_type": "code",
      "metadata": {
        "id": "exd0Bousft6p"
      },
      "source": [
        "sentences_clean=[re.sub(r'[^\\w\\s]','',sentence.lower()) for sentence in sentences]\n",
        "stop_words = stopwords.words('english')\n",
        "sentence_tokens=[[words for words in sentence.split(' ') if words not in stop_words] for sentence in sentences_clean]"
      ],
      "execution_count": null,
      "outputs": []
    },
    {
      "cell_type": "code",
      "metadata": {
        "id": "9Q2Ibbnmft9D"
      },
      "source": [
        "w2v=Word2Vec(sentence_tokens,size=1,min_count=1,iter=1000)"
      ],
      "execution_count": null,
      "outputs": []
    },
    {
      "cell_type": "code",
      "metadata": {
        "colab": {
          "base_uri": "https://localhost:8080/"
        },
        "id": "YqRMVIltfuBY",
        "outputId": "749a2825-fb47-4b38-8ebe-cafa25928f11"
      },
      "source": [
        "sentence_embeddings=[[w2v[word][0] for word in words] for words in sentence_tokens]"
      ],
      "execution_count": null,
      "outputs": [
        {
          "output_type": "stream",
          "text": [
            "/usr/local/lib/python3.6/dist-packages/ipykernel_launcher.py:1: DeprecationWarning: Call to deprecated `__getitem__` (Method will be removed in 4.0.0, use self.wv.__getitem__() instead).\n",
            "  \"\"\"Entry point for launching an IPython kernel.\n"
          ],
          "name": "stderr"
        }
      ]
    },
    {
      "cell_type": "code",
      "metadata": {
        "id": "Lw98-hwHfuFg"
      },
      "source": [
        "max_len=max([len(tokens) for tokens in sentence_tokens])"
      ],
      "execution_count": null,
      "outputs": []
    },
    {
      "cell_type": "code",
      "metadata": {
        "id": "XrtAETnvfuJZ"
      },
      "source": [
        "sentence_embeddings=[np.pad(embedding,(0,max_len-len(embedding)),'constant') for embedding in sentence_embeddings]"
      ],
      "execution_count": null,
      "outputs": []
    },
    {
      "cell_type": "code",
      "metadata": {
        "id": "DjxLrg9yfuND"
      },
      "source": [
        "similarity_matrix = np.zeros([len(sentence_tokens), len(sentence_tokens)])\n",
        "for i,row_embedding in enumerate(sentence_embeddings):\n",
        "    for j,column_embedding in enumerate(sentence_embeddings):\n",
        "        similarity_matrix[i][j]=1-spatial.distance.cosine(row_embedding,column_embedding)"
      ],
      "execution_count": null,
      "outputs": []
    },
    {
      "cell_type": "code",
      "metadata": {
        "id": "O4xGHg6ifuQz"
      },
      "source": [
        "nx_graph = nx.from_numpy_array(similarity_matrix)\n",
        "scores = nx.pagerank(nx_graph)"
      ],
      "execution_count": null,
      "outputs": []
    },
    {
      "cell_type": "code",
      "metadata": {
        "id": "_fP2zSh3fuUf"
      },
      "source": [
        "top_sentence={sentence:scores[index] for index,sentence in enumerate(sentences)}\n",
        "top=dict(sorted(top_sentence.items(), key=lambda x: x[1], reverse=True)[:4])"
      ],
      "execution_count": null,
      "outputs": []
    },
    {
      "cell_type": "code",
      "metadata": {
        "colab": {
          "base_uri": "https://localhost:8080/"
        },
        "id": "bN7EqAwIfuYJ",
        "outputId": "37bca273-f273-4d64-f13b-6d35c268fc07"
      },
      "source": [
        "g_sent=\"\"\n",
        "for sent in sentences:\n",
        "    if sent in top.keys():\n",
        "        g_sent=g_sent+sent\n",
        "print(g_sent)   "
      ],
      "execution_count": null,
      "outputs": [
        {
          "output_type": "stream",
          "text": [
            "Santiago is a Shepherd who has a recurring dream which is supposedly prophetic.Inspired on learning this, he undertakes a journey to Egypt to discover the meaning of life and fulfill his destiny.During the course of his travels, he learns of his true purpose and meets many characters, including an “Alchemist”, that teach him valuable lessons about achieving his dreams.Santiago sets his sights on obtaining a certain kind of “treasure” for which he travels to Egypt.\n"
          ],
          "name": "stdout"
        }
      ]
    },
    {
      "cell_type": "code",
      "metadata": {
        "colab": {
          "base_uri": "https://localhost:8080/"
        },
        "id": "9_Nxi30VfucH",
        "outputId": "3b3a94a2-b691-4430-81eb-7553ec5a7425"
      },
      "source": [
        "!pip install git+https://github.com/tagucci/pythonrouge.git\n"
      ],
      "execution_count": null,
      "outputs": [
        {
          "output_type": "stream",
          "text": [
            "Collecting git+https://github.com/tagucci/pythonrouge.git\n",
            "  Cloning https://github.com/tagucci/pythonrouge.git to /tmp/pip-req-build-jutf5p65\n",
            "  Running command git clone -q https://github.com/tagucci/pythonrouge.git /tmp/pip-req-build-jutf5p65\n",
            "Building wheels for collected packages: pythonrouge\n",
            "  Building wheel for pythonrouge (setup.py) ... \u001b[?25l\u001b[?25hdone\n",
            "  Created wheel for pythonrouge: filename=pythonrouge-0.2-cp36-none-any.whl size=285402 sha256=5cfbfd71fa3d7efbbf320bb64636c14596b41b6b6adcf06e711fb3700fbf9e40\n",
            "  Stored in directory: /tmp/pip-ephem-wheel-cache-y4rdqmf2/wheels/fd/ff/be/6716935d513fa8656ab185cb0aa70aed382b72dda42bf09c95\n",
            "Successfully built pythonrouge\n",
            "Installing collected packages: pythonrouge\n",
            "Successfully installed pythonrouge-0.2\n"
          ],
          "name": "stdout"
        }
      ]
    },
    {
      "cell_type": "code",
      "metadata": {
        "colab": {
          "base_uri": "https://localhost:8080/"
        },
        "id": "aKtf2PbofugB",
        "outputId": "7df9dc23-9739-423c-dbae-c02d516eaa00"
      },
      "source": [
        "!apt-get install -y cpanminus\n",
        "\n",
        "!cpanm --force XML::Parser"
      ],
      "execution_count": null,
      "outputs": [
        {
          "output_type": "stream",
          "text": [
            "Reading package lists... Done\n",
            "Building dependency tree       \n",
            "Reading state information... Done\n",
            "The following additional packages will be installed:\n",
            "  libalgorithm-c3-perl libb-hooks-endofscope-perl libb-hooks-op-check-perl\n",
            "  libclass-c3-perl libclass-c3-xs-perl libclass-method-modifiers-perl\n",
            "  libclass-xsaccessor-perl libcpan-changes-perl libcpan-distnameinfo-perl\n",
            "  libcpan-meta-check-perl libdata-optlist-perl libdata-perl-perl\n",
            "  libdata-section-perl libdevel-callchecker-perl\n",
            "  libdevel-globaldestruction-perl libdynaloader-functions-perl\n",
            "  libencode-locale-perl libexporter-tiny-perl libfile-pushd-perl\n",
            "  libfile-slurp-perl libgetopt-long-descriptive-perl libhtml-parser-perl\n",
            "  libhtml-tagset-perl libhttp-date-perl libhttp-message-perl\n",
            "  libimport-into-perl libio-html-perl libio-stringy-perl\n",
            "  liblist-moreutils-perl liblocal-lib-perl liblwp-mediatypes-perl\n",
            "  libmodule-build-perl libmodule-cpanfile-perl libmodule-implementation-perl\n",
            "  libmodule-runtime-perl libmodule-signature-perl libmoo-perl\n",
            "  libmoox-handlesvia-perl libmro-compat-perl libnamespace-autoclean-perl\n",
            "  libnamespace-clean-perl libpackage-stash-perl libpackage-stash-xs-perl\n",
            "  libparams-classify-perl libparams-util-perl libparams-validate-perl\n",
            "  libparse-pmfile-perl libpath-tiny-perl libpod-markdown-perl\n",
            "  libpod-readme-perl libreadonly-perl libref-util-perl libref-util-xs-perl\n",
            "  librole-tiny-perl libsoftware-license-perl libstrictures-perl\n",
            "  libstring-shellquote-perl libsub-exporter-perl\n",
            "  libsub-exporter-progressive-perl libsub-identify-perl libsub-install-perl\n",
            "  libsub-name-perl libsub-quote-perl libtext-template-perl libtimedate-perl\n",
            "  libtry-tiny-perl libtype-tiny-perl libtype-tiny-xs-perl libunicode-utf8-perl\n",
            "  liburi-perl libvariable-magic-perl\n",
            "Suggested packages:\n",
            "  libdata-dump-perl libscalar-number-perl libbareword-filehandles-perl\n",
            "  libindirect-perl libmultidimensional-perl libdevel-stacktrace-perl\n",
            "  libdevel-lexalias-perl libwww-perl\n",
            "The following NEW packages will be installed:\n",
            "  cpanminus libalgorithm-c3-perl libb-hooks-endofscope-perl\n",
            "  libb-hooks-op-check-perl libclass-c3-perl libclass-c3-xs-perl\n",
            "  libclass-method-modifiers-perl libclass-xsaccessor-perl libcpan-changes-perl\n",
            "  libcpan-distnameinfo-perl libcpan-meta-check-perl libdata-optlist-perl\n",
            "  libdata-perl-perl libdata-section-perl libdevel-callchecker-perl\n",
            "  libdevel-globaldestruction-perl libdynaloader-functions-perl\n",
            "  libencode-locale-perl libexporter-tiny-perl libfile-pushd-perl\n",
            "  libfile-slurp-perl libgetopt-long-descriptive-perl libhtml-parser-perl\n",
            "  libhtml-tagset-perl libhttp-date-perl libhttp-message-perl\n",
            "  libimport-into-perl libio-html-perl libio-stringy-perl\n",
            "  liblist-moreutils-perl liblocal-lib-perl liblwp-mediatypes-perl\n",
            "  libmodule-build-perl libmodule-cpanfile-perl libmodule-implementation-perl\n",
            "  libmodule-runtime-perl libmodule-signature-perl libmoo-perl\n",
            "  libmoox-handlesvia-perl libmro-compat-perl libnamespace-autoclean-perl\n",
            "  libnamespace-clean-perl libpackage-stash-perl libpackage-stash-xs-perl\n",
            "  libparams-classify-perl libparams-util-perl libparams-validate-perl\n",
            "  libparse-pmfile-perl libpath-tiny-perl libpod-markdown-perl\n",
            "  libpod-readme-perl libreadonly-perl libref-util-perl libref-util-xs-perl\n",
            "  librole-tiny-perl libsoftware-license-perl libstrictures-perl\n",
            "  libstring-shellquote-perl libsub-exporter-perl\n",
            "  libsub-exporter-progressive-perl libsub-identify-perl libsub-install-perl\n",
            "  libsub-name-perl libsub-quote-perl libtext-template-perl libtimedate-perl\n",
            "  libtry-tiny-perl libtype-tiny-perl libtype-tiny-xs-perl libunicode-utf8-perl\n",
            "  liburi-perl libvariable-magic-perl\n",
            "0 upgraded, 72 newly installed, 0 to remove and 14 not upgraded.\n",
            "Need to get 2,249 kB of archives.\n",
            "After this operation, 6,883 kB of additional disk space will be used.\n",
            "Get:1 http://archive.ubuntu.com/ubuntu bionic/universe amd64 libcpan-distnameinfo-perl all 0.12-1 [8,662 B]\n",
            "Get:2 http://archive.ubuntu.com/ubuntu bionic/universe amd64 libcpan-meta-check-perl all 0.014-1 [7,594 B]\n",
            "Get:3 http://archive.ubuntu.com/ubuntu bionic/universe amd64 libfile-pushd-perl all 1.014-1 [11.8 kB]\n",
            "Get:4 http://archive.ubuntu.com/ubuntu bionic/universe amd64 libmodule-build-perl all 0.422400-1 [201 kB]\n",
            "Get:5 http://archive.ubuntu.com/ubuntu bionic/universe amd64 liblocal-lib-perl all 2.000024-1 [46.1 kB]\n",
            "Get:6 http://archive.ubuntu.com/ubuntu bionic/universe amd64 libmodule-cpanfile-perl all 1.1002-1 [23.8 kB]\n",
            "Get:7 http://archive.ubuntu.com/ubuntu bionic/universe amd64 libparse-pmfile-perl all 0.41-1 [14.2 kB]\n",
            "Get:8 http://archive.ubuntu.com/ubuntu bionic/universe amd64 libstring-shellquote-perl all 1.04-1 [12.0 kB]\n",
            "Get:9 http://archive.ubuntu.com/ubuntu bionic/universe amd64 cpanminus all 1.7043-1 [58.0 kB]\n",
            "Get:10 http://archive.ubuntu.com/ubuntu bionic/universe amd64 libalgorithm-c3-perl all 0.10-1 [11.3 kB]\n",
            "Get:11 http://archive.ubuntu.com/ubuntu bionic/main amd64 libb-hooks-op-check-perl amd64 0.22-1 [10.1 kB]\n",
            "Get:12 http://archive.ubuntu.com/ubuntu bionic/main amd64 libdynaloader-functions-perl all 0.003-1 [11.9 kB]\n",
            "Get:13 http://archive.ubuntu.com/ubuntu bionic/main amd64 libdevel-callchecker-perl amd64 0.007-2build1 [14.1 kB]\n",
            "Get:14 http://archive.ubuntu.com/ubuntu bionic/main amd64 libparams-classify-perl amd64 0.015-1 [21.2 kB]\n",
            "Get:15 http://archive.ubuntu.com/ubuntu bionic/main amd64 libmodule-runtime-perl all 0.016-1 [16.2 kB]\n",
            "Get:16 http://archive.ubuntu.com/ubuntu bionic/main amd64 libtry-tiny-perl all 0.30-1 [20.5 kB]\n",
            "Get:17 http://archive.ubuntu.com/ubuntu bionic/main amd64 libmodule-implementation-perl all 0.09-1 [12.2 kB]\n",
            "Get:18 http://archive.ubuntu.com/ubuntu bionic/main amd64 libsub-exporter-progressive-perl all 0.001013-1 [6,784 B]\n",
            "Get:19 http://archive.ubuntu.com/ubuntu bionic/main amd64 libvariable-magic-perl amd64 0.62-1 [34.5 kB]\n",
            "Get:20 http://archive.ubuntu.com/ubuntu bionic/main amd64 libb-hooks-endofscope-perl all 0.21-1 [14.7 kB]\n",
            "Get:21 http://archive.ubuntu.com/ubuntu bionic/universe amd64 libclass-c3-perl all 0.33-1 [19.0 kB]\n",
            "Get:22 http://archive.ubuntu.com/ubuntu bionic/universe amd64 libclass-c3-xs-perl amd64 0.14-1build3 [15.8 kB]\n",
            "Get:23 http://archive.ubuntu.com/ubuntu bionic/main amd64 libclass-method-modifiers-perl all 2.12-1 [15.7 kB]\n",
            "Get:24 http://archive.ubuntu.com/ubuntu bionic/main amd64 libclass-xsaccessor-perl amd64 1.19-2build8 [32.8 kB]\n",
            "Get:25 http://archive.ubuntu.com/ubuntu bionic/universe amd64 libcpan-changes-perl all 0.400002-1 [32.0 kB]\n",
            "Get:26 http://archive.ubuntu.com/ubuntu bionic/main amd64 libparams-util-perl amd64 1.07-3build3 [19.6 kB]\n",
            "Get:27 http://archive.ubuntu.com/ubuntu bionic/main amd64 libsub-install-perl all 0.928-1 [10.5 kB]\n",
            "Get:28 http://archive.ubuntu.com/ubuntu bionic/main amd64 libdata-optlist-perl all 0.110-1 [9,956 B]\n",
            "Get:29 http://archive.ubuntu.com/ubuntu bionic/main amd64 libexporter-tiny-perl all 1.000000-2 [34.6 kB]\n",
            "Get:30 http://archive.ubuntu.com/ubuntu bionic/main amd64 liblist-moreutils-perl amd64 0.416-1build3 [55.5 kB]\n",
            "Get:31 http://archive.ubuntu.com/ubuntu bionic/main amd64 librole-tiny-perl all 2.000006-1 [15.9 kB]\n",
            "Get:32 http://archive.ubuntu.com/ubuntu bionic/main amd64 libstrictures-perl all 2.000003-1 [16.1 kB]\n",
            "Get:33 http://archive.ubuntu.com/ubuntu bionic/universe amd64 libdata-perl-perl all 0.002009-2 [39.1 kB]\n",
            "Get:34 http://archive.ubuntu.com/ubuntu bionic/universe amd64 libmro-compat-perl all 0.13-1 [11.2 kB]\n",
            "Get:35 http://archive.ubuntu.com/ubuntu bionic/main amd64 libsub-exporter-perl all 0.987-1 [44.9 kB]\n",
            "Get:36 http://archive.ubuntu.com/ubuntu bionic/universe amd64 libdata-section-perl all 0.200007-1 [11.8 kB]\n",
            "Get:37 http://archive.ubuntu.com/ubuntu bionic/main amd64 libdevel-globaldestruction-perl all 0.14-1 [6,752 B]\n",
            "Get:38 http://archive.ubuntu.com/ubuntu bionic/main amd64 libencode-locale-perl all 1.05-1 [12.3 kB]\n",
            "Get:39 http://archive.ubuntu.com/ubuntu bionic/universe amd64 libfile-slurp-perl all 9999.19-6 [38.5 kB]\n",
            "Get:40 http://archive.ubuntu.com/ubuntu bionic/main amd64 libio-stringy-perl all 2.111-2 [60.6 kB]\n",
            "Get:41 http://archive.ubuntu.com/ubuntu bionic/main amd64 libparams-validate-perl amd64 1.29-1 [52.3 kB]\n",
            "Get:42 http://archive.ubuntu.com/ubuntu bionic/main amd64 libgetopt-long-descriptive-perl all 0.102-1 [24.4 kB]\n",
            "Get:43 http://archive.ubuntu.com/ubuntu bionic/main amd64 libhtml-tagset-perl all 3.20-3 [12.1 kB]\n",
            "Get:44 http://archive.ubuntu.com/ubuntu bionic/main amd64 liburi-perl all 1.73-1 [77.2 kB]\n",
            "Get:45 http://archive.ubuntu.com/ubuntu bionic/main amd64 libhtml-parser-perl amd64 3.72-3build1 [85.9 kB]\n",
            "Get:46 http://archive.ubuntu.com/ubuntu bionic/main amd64 libtimedate-perl all 2.3000-2 [37.5 kB]\n",
            "Get:47 http://archive.ubuntu.com/ubuntu bionic/main amd64 libhttp-date-perl all 6.02-1 [10.4 kB]\n",
            "Get:48 http://archive.ubuntu.com/ubuntu bionic/main amd64 libio-html-perl all 1.001-1 [14.9 kB]\n",
            "Get:49 http://archive.ubuntu.com/ubuntu bionic/main amd64 liblwp-mediatypes-perl all 6.02-1 [21.7 kB]\n",
            "Get:50 http://archive.ubuntu.com/ubuntu bionic/main amd64 libhttp-message-perl all 6.14-1 [72.1 kB]\n",
            "Get:51 http://archive.ubuntu.com/ubuntu bionic/main amd64 libimport-into-perl all 1.002005-1 [11.0 kB]\n",
            "Get:52 http://archive.ubuntu.com/ubuntu bionic/universe amd64 libmodule-signature-perl all 0.81-1 [22.9 kB]\n",
            "Get:53 http://archive.ubuntu.com/ubuntu bionic/main amd64 libsub-quote-perl all 2.005000-1 [17.0 kB]\n",
            "Get:54 http://archive.ubuntu.com/ubuntu bionic/main amd64 libmoo-perl all 2.003004-1 [45.5 kB]\n",
            "Get:55 http://archive.ubuntu.com/ubuntu bionic/universe amd64 libmoox-handlesvia-perl all 0.001008-3 [17.6 kB]\n",
            "Get:56 http://archive.ubuntu.com/ubuntu bionic/main amd64 libpackage-stash-perl all 0.37-1 [18.3 kB]\n",
            "Get:57 http://archive.ubuntu.com/ubuntu bionic/main amd64 libsub-identify-perl amd64 0.14-1 [10.5 kB]\n",
            "Get:58 http://archive.ubuntu.com/ubuntu bionic/main amd64 libsub-name-perl amd64 0.21-1build1 [11.6 kB]\n",
            "Get:59 http://archive.ubuntu.com/ubuntu bionic/main amd64 libnamespace-clean-perl all 0.27-1 [13.6 kB]\n",
            "Get:60 http://archive.ubuntu.com/ubuntu bionic/universe amd64 libnamespace-autoclean-perl all 0.28-1 [12.5 kB]\n",
            "Get:61 http://archive.ubuntu.com/ubuntu bionic/main amd64 libpackage-stash-xs-perl amd64 0.28-3build2 [16.4 kB]\n",
            "Get:62 http://archive.ubuntu.com/ubuntu bionic/main amd64 libpath-tiny-perl all 0.104-1 [55.3 kB]\n",
            "Get:63 http://archive.ubuntu.com/ubuntu bionic/universe amd64 libpod-markdown-perl all 3.005000-1 [27.9 kB]\n",
            "Get:64 http://archive.ubuntu.com/ubuntu bionic/universe amd64 libtype-tiny-perl all 1.002001-1 [226 kB]\n",
            "Get:65 http://archive.ubuntu.com/ubuntu bionic/universe amd64 libpod-readme-perl all 1.1.2-2 [32.9 kB]\n",
            "Get:66 http://archive.ubuntu.com/ubuntu bionic/universe amd64 libreadonly-perl all 2.050-1 [19.8 kB]\n",
            "Get:67 http://archive.ubuntu.com/ubuntu bionic/universe amd64 libref-util-perl all 0.203-1 [14.8 kB]\n",
            "Get:68 http://archive.ubuntu.com/ubuntu bionic/universe amd64 libref-util-xs-perl amd64 0.116-1 [11.5 kB]\n",
            "Get:69 http://archive.ubuntu.com/ubuntu bionic/universe amd64 libtext-template-perl all 1.47-1 [46.9 kB]\n",
            "Get:70 http://archive.ubuntu.com/ubuntu bionic/universe amd64 libsoftware-license-perl all 0.103012-1 [108 kB]\n",
            "Get:71 http://archive.ubuntu.com/ubuntu bionic/universe amd64 libtype-tiny-xs-perl amd64 0.012-2 [22.8 kB]\n",
            "Get:72 http://archive.ubuntu.com/ubuntu bionic/main amd64 libunicode-utf8-perl amd64 0.60-1build4 [17.9 kB]\n",
            "Fetched 2,249 kB in 4s (524 kB/s)\n",
            "Extracting templates from packages: 100%\n",
            "Selecting previously unselected package libcpan-distnameinfo-perl.\n",
            "(Reading database ... 144865 files and directories currently installed.)\n",
            "Preparing to unpack .../00-libcpan-distnameinfo-perl_0.12-1_all.deb ...\n",
            "Unpacking libcpan-distnameinfo-perl (0.12-1) ...\n",
            "Selecting previously unselected package libcpan-meta-check-perl.\n",
            "Preparing to unpack .../01-libcpan-meta-check-perl_0.014-1_all.deb ...\n",
            "Unpacking libcpan-meta-check-perl (0.014-1) ...\n",
            "Selecting previously unselected package libfile-pushd-perl.\n",
            "Preparing to unpack .../02-libfile-pushd-perl_1.014-1_all.deb ...\n",
            "Unpacking libfile-pushd-perl (1.014-1) ...\n",
            "Selecting previously unselected package libmodule-build-perl.\n",
            "Preparing to unpack .../03-libmodule-build-perl_0.422400-1_all.deb ...\n",
            "Adding 'diversion of /usr/bin/config_data to /usr/bin/config_data.diverted by libmodule-build-perl'\n",
            "Adding 'diversion of /usr/share/man/man1/config_data.1.gz to /usr/share/man/man1/config_data.diverted.1.gz by libmodule-build-perl'\n",
            "Unpacking libmodule-build-perl (0.422400-1) ...\n",
            "Selecting previously unselected package liblocal-lib-perl.\n",
            "Preparing to unpack .../04-liblocal-lib-perl_2.000024-1_all.deb ...\n",
            "Unpacking liblocal-lib-perl (2.000024-1) ...\n",
            "Selecting previously unselected package libmodule-cpanfile-perl.\n",
            "Preparing to unpack .../05-libmodule-cpanfile-perl_1.1002-1_all.deb ...\n",
            "Unpacking libmodule-cpanfile-perl (1.1002-1) ...\n",
            "Selecting previously unselected package libparse-pmfile-perl.\n",
            "Preparing to unpack .../06-libparse-pmfile-perl_0.41-1_all.deb ...\n",
            "Unpacking libparse-pmfile-perl (0.41-1) ...\n",
            "Selecting previously unselected package libstring-shellquote-perl.\n",
            "Preparing to unpack .../07-libstring-shellquote-perl_1.04-1_all.deb ...\n",
            "Unpacking libstring-shellquote-perl (1.04-1) ...\n",
            "Selecting previously unselected package cpanminus.\n",
            "Preparing to unpack .../08-cpanminus_1.7043-1_all.deb ...\n",
            "Unpacking cpanminus (1.7043-1) ...\n",
            "Selecting previously unselected package libalgorithm-c3-perl.\n",
            "Preparing to unpack .../09-libalgorithm-c3-perl_0.10-1_all.deb ...\n",
            "Unpacking libalgorithm-c3-perl (0.10-1) ...\n",
            "Selecting previously unselected package libb-hooks-op-check-perl.\n",
            "Preparing to unpack .../10-libb-hooks-op-check-perl_0.22-1_amd64.deb ...\n",
            "Unpacking libb-hooks-op-check-perl (0.22-1) ...\n",
            "Selecting previously unselected package libdynaloader-functions-perl.\n",
            "Preparing to unpack .../11-libdynaloader-functions-perl_0.003-1_all.deb ...\n",
            "Unpacking libdynaloader-functions-perl (0.003-1) ...\n",
            "Selecting previously unselected package libdevel-callchecker-perl.\n",
            "Preparing to unpack .../12-libdevel-callchecker-perl_0.007-2build1_amd64.deb ...\n",
            "Unpacking libdevel-callchecker-perl (0.007-2build1) ...\n",
            "Selecting previously unselected package libparams-classify-perl.\n",
            "Preparing to unpack .../13-libparams-classify-perl_0.015-1_amd64.deb ...\n",
            "Unpacking libparams-classify-perl (0.015-1) ...\n",
            "Selecting previously unselected package libmodule-runtime-perl.\n",
            "Preparing to unpack .../14-libmodule-runtime-perl_0.016-1_all.deb ...\n",
            "Unpacking libmodule-runtime-perl (0.016-1) ...\n",
            "Selecting previously unselected package libtry-tiny-perl.\n",
            "Preparing to unpack .../15-libtry-tiny-perl_0.30-1_all.deb ...\n",
            "Unpacking libtry-tiny-perl (0.30-1) ...\n",
            "Selecting previously unselected package libmodule-implementation-perl.\n",
            "Preparing to unpack .../16-libmodule-implementation-perl_0.09-1_all.deb ...\n",
            "Unpacking libmodule-implementation-perl (0.09-1) ...\n",
            "Selecting previously unselected package libsub-exporter-progressive-perl.\n",
            "Preparing to unpack .../17-libsub-exporter-progressive-perl_0.001013-1_all.deb ...\n",
            "Unpacking libsub-exporter-progressive-perl (0.001013-1) ...\n",
            "Selecting previously unselected package libvariable-magic-perl.\n",
            "Preparing to unpack .../18-libvariable-magic-perl_0.62-1_amd64.deb ...\n",
            "Unpacking libvariable-magic-perl (0.62-1) ...\n",
            "Selecting previously unselected package libb-hooks-endofscope-perl.\n",
            "Preparing to unpack .../19-libb-hooks-endofscope-perl_0.21-1_all.deb ...\n",
            "Unpacking libb-hooks-endofscope-perl (0.21-1) ...\n",
            "Selecting previously unselected package libclass-c3-perl.\n",
            "Preparing to unpack .../20-libclass-c3-perl_0.33-1_all.deb ...\n",
            "Unpacking libclass-c3-perl (0.33-1) ...\n",
            "Selecting previously unselected package libclass-c3-xs-perl.\n",
            "Preparing to unpack .../21-libclass-c3-xs-perl_0.14-1build3_amd64.deb ...\n",
            "Unpacking libclass-c3-xs-perl (0.14-1build3) ...\n",
            "Selecting previously unselected package libclass-method-modifiers-perl.\n",
            "Preparing to unpack .../22-libclass-method-modifiers-perl_2.12-1_all.deb ...\n",
            "Unpacking libclass-method-modifiers-perl (2.12-1) ...\n",
            "Selecting previously unselected package libclass-xsaccessor-perl.\n",
            "Preparing to unpack .../23-libclass-xsaccessor-perl_1.19-2build8_amd64.deb ...\n",
            "Unpacking libclass-xsaccessor-perl (1.19-2build8) ...\n",
            "Selecting previously unselected package libcpan-changes-perl.\n",
            "Preparing to unpack .../24-libcpan-changes-perl_0.400002-1_all.deb ...\n",
            "Unpacking libcpan-changes-perl (0.400002-1) ...\n",
            "Selecting previously unselected package libparams-util-perl.\n",
            "Preparing to unpack .../25-libparams-util-perl_1.07-3build3_amd64.deb ...\n",
            "Unpacking libparams-util-perl (1.07-3build3) ...\n",
            "Selecting previously unselected package libsub-install-perl.\n",
            "Preparing to unpack .../26-libsub-install-perl_0.928-1_all.deb ...\n",
            "Unpacking libsub-install-perl (0.928-1) ...\n",
            "Selecting previously unselected package libdata-optlist-perl.\n",
            "Preparing to unpack .../27-libdata-optlist-perl_0.110-1_all.deb ...\n",
            "Unpacking libdata-optlist-perl (0.110-1) ...\n",
            "Selecting previously unselected package libexporter-tiny-perl.\n",
            "Preparing to unpack .../28-libexporter-tiny-perl_1.000000-2_all.deb ...\n",
            "Unpacking libexporter-tiny-perl (1.000000-2) ...\n",
            "Selecting previously unselected package liblist-moreutils-perl.\n",
            "Preparing to unpack .../29-liblist-moreutils-perl_0.416-1build3_amd64.deb ...\n",
            "Unpacking liblist-moreutils-perl (0.416-1build3) ...\n",
            "Selecting previously unselected package librole-tiny-perl.\n",
            "Preparing to unpack .../30-librole-tiny-perl_2.000006-1_all.deb ...\n",
            "Unpacking librole-tiny-perl (2.000006-1) ...\n",
            "Selecting previously unselected package libstrictures-perl.\n",
            "Preparing to unpack .../31-libstrictures-perl_2.000003-1_all.deb ...\n",
            "Unpacking libstrictures-perl (2.000003-1) ...\n",
            "Selecting previously unselected package libdata-perl-perl.\n",
            "Preparing to unpack .../32-libdata-perl-perl_0.002009-2_all.deb ...\n",
            "Unpacking libdata-perl-perl (0.002009-2) ...\n",
            "Selecting previously unselected package libmro-compat-perl.\n",
            "Preparing to unpack .../33-libmro-compat-perl_0.13-1_all.deb ...\n",
            "Unpacking libmro-compat-perl (0.13-1) ...\n",
            "Selecting previously unselected package libsub-exporter-perl.\n",
            "Preparing to unpack .../34-libsub-exporter-perl_0.987-1_all.deb ...\n",
            "Unpacking libsub-exporter-perl (0.987-1) ...\n",
            "Selecting previously unselected package libdata-section-perl.\n",
            "Preparing to unpack .../35-libdata-section-perl_0.200007-1_all.deb ...\n",
            "Unpacking libdata-section-perl (0.200007-1) ...\n",
            "Selecting previously unselected package libdevel-globaldestruction-perl.\n",
            "Preparing to unpack .../36-libdevel-globaldestruction-perl_0.14-1_all.deb ...\n",
            "Unpacking libdevel-globaldestruction-perl (0.14-1) ...\n",
            "Selecting previously unselected package libencode-locale-perl.\n",
            "Preparing to unpack .../37-libencode-locale-perl_1.05-1_all.deb ...\n",
            "Unpacking libencode-locale-perl (1.05-1) ...\n",
            "Selecting previously unselected package libfile-slurp-perl.\n",
            "Preparing to unpack .../38-libfile-slurp-perl_9999.19-6_all.deb ...\n",
            "Unpacking libfile-slurp-perl (9999.19-6) ...\n",
            "Selecting previously unselected package libio-stringy-perl.\n",
            "Preparing to unpack .../39-libio-stringy-perl_2.111-2_all.deb ...\n",
            "Unpacking libio-stringy-perl (2.111-2) ...\n",
            "Selecting previously unselected package libparams-validate-perl.\n",
            "Preparing to unpack .../40-libparams-validate-perl_1.29-1_amd64.deb ...\n",
            "Unpacking libparams-validate-perl (1.29-1) ...\n",
            "Selecting previously unselected package libgetopt-long-descriptive-perl.\n",
            "Preparing to unpack .../41-libgetopt-long-descriptive-perl_0.102-1_all.deb ...\n",
            "Unpacking libgetopt-long-descriptive-perl (0.102-1) ...\n",
            "Selecting previously unselected package libhtml-tagset-perl.\n",
            "Preparing to unpack .../42-libhtml-tagset-perl_3.20-3_all.deb ...\n",
            "Unpacking libhtml-tagset-perl (3.20-3) ...\n",
            "Selecting previously unselected package liburi-perl.\n",
            "Preparing to unpack .../43-liburi-perl_1.73-1_all.deb ...\n",
            "Unpacking liburi-perl (1.73-1) ...\n",
            "Selecting previously unselected package libhtml-parser-perl.\n",
            "Preparing to unpack .../44-libhtml-parser-perl_3.72-3build1_amd64.deb ...\n",
            "Unpacking libhtml-parser-perl (3.72-3build1) ...\n",
            "Selecting previously unselected package libtimedate-perl.\n",
            "Preparing to unpack .../45-libtimedate-perl_2.3000-2_all.deb ...\n",
            "Unpacking libtimedate-perl (2.3000-2) ...\n",
            "Selecting previously unselected package libhttp-date-perl.\n",
            "Preparing to unpack .../46-libhttp-date-perl_6.02-1_all.deb ...\n",
            "Unpacking libhttp-date-perl (6.02-1) ...\n",
            "Selecting previously unselected package libio-html-perl.\n",
            "Preparing to unpack .../47-libio-html-perl_1.001-1_all.deb ...\n",
            "Unpacking libio-html-perl (1.001-1) ...\n",
            "Selecting previously unselected package liblwp-mediatypes-perl.\n",
            "Preparing to unpack .../48-liblwp-mediatypes-perl_6.02-1_all.deb ...\n",
            "Unpacking liblwp-mediatypes-perl (6.02-1) ...\n",
            "Selecting previously unselected package libhttp-message-perl.\n",
            "Preparing to unpack .../49-libhttp-message-perl_6.14-1_all.deb ...\n",
            "Unpacking libhttp-message-perl (6.14-1) ...\n",
            "Selecting previously unselected package libimport-into-perl.\n",
            "Preparing to unpack .../50-libimport-into-perl_1.002005-1_all.deb ...\n",
            "Unpacking libimport-into-perl (1.002005-1) ...\n",
            "Selecting previously unselected package libmodule-signature-perl.\n",
            "Preparing to unpack .../51-libmodule-signature-perl_0.81-1_all.deb ...\n",
            "Unpacking libmodule-signature-perl (0.81-1) ...\n",
            "Selecting previously unselected package libsub-quote-perl.\n",
            "Preparing to unpack .../52-libsub-quote-perl_2.005000-1_all.deb ...\n",
            "Unpacking libsub-quote-perl (2.005000-1) ...\n",
            "Selecting previously unselected package libmoo-perl.\n",
            "Preparing to unpack .../53-libmoo-perl_2.003004-1_all.deb ...\n",
            "Unpacking libmoo-perl (2.003004-1) ...\n",
            "Selecting previously unselected package libmoox-handlesvia-perl.\n",
            "Preparing to unpack .../54-libmoox-handlesvia-perl_0.001008-3_all.deb ...\n",
            "Unpacking libmoox-handlesvia-perl (0.001008-3) ...\n",
            "Selecting previously unselected package libpackage-stash-perl.\n",
            "Preparing to unpack .../55-libpackage-stash-perl_0.37-1_all.deb ...\n",
            "Unpacking libpackage-stash-perl (0.37-1) ...\n",
            "Selecting previously unselected package libsub-identify-perl.\n",
            "Preparing to unpack .../56-libsub-identify-perl_0.14-1_amd64.deb ...\n",
            "Unpacking libsub-identify-perl (0.14-1) ...\n",
            "Selecting previously unselected package libsub-name-perl.\n",
            "Preparing to unpack .../57-libsub-name-perl_0.21-1build1_amd64.deb ...\n",
            "Unpacking libsub-name-perl (0.21-1build1) ...\n",
            "Selecting previously unselected package libnamespace-clean-perl.\n",
            "Preparing to unpack .../58-libnamespace-clean-perl_0.27-1_all.deb ...\n",
            "Unpacking libnamespace-clean-perl (0.27-1) ...\n",
            "Selecting previously unselected package libnamespace-autoclean-perl.\n",
            "Preparing to unpack .../59-libnamespace-autoclean-perl_0.28-1_all.deb ...\n",
            "Unpacking libnamespace-autoclean-perl (0.28-1) ...\n",
            "Selecting previously unselected package libpackage-stash-xs-perl.\n",
            "Preparing to unpack .../60-libpackage-stash-xs-perl_0.28-3build2_amd64.deb ...\n",
            "Unpacking libpackage-stash-xs-perl (0.28-3build2) ...\n",
            "Selecting previously unselected package libpath-tiny-perl.\n",
            "Preparing to unpack .../61-libpath-tiny-perl_0.104-1_all.deb ...\n",
            "Unpacking libpath-tiny-perl (0.104-1) ...\n",
            "Selecting previously unselected package libpod-markdown-perl.\n",
            "Preparing to unpack .../62-libpod-markdown-perl_3.005000-1_all.deb ...\n",
            "Unpacking libpod-markdown-perl (3.005000-1) ...\n",
            "Selecting previously unselected package libtype-tiny-perl.\n",
            "Preparing to unpack .../63-libtype-tiny-perl_1.002001-1_all.deb ...\n",
            "Unpacking libtype-tiny-perl (1.002001-1) ...\n",
            "Selecting previously unselected package libpod-readme-perl.\n",
            "Preparing to unpack .../64-libpod-readme-perl_1.1.2-2_all.deb ...\n",
            "Unpacking libpod-readme-perl (1.1.2-2) ...\n",
            "Selecting previously unselected package libreadonly-perl.\n",
            "Preparing to unpack .../65-libreadonly-perl_2.050-1_all.deb ...\n",
            "Unpacking libreadonly-perl (2.050-1) ...\n",
            "Selecting previously unselected package libref-util-perl.\n",
            "Preparing to unpack .../66-libref-util-perl_0.203-1_all.deb ...\n",
            "Unpacking libref-util-perl (0.203-1) ...\n",
            "Selecting previously unselected package libref-util-xs-perl.\n",
            "Preparing to unpack .../67-libref-util-xs-perl_0.116-1_amd64.deb ...\n",
            "Unpacking libref-util-xs-perl (0.116-1) ...\n",
            "Selecting previously unselected package libtext-template-perl.\n",
            "Preparing to unpack .../68-libtext-template-perl_1.47-1_all.deb ...\n",
            "Unpacking libtext-template-perl (1.47-1) ...\n",
            "Selecting previously unselected package libsoftware-license-perl.\n",
            "Preparing to unpack .../69-libsoftware-license-perl_0.103012-1_all.deb ...\n",
            "Unpacking libsoftware-license-perl (0.103012-1) ...\n",
            "Selecting previously unselected package libtype-tiny-xs-perl.\n",
            "Preparing to unpack .../70-libtype-tiny-xs-perl_0.012-2_amd64.deb ...\n",
            "Unpacking libtype-tiny-xs-perl (0.012-2) ...\n",
            "Selecting previously unselected package libunicode-utf8-perl.\n",
            "Preparing to unpack .../71-libunicode-utf8-perl_0.60-1build4_amd64.deb ...\n",
            "Unpacking libunicode-utf8-perl (0.60-1build4) ...\n",
            "Setting up libhtml-tagset-perl (3.20-3) ...\n",
            "Setting up libpath-tiny-perl (0.104-1) ...\n",
            "Setting up libclass-c3-xs-perl (0.14-1build3) ...\n",
            "Setting up libsub-install-perl (0.928-1) ...\n",
            "Setting up libio-stringy-perl (2.111-2) ...\n",
            "Setting up libcpan-distnameinfo-perl (0.12-1) ...\n",
            "Setting up libsub-exporter-progressive-perl (0.001013-1) ...\n",
            "Setting up libtry-tiny-perl (0.30-1) ...\n",
            "Setting up libfile-slurp-perl (9999.19-6) ...\n",
            "Setting up libclass-method-modifiers-perl (2.12-1) ...\n",
            "Setting up libencode-locale-perl (1.05-1) ...\n",
            "Setting up libvariable-magic-perl (0.62-1) ...\n",
            "Setting up libtimedate-perl (2.3000-2) ...\n",
            "Setting up librole-tiny-perl (2.000006-1) ...\n",
            "Setting up libstring-shellquote-perl (1.04-1) ...\n",
            "Setting up libb-hooks-op-check-perl (0.22-1) ...\n",
            "Setting up libio-html-perl (1.001-1) ...\n",
            "Setting up libexporter-tiny-perl (1.000000-2) ...\n",
            "Setting up libmodule-cpanfile-perl (1.1002-1) ...\n",
            "Setting up libtype-tiny-xs-perl (0.012-2) ...\n",
            "Setting up libsub-identify-perl (0.14-1) ...\n",
            "Setting up libref-util-perl (0.203-1) ...\n",
            "Setting up libdynaloader-functions-perl (0.003-1) ...\n",
            "Setting up libparse-pmfile-perl (0.41-1) ...\n",
            "Setting up libfile-pushd-perl (1.014-1) ...\n",
            "Setting up libcpan-meta-check-perl (0.014-1) ...\n",
            "Setting up libpackage-stash-xs-perl (0.28-3build2) ...\n",
            "Setting up libstrictures-perl (2.000003-1) ...\n",
            "Setting up libmodule-signature-perl (0.81-1) ...\n",
            "Setting up libreadonly-perl (2.050-1) ...\n",
            "Setting up liblwp-mediatypes-perl (6.02-1) ...\n",
            "Setting up libref-util-xs-perl (0.116-1) ...\n",
            "Setting up liburi-perl (1.73-1) ...\n",
            "Setting up libhtml-parser-perl (3.72-3build1) ...\n",
            "Setting up libdevel-globaldestruction-perl (0.14-1) ...\n",
            "Setting up libpod-markdown-perl (3.005000-1) ...\n",
            "Setting up libclass-xsaccessor-perl (1.19-2build8) ...\n",
            "Setting up libcpan-changes-perl (0.400002-1) ...\n",
            "Setting up libunicode-utf8-perl (0.60-1build4) ...\n",
            "Setting up libmodule-build-perl (0.422400-1) ...\n",
            "Setting up libparams-util-perl (1.07-3build3) ...\n",
            "Setting up libsub-name-perl (0.21-1build1) ...\n",
            "Setting up libsub-quote-perl (2.005000-1) ...\n",
            "Setting up libtext-template-perl (1.47-1) ...\n",
            "Setting up libalgorithm-c3-perl (0.10-1) ...\n",
            "Setting up libclass-c3-perl (0.33-1) ...\n",
            "Setting up liblocal-lib-perl (2.000024-1) ...\n",
            "Setting up liblist-moreutils-perl (0.416-1build3) ...\n",
            "Setting up libdata-optlist-perl (0.110-1) ...\n",
            "Setting up libhttp-date-perl (6.02-1) ...\n",
            "Setting up libtype-tiny-perl (1.002001-1) ...\n",
            "Setting up libdevel-callchecker-perl (0.007-2build1) ...\n",
            "Setting up cpanminus (1.7043-1) ...\n",
            "Setting up libmro-compat-perl (0.13-1) ...\n",
            "Setting up libsub-exporter-perl (0.987-1) ...\n",
            "Setting up libhttp-message-perl (6.14-1) ...\n",
            "Setting up libparams-classify-perl (0.015-1) ...\n",
            "Setting up libdata-section-perl (0.200007-1) ...\n",
            "Setting up libmodule-runtime-perl (0.016-1) ...\n",
            "Setting up libsoftware-license-perl (0.103012-1) ...\n",
            "Setting up libdata-perl-perl (0.002009-2) ...\n",
            "Setting up libimport-into-perl (1.002005-1) ...\n",
            "Setting up libmodule-implementation-perl (0.09-1) ...\n",
            "Setting up libparams-validate-perl (1.29-1) ...\n",
            "Setting up libmoo-perl (2.003004-1) ...\n",
            "Setting up libb-hooks-endofscope-perl (0.21-1) ...\n",
            "Setting up libpackage-stash-perl (0.37-1) ...\n",
            "Setting up libgetopt-long-descriptive-perl (0.102-1) ...\n",
            "Setting up libmoox-handlesvia-perl (0.001008-3) ...\n",
            "Setting up libnamespace-clean-perl (0.27-1) ...\n",
            "Setting up libnamespace-autoclean-perl (0.28-1) ...\n",
            "Setting up libpod-readme-perl (1.1.2-2) ...\n",
            "Processing triggers for man-db (2.8.3-2ubuntu0.1) ...\n",
            "--> Working on XML::Parser\n",
            "Fetching http://www.cpan.org/authors/id/T/TO/TODDR/XML-Parser-2.46.tar.gz ... OK\n",
            "Configuring XML-Parser-2.46 ... OK\n",
            "==> Found dependencies: LWP::UserAgent\n",
            "--> Working on LWP::UserAgent\n",
            "Fetching http://www.cpan.org/authors/id/O/OA/OALDERS/libwww-perl-6.50.tar.gz ... OK\n",
            "Configuring libwww-perl-6.50 ... OK\n",
            "==> Found dependencies: HTTP::Negotiate, Test::Needs, File::Listing, Test::RequiresInternet, HTTP::Daemon, WWW::RobotRules, Net::HTTP, Test::Fatal, HTTP::Cookies\n",
            "--> Working on HTTP::Negotiate\n",
            "Fetching http://www.cpan.org/authors/id/G/GA/GAAS/HTTP-Negotiate-6.01.tar.gz ... OK\n",
            "Configuring HTTP-Negotiate-6.01 ... OK\n",
            "Building and testing HTTP-Negotiate-6.01 ... OK\n",
            "Successfully installed HTTP-Negotiate-6.01\n",
            "--> Working on Test::Needs\n",
            "Fetching http://www.cpan.org/authors/id/H/HA/HAARG/Test-Needs-0.002006.tar.gz ... OK\n",
            "Configuring Test-Needs-0.002006 ... OK\n",
            "Building and testing Test-Needs-0.002006 ... OK\n",
            "Successfully installed Test-Needs-0.002006\n",
            "--> Working on File::Listing\n",
            "Fetching http://www.cpan.org/authors/id/P/PL/PLICEASE/File-Listing-6.14.tar.gz ... OK\n",
            "Configuring File-Listing-6.14 ... OK\n",
            "Building and testing File-Listing-6.14 ... OK\n",
            "Successfully installed File-Listing-6.14\n",
            "--> Working on Test::RequiresInternet\n",
            "Fetching http://www.cpan.org/authors/id/M/MA/MALLEN/Test-RequiresInternet-0.05.tar.gz ... OK\n",
            "Configuring Test-RequiresInternet-0.05 ... OK\n",
            "Building and testing Test-RequiresInternet-0.05 ... OK\n",
            "Successfully installed Test-RequiresInternet-0.05\n",
            "--> Working on HTTP::Daemon\n",
            "Fetching http://www.cpan.org/authors/id/O/OA/OALDERS/HTTP-Daemon-6.12.tar.gz ... OK\n",
            "==> Found dependencies: Module::Build::Tiny\n",
            "--> Working on Module::Build::Tiny\n",
            "Fetching http://www.cpan.org/authors/id/L/LE/LEONT/Module-Build-Tiny-0.039.tar.gz ... OK\n",
            "==> Found dependencies: ExtUtils::Helpers, ExtUtils::InstallPaths, ExtUtils::Config\n",
            "--> Working on ExtUtils::Helpers\n",
            "Fetching http://www.cpan.org/authors/id/L/LE/LEONT/ExtUtils-Helpers-0.026.tar.gz ... OK\n",
            "Configuring ExtUtils-Helpers-0.026 ... OK\n",
            "Building and testing ExtUtils-Helpers-0.026 ... OK\n",
            "Successfully installed ExtUtils-Helpers-0.026\n",
            "--> Working on ExtUtils::InstallPaths\n",
            "Fetching http://www.cpan.org/authors/id/L/LE/LEONT/ExtUtils-InstallPaths-0.012.tar.gz ... OK\n",
            "Configuring ExtUtils-InstallPaths-0.012 ... OK\n",
            "==> Found dependencies: ExtUtils::Config\n",
            "--> Working on ExtUtils::Config\n",
            "Fetching http://www.cpan.org/authors/id/L/LE/LEONT/ExtUtils-Config-0.008.tar.gz ... OK\n",
            "Configuring ExtUtils-Config-0.008 ... OK\n",
            "Building and testing ExtUtils-Config-0.008 ... OK\n",
            "Successfully installed ExtUtils-Config-0.008\n",
            "Building and testing ExtUtils-InstallPaths-0.012 ... OK\n",
            "Successfully installed ExtUtils-InstallPaths-0.012\n",
            "Configuring Module-Build-Tiny-0.039 ... OK\n",
            "Building and testing Module-Build-Tiny-0.039 ... OK\n",
            "Successfully installed Module-Build-Tiny-0.039\n",
            "Configuring HTTP-Daemon-6.12 ... OK\n",
            "Building and testing HTTP-Daemon-6.12 ... OK\n",
            "Successfully installed HTTP-Daemon-6.12\n",
            "--> Working on WWW::RobotRules\n",
            "Fetching http://www.cpan.org/authors/id/G/GA/GAAS/WWW-RobotRules-6.02.tar.gz ... OK\n",
            "Configuring WWW-RobotRules-6.02 ... OK\n",
            "Building and testing WWW-RobotRules-6.02 ... OK\n",
            "Successfully installed WWW-RobotRules-6.02\n",
            "--> Working on Net::HTTP\n",
            "Fetching http://www.cpan.org/authors/id/O/OA/OALDERS/Net-HTTP-6.19.tar.gz ... OK\n",
            "Configuring Net-HTTP-6.19 ... OK\n",
            "Building and testing Net-HTTP-6.19 ... OK\n",
            "Successfully installed Net-HTTP-6.19\n",
            "--> Working on Test::Fatal\n",
            "Fetching http://www.cpan.org/authors/id/R/RJ/RJBS/Test-Fatal-0.016.tar.gz ... OK\n",
            "Configuring Test-Fatal-0.016 ... OK\n",
            "Building and testing Test-Fatal-0.016 ... OK\n",
            "Successfully installed Test-Fatal-0.016\n",
            "--> Working on HTTP::Cookies\n",
            "Fetching http://www.cpan.org/authors/id/O/OA/OALDERS/HTTP-Cookies-6.09.tar.gz ... OK\n",
            "Configuring HTTP-Cookies-6.09 ... OK\n",
            "Building and testing HTTP-Cookies-6.09 ... OK\n",
            "Successfully installed HTTP-Cookies-6.09\n",
            "Building and testing libwww-perl-6.50 ... OK\n",
            "Successfully installed libwww-perl-6.50\n",
            "Building and testing XML-Parser-2.46 ... OK\n",
            "Successfully installed XML-Parser-2.46\n",
            "15 distributions installed\n"
          ],
          "name": "stdout"
        }
      ]
    },
    {
      "cell_type": "code",
      "metadata": {
        "colab": {
          "base_uri": "https://localhost:8080/"
        },
        "id": "xoVG8ph8fukV",
        "outputId": "5bb77d29-c5d1-4975-cce7-1ff0693a9e9f"
      },
      "source": [
        "from pythonrouge.pythonrouge import Pythonrouge\n",
        "\n",
        "\n",
        "# initialize setting of ROUGE to evaluate ROUGE-1, 2, W and SU4\n",
        "\n",
        " \n",
        "\n",
        "rouge = Pythonrouge(summary_file_exist=False,\n",
        "\n",
        "                    summary=[[text]], reference=[[[g_sent]]],\n",
        "\n",
        "                    n_gram=2, ROUGE_SU4=True, ROUGE_L=True,ROUGE_W=True,ROUGE_W_Weight=1.2,\n",
        "\n",
        "                    recall_only=False, stemming=True, stopwords=True,\n",
        "\n",
        "                    word_level=True, length_limit=True, length=50,\n",
        "\n",
        "                    use_cf=False, cf=95, scoring_formula='average',\n",
        "\n",
        "                    resampling=True, samples=1000, favor=True, p=0.5)\n",
        "\n",
        "score = rouge.calc_score()\n",
        "\n",
        "print(score)"
      ],
      "execution_count": null,
      "outputs": [
        {
          "output_type": "stream",
          "text": [
            "{'ROUGE-1-R': 0.95833, 'ROUGE-1-P': 1.0, 'ROUGE-1-F': 0.97872, 'ROUGE-2-R': 0.95652, 'ROUGE-2-P': 1.0, 'ROUGE-2-F': 0.97778, 'ROUGE-L-R': 0.95833, 'ROUGE-L-P': 1.0, 'ROUGE-L-F': 0.97872, 'ROUGE-W-1.2-R': 0.50754, 'ROUGE-W-1.2-P': 1.0, 'ROUGE-W-1.2-F': 0.67334, 'ROUGE-SU4-R': 0.95312, 'ROUGE-SU4-P': 1.0, 'ROUGE-SU4-F': 0.976}\n"
          ],
          "name": "stdout"
        }
      ]
    },
    {
      "cell_type": "code",
      "metadata": {
        "colab": {
          "base_uri": "https://localhost:8080/"
        },
        "id": "_j0mx3Q1fun_",
        "outputId": "1330bc93-7bb5-4109-b51a-4f9fdb74833c"
      },
      "source": [
        "from nltk.translate.bleu_score import sentence_bleu\n",
        "reference = [text.split()]\n",
        "candidate = g_sent.split()\n",
        "#score_bleu = sentence_bleu(reference, candidate,weights=(0.25, 0.25, 0.25, 0.25))\n",
        "#print(score)\n",
        "print('Individual 1-gram: %f' % sentence_bleu(reference, candidate, weights=(1, 0, 0, 0)))\n",
        "print('Individual 2-gram: %f' % sentence_bleu(reference, candidate, weights=(0, 1, 0, 0)))\n",
        "print('Individual 3-gram: %f' % sentence_bleu(reference, candidate, weights=(0, 0, 1, 0)))\n",
        "print('Individual 4-gram: %f' % sentence_bleu(reference, candidate, weights=(0, 0, 0, 1)))\n",
        "#print(reference)\n",
        "#print(candidate)"
      ],
      "execution_count": null,
      "outputs": [
        {
          "output_type": "stream",
          "text": [
            "Individual 1-gram: 0.479911\n",
            "Individual 2-gram: 0.459374\n",
            "Individual 3-gram: 0.438275\n",
            "Individual 4-gram: 0.416589\n"
          ],
          "name": "stdout"
        }
      ]
    },
    {
      "cell_type": "code",
      "metadata": {
        "id": "qIpIUHlufurc"
      },
      "source": [
        ""
      ],
      "execution_count": null,
      "outputs": []
    },
    {
      "cell_type": "code",
      "metadata": {
        "id": "Qg7c9oijfuvK"
      },
      "source": [
        ""
      ],
      "execution_count": null,
      "outputs": []
    },
    {
      "cell_type": "code",
      "metadata": {
        "id": "Xb-HlTykhdcR"
      },
      "source": [
        ""
      ],
      "execution_count": null,
      "outputs": []
    },
    {
      "cell_type": "code",
      "metadata": {
        "id": "0P148Gk1hdey"
      },
      "source": [
        "### Based on Seq2Seq Model"
      ],
      "execution_count": null,
      "outputs": []
    },
    {
      "cell_type": "code",
      "metadata": {
        "id": "-KYstrAb5-XJ"
      },
      "source": [
        "def define_models(n_input=4514, n_output=1, n_units=32):\r\n",
        "  # define training encoder\r\n",
        "  encoder_inputs = Input(shape=(None, n_input))\r\n",
        "  encoder = LSTM(n_units, return_state=True)\r\n",
        "  encoder_outputs, state_h, state_c = encoder(encoder_inputs)\r\n",
        "  encoder_states = [state_h, state_c]\r\n",
        "  # define training decoder\r\n",
        "  decoder_inputs = Input(shape=(None, n_output))\r\n",
        "  decoder_lstm = LSTM(n_units, return_sequences=True, return_state=True)\r\n",
        "  decoder_outputs, _, _ = decoder_lstm(decoder_inputs, initial_state=encoder_states)\r\n",
        "  decoder_dense = Dense(n_output, activation='softmax')\r\n",
        "  decoder_outputs = decoder_dense(decoder_outputs)\r\n",
        "  model = Model([encoder_inputs, decoder_inputs], decoder_outputs)\r\n",
        "  # define inference encoder\r\n",
        "  encoder_model = Model(encoder_inputs, encoder_states)\r\n",
        "  # define inference decoder\r\n",
        "  decoder_state_input_h = Input(shape=(n_units,))\r\n",
        "  decoder_state_input_c = Input(shape=(n_units,))\r\n",
        "  decoder_states_inputs = [decoder_state_input_h, decoder_state_input_c]\r\n",
        "  decoder_outputs, state_h, state_c = decoder_lstm(decoder_inputs,  initial_state=decoder_states_inputs)\r\n",
        "  decoder_states = [state_h, state_c]\r\n",
        "  decoder_outputs = decoder_dense(decoder_outputs)\r\n",
        "  decoder_model = Model([decoder_inputs] + decoder_states_inputs, [decoder_outputs] + decoder_states)\r\n",
        "  # return all models\r\n",
        "  return model, encoder_model, decoder_model\r\n"
      ],
      "execution_count": null,
      "outputs": []
    },
    {
      "cell_type": "code",
      "metadata": {
        "id": "K6yU7BjOFhea"
      },
      "source": [
        ""
      ],
      "execution_count": null,
      "outputs": []
    },
    {
      "cell_type": "code",
      "metadata": {
        "id": "xL6INFfpFhg-"
      },
      "source": [
        "###########NEW MODEL Seq2Seq #################################"
      ],
      "execution_count": null,
      "outputs": []
    },
    {
      "cell_type": "code",
      "metadata": {
        "id": "NxM30FPyGW-P"
      },
      "source": [
        "summary=reviews_org"
      ],
      "execution_count": null,
      "outputs": []
    },
    {
      "cell_type": "code",
      "metadata": {
        "id": "DmawdaWeFhmc"
      },
      "source": [
        "pre2 = summary.iloc[:,0:6].copy()\n"
      ],
      "execution_count": null,
      "outputs": []
    },
    {
      "cell_type": "code",
      "metadata": {
        "id": "S_RmoZ0UFhrX"
      },
      "source": [
        "pre = pd.DataFrame()\n",
        "pre['text'] = pre2['text']\n",
        "pre['summary'] = pre2['headlines']"
      ],
      "execution_count": null,
      "outputs": []
    },
    {
      "cell_type": "code",
      "metadata": {
        "colab": {
          "base_uri": "https://localhost:8080/",
          "height": 147
        },
        "id": "eisM_KvCFhwQ",
        "outputId": "9f1f9ac7-106d-478b-e8dc-9efb1b2a17e0"
      },
      "source": [
        "pre.head(2)"
      ],
      "execution_count": null,
      "outputs": [
        {
          "output_type": "execute_result",
          "data": {
            "text/html": [
              "<div>\n",
              "<style scoped>\n",
              "    .dataframe tbody tr th:only-of-type {\n",
              "        vertical-align: middle;\n",
              "    }\n",
              "\n",
              "    .dataframe tbody tr th {\n",
              "        vertical-align: top;\n",
              "    }\n",
              "\n",
              "    .dataframe thead th {\n",
              "        text-align: right;\n",
              "    }\n",
              "</style>\n",
              "<table border=\"1\" class=\"dataframe\">\n",
              "  <thead>\n",
              "    <tr style=\"text-align: right;\">\n",
              "      <th></th>\n",
              "      <th>text</th>\n",
              "      <th>summary</th>\n",
              "    </tr>\n",
              "  </thead>\n",
              "  <tbody>\n",
              "    <tr>\n",
              "      <th>0</th>\n",
              "      <td>The Administration of Union Territory Daman and Diu has revoked its order that made it compulsory for women to tie rakhis to their male colleagues on the occasion of Rakshabandhan on August 7. The...</td>\n",
              "      <td>Daman &amp; Diu revokes mandatory Rakshabandhan in offices order</td>\n",
              "    </tr>\n",
              "    <tr>\n",
              "      <th>1</th>\n",
              "      <td>Malaika Arora slammed an Instagram user who trolled her for \"divorcing a rich man\" and \"having fun with the alimony\". \"Her life now is all about wearing short clothes, going to gym or salon, enjoy...</td>\n",
              "      <td>Malaika slams user who trolled her for 'divorcing rich man'</td>\n",
              "    </tr>\n",
              "  </tbody>\n",
              "</table>\n",
              "</div>"
            ],
            "text/plain": [
              "                                                                                                                                                                                                      text                                                       summary\n",
              "0  The Administration of Union Territory Daman and Diu has revoked its order that made it compulsory for women to tie rakhis to their male colleagues on the occasion of Rakshabandhan on August 7. The...  Daman & Diu revokes mandatory Rakshabandhan in offices order\n",
              "1  Malaika Arora slammed an Instagram user who trolled her for \"divorcing a rich man\" and \"having fun with the alimony\". \"Her life now is all about wearing short clothes, going to gym or salon, enjoy...  Malaika slams user who trolled her for 'divorcing rich man' "
            ]
          },
          "metadata": {
            "tags": []
          },
          "execution_count": 36
        }
      ]
    },
    {
      "cell_type": "code",
      "metadata": {
        "colab": {
          "base_uri": "https://localhost:8080/"
        },
        "id": "VA_SQESBFh1H",
        "outputId": "7ffe6393-8dd9-4389-8c00-5c08e98dccf1"
      },
      "source": [
        "summary.ctext.head(2)"
      ],
      "execution_count": null,
      "outputs": [
        {
          "output_type": "execute_result",
          "data": {
            "text/plain": [
              "0    The Daman and Diu administration on Wednesday withdrew a circular that asked women staff to tie rakhis on male colleagues after the order triggered a backlash from employees and was ripped apart o...\n",
              "1    From her special numbers to TV?appearances, Bollywood actor Malaika Arora Khan has managed to carve her own identity. The actor, who made her debut in the Hindi film industry with the blockbuster ...\n",
              "Name: ctext, dtype: object"
            ]
          },
          "metadata": {
            "tags": []
          },
          "execution_count": 37
        }
      ]
    },
    {
      "cell_type": "code",
      "metadata": {
        "colab": {
          "base_uri": "https://localhost:8080/"
        },
        "id": "WsOnfP-fFh5r",
        "outputId": "5d28f494-5748-4e93-e39c-6576c2a14291"
      },
      "source": [
        "summary.text.head(2)"
      ],
      "execution_count": null,
      "outputs": [
        {
          "output_type": "execute_result",
          "data": {
            "text/plain": [
              "0    The Administration of Union Territory Daman and Diu has revoked its order that made it compulsory for women to tie rakhis to their male colleagues on the occasion of Rakshabandhan on August 7. The...\n",
              "1    Malaika Arora slammed an Instagram user who trolled her for \"divorcing a rich man\" and \"having fun with the alimony\". \"Her life now is all about wearing short clothes, going to gym or salon, enjoy...\n",
              "Name: text, dtype: object"
            ]
          },
          "metadata": {
            "tags": []
          },
          "execution_count": 38
        }
      ]
    },
    {
      "cell_type": "code",
      "metadata": {
        "colab": {
          "base_uri": "https://localhost:8080/"
        },
        "id": "9sDKV6fQFh-Q",
        "outputId": "e3bf2d81-2224-47ba-8739-b91dc8cd7efc"
      },
      "source": [
        "pre['text'][:10]"
      ],
      "execution_count": null,
      "outputs": [
        {
          "output_type": "execute_result",
          "data": {
            "text/plain": [
              "0    The Administration of Union Territory Daman and Diu has revoked its order that made it compulsory for women to tie rakhis to their male colleagues on the occasion of Rakshabandhan on August 7. The...\n",
              "1    Malaika Arora slammed an Instagram user who trolled her for \"divorcing a rich man\" and \"having fun with the alimony\". \"Her life now is all about wearing short clothes, going to gym or salon, enjoy...\n",
              "2    The Indira Gandhi Institute of Medical Sciences (IGIMS) in Patna on Thursday made corrections in its Marital Declaration Form by changing 'Virgin' option to 'Unmarried'. Earlier, Bihar Health Mini...\n",
              "3    Lashkar-e-Taiba's Kashmir commander Abu Dujana, who was killed by security forces, said \"Kabhi hum aage, kabhi aap, aaj aapne pakad liya, mubarak ho aapko (Today you caught me. Congratulations)\" a...\n",
              "4    Hotels in Maharashtra will train their staff to spot signs of sex trafficking, including frequent requests for bed linen changes and 'Do not disturb' signs left on room doors for days. A mobile ph...\n",
              "5    A 32-year-old man on Wednesday was found hanging inside the washroom of a Delhi police station after he was called for interrogation. His family alleged that he could have been emotionally and phy...\n",
              "6    The Delhi High Court reduced the compensation awarded to a motor accident victim by 45% after it found negligence on the part of both parties. A compensation of ?10 lakh was earlier awarded to the...\n",
              "7    A 60-year old Dalit woman was allegedly lynched in Agra after villagers thought that she was behind the recent cases of chopping hair of sleeping women. The family members of the woman who left ho...\n",
              "8    An inquiry by the Aircraft Accident Investigation Bureau found that the Pawan Hans helicopter was flying at a critically low height, resulting in its crash near Bombay High in 2015. The report fur...\n",
              "9    The Congress party has opened a bank called 'State Bank of Tomato' in Uttar Pradesh's Lucknow, in a protest against the rising prices of the vegetable. People can get interests on deposits and als...\n",
              "Name: text, dtype: object"
            ]
          },
          "metadata": {
            "tags": []
          },
          "execution_count": 39
        }
      ]
    },
    {
      "cell_type": "code",
      "metadata": {
        "id": "HeRyV7VGFiCv"
      },
      "source": [
        "import re\n",
        "\n",
        "#Removes non-alphabetic characters:\n",
        "def text_strip(column):\n",
        "    for row in column:\n",
        "        \n",
        "        #ORDER OF REGEX IS VERY VERY IMPORTANT!!!!!!\n",
        "        \n",
        "        row=re.sub(\"(\\\\t)\", ' ', str(row)).lower() #remove escape charecters\n",
        "        row=re.sub(\"(\\\\r)\", ' ', str(row)).lower() \n",
        "        row=re.sub(\"(\\\\n)\", ' ', str(row)).lower()\n",
        "        \n",
        "        row=re.sub(\"(__+)\", ' ', str(row)).lower()   #remove _ if it occors more than one time consecutively\n",
        "        row=re.sub(\"(--+)\", ' ', str(row)).lower()   #remove - if it occors more than one time consecutively\n",
        "        row=re.sub(\"(~~+)\", ' ', str(row)).lower()   #remove ~ if it occors more than one time consecutively\n",
        "        row=re.sub(\"(\\+\\++)\", ' ', str(row)).lower()   #remove + if it occors more than one time consecutively\n",
        "        row=re.sub(\"(\\.\\.+)\", ' ', str(row)).lower()   #remove . if it occors more than one time consecutively\n",
        "        \n",
        "        row=re.sub(r\"[<>()|&©ø\\[\\]\\'\\\",;?~*!]\", ' ', str(row)).lower() #remove <>()|&©ø\"',;?~*!\n",
        "        \n",
        "        row=re.sub(\"(mailto:)\", ' ', str(row)).lower() #remove mailto:\n",
        "        row=re.sub(r\"(\\\\x9\\d)\", ' ', str(row)).lower() #remove \\x9* in text\n",
        "        row=re.sub(\"([iI][nN][cC]\\d+)\", 'INC_NUM', str(row)).lower() #replace INC nums to INC_NUM\n",
        "        row=re.sub(\"([cC][mM]\\d+)|([cC][hH][gG]\\d+)\", 'CM_NUM', str(row)).lower() #replace CM# and CHG# to CM_NUM\n",
        "        \n",
        "        \n",
        "        row=re.sub(\"(\\.\\s+)\", ' ', str(row)).lower() #remove full stop at end of words(not between)\n",
        "        row=re.sub(\"(\\-\\s+)\", ' ', str(row)).lower() #remove - at end of words(not between)\n",
        "        row=re.sub(\"(\\:\\s+)\", ' ', str(row)).lower() #remove : at end of words(not between)\n",
        "        \n",
        "        row=re.sub(\"(\\s+.\\s+)\", ' ', str(row)).lower() #remove any single charecters hanging between 2 spaces\n",
        "        \n",
        "        #Replace any url as such https://abc.xyz.net/browse/sdf-5327 ====> abc.xyz.net\n",
        "        try:\n",
        "            url = re.search(r'((https*:\\/*)([^\\/\\s]+))(.[^\\s]+)', str(row))\n",
        "            repl_url = url.group(3)\n",
        "            row = re.sub(r'((https*:\\/*)([^\\/\\s]+))(.[^\\s]+)',repl_url, str(row))\n",
        "        except:\n",
        "            pass #there might be emails with no url in them\n",
        "        \n",
        "\n",
        "        \n",
        "        row = re.sub(\"(\\s+)\",' ',str(row)).lower() #remove multiple spaces\n",
        "        \n",
        "        #Should always be last\n",
        "        row=re.sub(\"(\\s+.\\s+)\", ' ', str(row)).lower() #remove any single charecters hanging between 2 spaces\n",
        "\n",
        "        \n",
        "        \n",
        "        yield row"
      ],
      "execution_count": null,
      "outputs": []
    },
    {
      "cell_type": "code",
      "metadata": {
        "id": "Tb7P9YnjFiHB"
      },
      "source": [
        "brief_cleaning1 = text_strip(pre['text'])\n",
        "brief_cleaning2 = text_strip(pre['summary'])"
      ],
      "execution_count": null,
      "outputs": []
    },
    {
      "cell_type": "code",
      "metadata": {
        "colab": {
          "base_uri": "https://localhost:8080/"
        },
        "id": "cAR1f-MbFiOr",
        "outputId": "47ee0d74-4862-4b12-edc5-1ffc3c461739"
      },
      "source": [
        "from time import time\n",
        "import spacy\n",
        "nlp = spacy.load('en', disable=['ner', 'parser']) # disabling Named Entity Recognition for speed\n",
        "\n",
        "#Taking advantage of spaCy .pipe() method to speed-up the cleaning process:\n",
        "#If data loss seems to be happening(i.e len(text) = 50 instead of 75 etc etc) in this cell , decrease the batch_size parametre \n",
        "\n",
        "t = time()\n",
        "\n",
        "#Batch the data points into 5000 and run on all cores for faster preprocessing\n",
        "text = [str(doc) for doc in nlp.pipe(brief_cleaning1, batch_size=5000, n_threads=-1)]\n",
        "\n",
        "#Takes 7-8 mins\n",
        "print('Time to clean up everything: {} mins'.format(round((time() - t) / 60, 2)))"
      ],
      "execution_count": null,
      "outputs": [
        {
          "output_type": "stream",
          "text": [
            "Time to clean up everything: 0.21 mins\n"
          ],
          "name": "stdout"
        }
      ]
    },
    {
      "cell_type": "code",
      "metadata": {
        "colab": {
          "base_uri": "https://localhost:8080/"
        },
        "id": "dEHktB9DFiTx",
        "outputId": "52d850f4-1360-4fac-ed47-7d8ba2e8e148"
      },
      "source": [
        "t = time()\n",
        "\n",
        "#Batch the data points into 5000 and run on all cores for faster preprocessing\n",
        "summary = ['_START_ '+ str(doc) + ' _END_' for doc in nlp.pipe(brief_cleaning2, batch_size=5000, n_threads=-1)]\n",
        "\n",
        "#Takes 7-8 mins\n",
        "print('Time to clean up everything: {} mins'.format(round((time() - t) / 60, 2)))"
      ],
      "execution_count": null,
      "outputs": [
        {
          "output_type": "stream",
          "text": [
            "Time to clean up everything: 0.04 mins\n"
          ],
          "name": "stdout"
        }
      ]
    },
    {
      "cell_type": "code",
      "metadata": {
        "colab": {
          "base_uri": "https://localhost:8080/",
          "height": 70
        },
        "id": "mY1BWS_hFiYY",
        "outputId": "1185c2de-123c-47d0-d726-5a414c56e84a"
      },
      "source": [
        "text[0]"
      ],
      "execution_count": null,
      "outputs": [
        {
          "output_type": "execute_result",
          "data": {
            "application/vnd.google.colaboratory.intrinsic+json": {
              "type": "string"
            },
            "text/plain": [
              "'the administration of union territory daman and diu has revoked its order that made it compulsory for women to tie rakhis to their male colleagues on the occasion of rakshabandhan on august the administration was forced to withdraw the decision within 24 hours of issuing the circular after it received flak from employees and was slammed on social media.'"
            ]
          },
          "metadata": {
            "tags": []
          },
          "execution_count": 44
        }
      ]
    },
    {
      "cell_type": "code",
      "metadata": {
        "colab": {
          "base_uri": "https://localhost:8080/",
          "height": 35
        },
        "id": "GDDx3esaFidA",
        "outputId": "14f82daf-9157-4f81-bd98-1da12ee44d7e"
      },
      "source": [
        "summary[0]"
      ],
      "execution_count": null,
      "outputs": [
        {
          "output_type": "execute_result",
          "data": {
            "application/vnd.google.colaboratory.intrinsic+json": {
              "type": "string"
            },
            "text/plain": [
              "'_START_ daman diu revokes mandatory rakshabandhan in offices order _END_'"
            ]
          },
          "metadata": {
            "tags": []
          },
          "execution_count": 45
        }
      ]
    },
    {
      "cell_type": "code",
      "metadata": {
        "id": "grB7t8JWFimF"
      },
      "source": [
        "pre['cleaned_text'] = pd.Series(text)\n",
        "pre['cleaned_summary'] = pd.Series(summary)"
      ],
      "execution_count": null,
      "outputs": []
    },
    {
      "cell_type": "code",
      "metadata": {
        "id": "8XmW75PPFiqm"
      },
      "source": [
        "text_count = []\n",
        "summary_count = []"
      ],
      "execution_count": null,
      "outputs": []
    },
    {
      "cell_type": "code",
      "metadata": {
        "id": "wGXjMKyYFivX"
      },
      "source": [
        "for sent in pre['cleaned_text']:\n",
        "    text_count.append(len(sent.split()))\n",
        "for sent in pre['cleaned_summary']:\n",
        "    summary_count.append(len(sent.split()))"
      ],
      "execution_count": null,
      "outputs": []
    },
    {
      "cell_type": "code",
      "metadata": {
        "id": "tB2C3RgjFi2k"
      },
      "source": [
        "graph_df= pd.DataFrame()\n",
        "graph_df['text']=text_count\n",
        "graph_df['summary']=summary_count"
      ],
      "execution_count": null,
      "outputs": []
    },
    {
      "cell_type": "code",
      "metadata": {
        "colab": {
          "base_uri": "https://localhost:8080/",
          "height": 281
        },
        "id": "UJjKsMuiFi7a",
        "outputId": "906e20bd-6e57-4e7f-9228-0634c2b09c41"
      },
      "source": [
        "import matplotlib.pyplot as plt\n",
        "\n",
        "graph_df.hist(bins = 5)\n",
        "plt.show()"
      ],
      "execution_count": null,
      "outputs": [
        {
          "output_type": "display_data",
          "data": {
            "image/png": "[encoded data removed]",
            "text/plain": [
              "<Figure size 432x288 with 2 Axes>"
            ]
          },
          "metadata": {
            "tags": [],
            "needs_background": "light"
          }
        }
      ]
    },
    {
      "cell_type": "code",
      "metadata": {
        "colab": {
          "base_uri": "https://localhost:8080/"
        },
        "id": "Ia9Kk-6uFjB9",
        "outputId": "95725f7e-fb16-4aca-e8a2-3fc15341b60b"
      },
      "source": [
        "cnt=0\n",
        "for i in pre['cleaned_summary']:\n",
        "    if(len(i.split())<=15):\n",
        "        cnt=cnt+1\n",
        "print(cnt/len(pre['cleaned_summary']))"
      ],
      "execution_count": null,
      "outputs": [
        {
          "output_type": "stream",
          "text": [
            "0.9997784669915818\n"
          ],
          "name": "stdout"
        }
      ]
    },
    {
      "cell_type": "code",
      "metadata": {
        "colab": {
          "base_uri": "https://localhost:8080/"
        },
        "id": "QbnaYYqcJLV6",
        "outputId": "7a62db01-0a7c-486e-ae1e-5e30748edea7"
      },
      "source": [
        "cnt=0\n",
        "for i in pre['cleaned_text']:\n",
        "    if(len(i.split())<=100):\n",
        "        cnt=cnt+1\n",
        "print(cnt/len(pre['cleaned_text']))"
      ],
      "execution_count": null,
      "outputs": [
        {
          "output_type": "stream",
          "text": [
            "1.0\n"
          ],
          "name": "stdout"
        }
      ]
    },
    {
      "cell_type": "code",
      "metadata": {
        "id": "5zcTNNZNJLYb"
      },
      "source": [
        "#Model to summarize the text between 0-15 words for Summary and 0-100 words for Text\n",
        "max_text_len=100\n",
        "max_summary_len=15"
      ],
      "execution_count": null,
      "outputs": []
    },
    {
      "cell_type": "code",
      "metadata": {
        "id": "HYN4xpNiJLeV"
      },
      "source": [
        "#Select the Summaries and Text between max len defined above\n",
        "\n",
        "cleaned_text =np.array(pre['cleaned_text'])\n",
        "cleaned_summary=np.array(pre['cleaned_summary'])\n",
        "\n",
        "short_text=[]\n",
        "short_summary=[]\n",
        "\n",
        "for i in range(len(cleaned_text)):\n",
        "    if(len(cleaned_summary[i].split())<=max_summary_len and len(cleaned_text[i].split())<=max_text_len):\n",
        "        short_text.append(cleaned_text[i])\n",
        "        short_summary.append(cleaned_summary[i])\n",
        "        \n",
        "post_pre=pd.DataFrame({'text':short_text,'summary':short_summary})"
      ],
      "execution_count": null,
      "outputs": []
    },
    {
      "cell_type": "code",
      "metadata": {
        "colab": {
          "base_uri": "https://localhost:8080/",
          "height": 147
        },
        "id": "INPXJjq6JLj0",
        "outputId": "b595d521-fcce-4d05-e4e2-feea4731d676"
      },
      "source": [
        "post_pre.head(2)"
      ],
      "execution_count": null,
      "outputs": [
        {
          "output_type": "execute_result",
          "data": {
            "text/html": [
              "<div>\n",
              "<style scoped>\n",
              "    .dataframe tbody tr th:only-of-type {\n",
              "        vertical-align: middle;\n",
              "    }\n",
              "\n",
              "    .dataframe tbody tr th {\n",
              "        vertical-align: top;\n",
              "    }\n",
              "\n",
              "    .dataframe thead th {\n",
              "        text-align: right;\n",
              "    }\n",
              "</style>\n",
              "<table border=\"1\" class=\"dataframe\">\n",
              "  <thead>\n",
              "    <tr style=\"text-align: right;\">\n",
              "      <th></th>\n",
              "      <th>text</th>\n",
              "      <th>summary</th>\n",
              "    </tr>\n",
              "  </thead>\n",
              "  <tbody>\n",
              "    <tr>\n",
              "      <th>0</th>\n",
              "      <td>the administration of union territory daman and diu has revoked its order that made it compulsory for women to tie rakhis to their male colleagues on the occasion of rakshabandhan on august the ad...</td>\n",
              "      <td>_START_ daman diu revokes mandatory rakshabandhan in offices order _END_</td>\n",
              "    </tr>\n",
              "    <tr>\n",
              "      <th>1</th>\n",
              "      <td>malaika arora slammed an instagram user who trolled her for divorcing rich man and having fun with the alimony her life now is all about wearing short clothes going to gym or salon enjoying vacati...</td>\n",
              "      <td>_START_ malaika slams user who trolled her for divorcing rich man  _END_</td>\n",
              "    </tr>\n",
              "  </tbody>\n",
              "</table>\n",
              "</div>"
            ],
            "text/plain": [
              "                                                                                                                                                                                                      text                                                                   summary\n",
              "0  the administration of union territory daman and diu has revoked its order that made it compulsory for women to tie rakhis to their male colleagues on the occasion of rakshabandhan on august the ad...  _START_ daman diu revokes mandatory rakshabandhan in offices order _END_\n",
              "1  malaika arora slammed an instagram user who trolled her for divorcing rich man and having fun with the alimony her life now is all about wearing short clothes going to gym or salon enjoying vacati...  _START_ malaika slams user who trolled her for divorcing rich man  _END_"
            ]
          },
          "metadata": {
            "tags": []
          },
          "execution_count": 55
        }
      ]
    },
    {
      "cell_type": "code",
      "metadata": {
        "id": "gqZEAZSfJLpH"
      },
      "source": [
        "#Add sostok and eostok at \n",
        "post_pre['summary'] = post_pre['summary'].apply(lambda x : 'sostok '+ x + ' eostok')"
      ],
      "execution_count": null,
      "outputs": []
    },
    {
      "cell_type": "code",
      "metadata": {
        "colab": {
          "base_uri": "https://localhost:8080/",
          "height": 147
        },
        "id": "URBv9sb6JLuQ",
        "outputId": "4abde6fd-4f1b-4eff-f6f5-7442eda33fe2"
      },
      "source": [
        "post_pre.head(2)"
      ],
      "execution_count": null,
      "outputs": [
        {
          "output_type": "execute_result",
          "data": {
            "text/html": [
              "<div>\n",
              "<style scoped>\n",
              "    .dataframe tbody tr th:only-of-type {\n",
              "        vertical-align: middle;\n",
              "    }\n",
              "\n",
              "    .dataframe tbody tr th {\n",
              "        vertical-align: top;\n",
              "    }\n",
              "\n",
              "    .dataframe thead th {\n",
              "        text-align: right;\n",
              "    }\n",
              "</style>\n",
              "<table border=\"1\" class=\"dataframe\">\n",
              "  <thead>\n",
              "    <tr style=\"text-align: right;\">\n",
              "      <th></th>\n",
              "      <th>text</th>\n",
              "      <th>summary</th>\n",
              "    </tr>\n",
              "  </thead>\n",
              "  <tbody>\n",
              "    <tr>\n",
              "      <th>0</th>\n",
              "      <td>the administration of union territory daman and diu has revoked its order that made it compulsory for women to tie rakhis to their male colleagues on the occasion of rakshabandhan on august the ad...</td>\n",
              "      <td>sostok _START_ daman diu revokes mandatory rakshabandhan in offices order _END_ eostok</td>\n",
              "    </tr>\n",
              "    <tr>\n",
              "      <th>1</th>\n",
              "      <td>malaika arora slammed an instagram user who trolled her for divorcing rich man and having fun with the alimony her life now is all about wearing short clothes going to gym or salon enjoying vacati...</td>\n",
              "      <td>sostok _START_ malaika slams user who trolled her for divorcing rich man  _END_ eostok</td>\n",
              "    </tr>\n",
              "  </tbody>\n",
              "</table>\n",
              "</div>"
            ],
            "text/plain": [
              "                                                                                                                                                                                                      text                                                                                 summary\n",
              "0  the administration of union territory daman and diu has revoked its order that made it compulsory for women to tie rakhis to their male colleagues on the occasion of rakshabandhan on august the ad...  sostok _START_ daman diu revokes mandatory rakshabandhan in offices order _END_ eostok\n",
              "1  malaika arora slammed an instagram user who trolled her for divorcing rich man and having fun with the alimony her life now is all about wearing short clothes going to gym or salon enjoying vacati...  sostok _START_ malaika slams user who trolled her for divorcing rich man  _END_ eostok"
            ]
          },
          "metadata": {
            "tags": []
          },
          "execution_count": 57
        }
      ]
    },
    {
      "cell_type": "code",
      "metadata": {
        "id": "2xNrevTEJLzf"
      },
      "source": [
        "from sklearn.model_selection import train_test_split\n",
        "x_tr,x_val,y_tr,y_val=train_test_split(np.array(post_pre['text']),np.array(post_pre['summary']),test_size=0.1,random_state=0,shuffle=True)\n"
      ],
      "execution_count": null,
      "outputs": []
    },
    {
      "cell_type": "code",
      "metadata": {
        "id": "oEgpQj-QJL43"
      },
      "source": [
        "#Lets tokenize the text to get the vocab count , you can use Spacy here also\n",
        "\n",
        "from keras.preprocessing.text import Tokenizer \n",
        "from keras.preprocessing.sequence import pad_sequences\n",
        "\n",
        "#prepare a tokenizer for reviews on training data\n",
        "x_tokenizer = Tokenizer() \n",
        "x_tokenizer.fit_on_texts(list(x_tr))"
      ],
      "execution_count": null,
      "outputs": []
    },
    {
      "cell_type": "code",
      "metadata": {
        "colab": {
          "base_uri": "https://localhost:8080/"
        },
        "id": "Uhf8mmolJL-D",
        "outputId": "96937cec-f8c9-46dd-aeb9-408650c589cc"
      },
      "source": [
        "thresh=4\n",
        "\n",
        "cnt=0\n",
        "tot_cnt=0\n",
        "freq=0\n",
        "tot_freq=0\n",
        "\n",
        "for key,value in x_tokenizer.word_counts.items():\n",
        "    tot_cnt=tot_cnt+1\n",
        "    tot_freq=tot_freq+value\n",
        "    if(value<thresh):\n",
        "        cnt=cnt+1\n",
        "        freq=freq+value\n",
        "    \n",
        "print(\"% of rare words in vocabulary:\",(cnt/tot_cnt)*100)\n",
        "print(\"Total Coverage of rare words:\",(freq/tot_freq)*100)"
      ],
      "execution_count": null,
      "outputs": [
        {
          "output_type": "stream",
          "text": [
            "% of rare words in vocabulary: 66.01994071678793\n",
            "Total Coverage of rare words: 7.826268336497612\n"
          ],
          "name": "stdout"
        }
      ]
    },
    {
      "cell_type": "code",
      "metadata": {
        "colab": {
          "base_uri": "https://localhost:8080/"
        },
        "id": "4hK4FfVQJMDa",
        "outputId": "acef0792-1653-4e34-9564-8e06b9f12b81"
      },
      "source": [
        "#prepare a tokenizer for reviews on training data\n",
        "x_tokenizer = Tokenizer(num_words=tot_cnt-cnt) \n",
        "x_tokenizer.fit_on_texts(list(x_tr))\n",
        "\n",
        "#convert text sequences into integer sequences (i.e one-hot encodeing all the words)\n",
        "x_tr_seq    =   x_tokenizer.texts_to_sequences(x_tr) \n",
        "x_val_seq   =   x_tokenizer.texts_to_sequences(x_val)\n",
        "\n",
        "#padding zero upto maximum length\n",
        "x_tr    =   pad_sequences(x_tr_seq,  maxlen=max_text_len, padding='post')\n",
        "x_val   =   pad_sequences(x_val_seq, maxlen=max_text_len, padding='post')\n",
        "\n",
        "#size of vocabulary ( +1 for padding token)\n",
        "x_voc   =  x_tokenizer.num_words + 1\n",
        "\n",
        "print(\"Size of vocabulary in X = {}\".format(x_voc))"
      ],
      "execution_count": null,
      "outputs": [
        {
          "output_type": "stream",
          "text": [
            "Size of vocabulary in X = 6306\n"
          ],
          "name": "stdout"
        }
      ]
    },
    {
      "cell_type": "code",
      "metadata": {
        "id": "Wptd3aKXJMJA"
      },
      "source": [
        "#prepare a tokenizer for reviews on training data\n",
        "y_tokenizer = Tokenizer()   \n",
        "y_tokenizer.fit_on_texts(list(y_tr))"
      ],
      "execution_count": null,
      "outputs": []
    },
    {
      "cell_type": "code",
      "metadata": {
        "colab": {
          "base_uri": "https://localhost:8080/"
        },
        "id": "GzK8yr1CJMOR",
        "outputId": "c4228879-e615-4fa4-b88f-7e388e8bbf4c"
      },
      "source": [
        "thresh=6\n",
        "\n",
        "cnt=0\n",
        "tot_cnt=0\n",
        "freq=0\n",
        "tot_freq=0\n",
        "\n",
        "for key,value in y_tokenizer.word_counts.items():\n",
        "    tot_cnt=tot_cnt+1\n",
        "    tot_freq=tot_freq+value\n",
        "    if(value<thresh):\n",
        "        cnt=cnt+1\n",
        "        freq=freq+value\n",
        "    \n",
        "print(\"% of rare words in vocabulary:\",(cnt/tot_cnt)*100)\n",
        "print(\"Total Coverage of rare words:\",(freq/tot_freq)*100)"
      ],
      "execution_count": null,
      "outputs": [
        {
          "output_type": "stream",
          "text": [
            "% of rare words in vocabulary: 84.99636715911844\n",
            "Total Coverage of rare words: 22.4669359747662\n"
          ],
          "name": "stdout"
        }
      ]
    },
    {
      "cell_type": "code",
      "metadata": {
        "colab": {
          "base_uri": "https://localhost:8080/"
        },
        "id": "Mm6RjSelJMTJ",
        "outputId": "3b31dbeb-4826-4014-c3a6-48536f0255f1"
      },
      "source": [
        "#prepare a tokenizer for reviews on training data\n",
        "y_tokenizer = Tokenizer(num_words=tot_cnt-cnt) \n",
        "y_tokenizer.fit_on_texts(list(y_tr))\n",
        "\n",
        "#convert text sequences into integer sequences (i.e one hot encode the text in Y)\n",
        "y_tr_seq    =   y_tokenizer.texts_to_sequences(y_tr) \n",
        "y_val_seq   =   y_tokenizer.texts_to_sequences(y_val) \n",
        "\n",
        "#padding zero upto maximum length\n",
        "y_tr    =   pad_sequences(y_tr_seq, maxlen=max_summary_len, padding='post')\n",
        "y_val   =   pad_sequences(y_val_seq, maxlen=max_summary_len, padding='post')\n",
        "\n",
        "#size of vocabulary\n",
        "y_voc  =   y_tokenizer.num_words +1\n",
        "print(\"Size of vocabulary in Y = {}\".format(y_voc))"
      ],
      "execution_count": null,
      "outputs": [
        {
          "output_type": "stream",
          "text": [
            "Size of vocabulary in Y = 1240\n"
          ],
          "name": "stdout"
        }
      ]
    },
    {
      "cell_type": "code",
      "metadata": {
        "id": "GYY_v9-hJMYa"
      },
      "source": [
        "ind=[]\n",
        "for i in range(len(y_tr)):\n",
        "    cnt=0\n",
        "    for j in y_tr[i]:\n",
        "        if j!=0:\n",
        "            cnt=cnt+1\n",
        "    if(cnt==2):\n",
        "        ind.append(i)\n",
        "\n",
        "y_tr=np.delete(y_tr,ind, axis=0)\n",
        "x_tr=np.delete(x_tr,ind, axis=0)"
      ],
      "execution_count": null,
      "outputs": []
    },
    {
      "cell_type": "code",
      "metadata": {
        "id": "R1i_gE1RJMdj"
      },
      "source": [
        "ind=[]\n",
        "for i in range(len(y_val)):\n",
        "    cnt=0\n",
        "    for j in y_val[i]:\n",
        "        if j!=0:\n",
        "            cnt=cnt+1\n",
        "    if(cnt==2):\n",
        "        ind.append(i)\n",
        "\n",
        "y_val=np.delete(y_val,ind, axis=0)\n",
        "x_val=np.delete(x_val,ind, axis=0)"
      ],
      "execution_count": null,
      "outputs": []
    },
    {
      "cell_type": "code",
      "metadata": {
        "colab": {
          "base_uri": "https://localhost:8080/"
        },
        "id": "DibCR1X9JMio",
        "outputId": "c1631fb6-b0d5-4fa3-abbb-69cfec04b41e"
      },
      "source": [
        "from keras import backend as K \n",
        "import gensim\n",
        "from numpy import *\n",
        "import numpy as np\n",
        "import pandas as pd \n",
        "import re\n",
        "from bs4 import BeautifulSoup\n",
        "from keras.preprocessing.text import Tokenizer \n",
        "from keras.preprocessing.sequence import pad_sequences\n",
        "from nltk.corpus import stopwords\n",
        "from tensorflow.keras.layers import Input, LSTM, Embedding, Dense, Concatenate, TimeDistributed\n",
        "from tensorflow.keras.models import Model\n",
        "from tensorflow.keras.callbacks import EarlyStopping\n",
        "import warnings\n",
        "pd.set_option(\"display.max_colwidth\", 200)\n",
        "warnings.filterwarnings(\"ignore\")\n",
        "\n",
        "print(\"Size of vocabulary from the w2v model = {}\".format(x_voc))\n",
        "\n",
        "K.clear_session()\n",
        "\n",
        "latent_dim = 300\n",
        "embedding_dim=200\n",
        "\n",
        "# Encoder\n",
        "encoder_inputs = Input(shape=(max_text_len,))\n",
        "\n",
        "#embedding layer\n",
        "enc_emb =  Embedding(x_voc, embedding_dim,trainable=True)(encoder_inputs)\n",
        "\n",
        "#encoder lstm 1\n",
        "encoder_lstm1 = LSTM(latent_dim,return_sequences=True,return_state=True,dropout=0.4,recurrent_dropout=0.4)\n",
        "encoder_output1, state_h1, state_c1 = encoder_lstm1(enc_emb)\n",
        "\n",
        "#encoder lstm 2\n",
        "encoder_lstm2 = LSTM(latent_dim,return_sequences=True,return_state=True,dropout=0.4,recurrent_dropout=0.4)\n",
        "encoder_output2, state_h2, state_c2 = encoder_lstm2(encoder_output1)\n",
        "\n",
        "#encoder lstm 3\n",
        "encoder_lstm3=LSTM(latent_dim, return_state=True, return_sequences=True,dropout=0.4,recurrent_dropout=0.4)\n",
        "encoder_outputs, state_h, state_c= encoder_lstm3(encoder_output2)\n",
        "\n",
        "# Set up the decoder, using `encoder_states` as initial state.\n",
        "decoder_inputs = Input(shape=(None,))\n",
        "\n",
        "#embedding layer\n",
        "dec_emb_layer = Embedding(y_voc, embedding_dim,trainable=True)\n",
        "dec_emb = dec_emb_layer(decoder_inputs)\n",
        "\n",
        "decoder_lstm = LSTM(latent_dim, return_sequences=True, return_state=True,dropout=0.4,recurrent_dropout=0.2)\n",
        "decoder_outputs,decoder_fwd_state, decoder_back_state = decoder_lstm(dec_emb,initial_state=[state_h, state_c])\n",
        "\n",
        "#dense layer\n",
        "decoder_dense =  TimeDistributed(Dense(y_voc, activation='softmax'))\n",
        "decoder_outputs = decoder_dense(decoder_outputs)\n",
        "\n",
        "# Define the model \n",
        "model = Model([encoder_inputs, decoder_inputs], decoder_outputs)\n",
        "\n",
        "model.summary()"
      ],
      "execution_count": null,
      "outputs": [
        {
          "output_type": "stream",
          "text": [
            "Size of vocabulary from the w2v model = 6306\n",
            "Model: \"model\"\n",
            "__________________________________________________________________________________________________\n",
            "Layer (type)                    Output Shape         Param #     Connected to                     \n",
            "==================================================================================================\n",
            "input_1 (InputLayer)            [(None, 100)]        0                                            \n",
            "__________________________________________________________________________________________________\n",
            "embedding (Embedding)           (None, 100, 200)     1261200     input_1[0][0]                    \n",
            "__________________________________________________________________________________________________\n",
            "lstm (LSTM)                     [(None, 100, 300), ( 601200      embedding[0][0]                  \n",
            "__________________________________________________________________________________________________\n",
            "input_2 (InputLayer)            [(None, None)]       0                                            \n",
            "__________________________________________________________________________________________________\n",
            "lstm_1 (LSTM)                   [(None, 100, 300), ( 721200      lstm[0][0]                       \n",
            "__________________________________________________________________________________________________\n",
            "embedding_1 (Embedding)         (None, None, 200)    248000      input_2[0][0]                    \n",
            "__________________________________________________________________________________________________\n",
            "lstm_2 (LSTM)                   [(None, 100, 300), ( 721200      lstm_1[0][0]                     \n",
            "__________________________________________________________________________________________________\n",
            "lstm_3 (LSTM)                   [(None, None, 300),  601200      embedding_1[0][0]                \n",
            "                                                                 lstm_2[0][1]                     \n",
            "                                                                 lstm_2[0][2]                     \n",
            "__________________________________________________________________________________________________\n",
            "time_distributed (TimeDistribut (None, None, 1240)   373240      lstm_3[0][0]                     \n",
            "==================================================================================================\n",
            "Total params: 4,527,240\n",
            "Trainable params: 4,527,240\n",
            "Non-trainable params: 0\n",
            "__________________________________________________________________________________________________\n"
          ],
          "name": "stdout"
        }
      ]
    },
    {
      "cell_type": "code",
      "metadata": {
        "id": "CuFbOdgNJMn3"
      },
      "source": [
        "model.compile(optimizer='rmsprop', loss='sparse_categorical_crossentropy')"
      ],
      "execution_count": null,
      "outputs": []
    },
    {
      "cell_type": "code",
      "metadata": {
        "id": "I9zRycSBJMtC"
      },
      "source": [
        "es = EarlyStopping(monitor='val_loss', mode='min', verbose=1,patience=2)"
      ],
      "execution_count": null,
      "outputs": []
    },
    {
      "cell_type": "code",
      "metadata": {
        "colab": {
          "base_uri": "https://localhost:8080/"
        },
        "id": "6BI5JJinJMyY",
        "outputId": "6a519f52-cd76-40bf-d90e-74ba521a6bcf"
      },
      "source": [
        "history=model.fit([x_tr,y_tr[:,:-1]], y_tr.reshape(y_tr.shape[0],y_tr.shape[1], 1)[:,1:] ,epochs=21,callbacks=[es],batch_size=128, validation_data=([x_val,y_val[:,:-1]], y_val.reshape(y_val.shape[0],y_val.shape[1], 1)[:,1:]))"
      ],
      "execution_count": null,
      "outputs": [
        {
          "output_type": "stream",
          "text": [
            "Epoch 1/21\n",
            "32/32 [==============================] - 260s 8s/step - loss: 4.6657 - val_loss: 3.2205\n",
            "Epoch 2/21\n",
            "32/32 [==============================] - 245s 8s/step - loss: 3.2547 - val_loss: 2.9063\n",
            "Epoch 3/21\n",
            "32/32 [==============================] - 249s 8s/step - loss: 3.1285 - val_loss: 2.8328\n",
            "Epoch 4/21\n",
            "32/32 [==============================] - 246s 8s/step - loss: 2.9694 - val_loss: 2.8099\n",
            "Epoch 5/21\n",
            "32/32 [==============================] - 254s 8s/step - loss: 2.9294 - val_loss: 2.7724\n",
            "Epoch 6/21\n",
            "32/32 [==============================] - 247s 8s/step - loss: 2.8926 - val_loss: 2.7539\n",
            "Epoch 7/21\n",
            "32/32 [==============================] - 254s 8s/step - loss: 2.8559 - val_loss: 2.7432\n",
            "Epoch 8/21\n",
            "32/32 [==============================] - 258s 8s/step - loss: 2.8076 - val_loss: 2.7295\n",
            "Epoch 9/21\n",
            "32/32 [==============================] - 254s 8s/step - loss: 2.7767 - val_loss: 2.7085\n",
            "Epoch 10/21\n",
            "32/32 [==============================] - 253s 8s/step - loss: 2.7908 - val_loss: 2.7006\n",
            "Epoch 11/21\n",
            "32/32 [==============================] - 256s 8s/step - loss: 2.7450 - val_loss: 2.6963\n",
            "Epoch 12/21\n",
            "32/32 [==============================] - 252s 8s/step - loss: 2.7083 - val_loss: 2.6897\n",
            "Epoch 13/21\n",
            "32/32 [==============================] - 255s 8s/step - loss: 2.6716 - val_loss: 2.6799\n",
            "Epoch 14/21\n",
            "32/32 [==============================] - 255s 8s/step - loss: 2.6553 - val_loss: 2.6764\n",
            "Epoch 15/21\n",
            "32/32 [==============================] - 244s 8s/step - loss: 2.6392 - val_loss: 2.6685\n",
            "Epoch 16/21\n",
            "32/32 [==============================] - 243s 8s/step - loss: 2.6074 - val_loss: 2.6826\n",
            "Epoch 17/21\n",
            "32/32 [==============================] - 243s 8s/step - loss: 2.5888 - val_loss: 2.6577\n",
            "Epoch 18/21\n",
            "32/32 [==============================] - 245s 8s/step - loss: 2.5430 - val_loss: 2.6513\n",
            "Epoch 19/21\n",
            "32/32 [==============================] - 246s 8s/step - loss: 2.5262 - val_loss: 2.6479\n",
            "Epoch 20/21\n",
            "32/32 [==============================] - 250s 8s/step - loss: 2.4995 - val_loss: 2.6517\n",
            "Epoch 21/21\n",
            "32/32 [==============================] - 247s 8s/step - loss: 2.4796 - val_loss: 2.6353\n"
          ],
          "name": "stdout"
        }
      ]
    },
    {
      "cell_type": "code",
      "metadata": {
        "colab": {
          "base_uri": "https://localhost:8080/",
          "height": 265
        },
        "id": "sXu7tNHDJM37",
        "outputId": "6711286a-4ede-4abf-f91a-4e1eef97fdfd"
      },
      "source": [
        "from matplotlib import pyplot\n",
        "pyplot.plot(history.history['loss'], label='train')\n",
        "pyplot.plot(history.history['val_loss'], label='test')\n",
        "pyplot.legend()\n",
        "pyplot.show()"
      ],
      "execution_count": null,
      "outputs": [
        {
          "output_type": "display_data",
          "data": {
            "image/png": "[encoded data removed]",
            "text/plain": [
              "<Figure size 432x288 with 1 Axes>"
            ]
          },
          "metadata": {
            "tags": [],
            "needs_background": "light"
          }
        }
      ]
    },
    {
      "cell_type": "code",
      "metadata": {
        "id": "5VObfPHrJM84"
      },
      "source": [
        "reverse_target_word_index=y_tokenizer.index_word\n",
        "reverse_source_word_index=x_tokenizer.index_word\n",
        "target_word_index=y_tokenizer.word_index"
      ],
      "execution_count": null,
      "outputs": []
    },
    {
      "cell_type": "code",
      "metadata": {
        "id": "yblqrxjZJNDQ"
      },
      "source": [
        "# Encode the input sequence to get the feature vector\n",
        "encoder_model = Model(inputs=encoder_inputs,outputs=[encoder_outputs, state_h, state_c])\n",
        "\n",
        "# Decoder setup\n",
        "# Below tensors will hold the states of the previous time step\n",
        "decoder_state_input_h = Input(shape=(latent_dim,))\n",
        "decoder_state_input_c = Input(shape=(latent_dim,))\n",
        "decoder_hidden_state_input = Input(shape=(max_text_len,latent_dim))\n",
        "\n",
        "# Get the embeddings of the decoder sequence\n",
        "dec_emb2= dec_emb_layer(decoder_inputs) \n",
        "# To predict the next word in the sequence, set the initial states to the states from the previous time step\n",
        "decoder_outputs2, state_h2, state_c2 = decoder_lstm(dec_emb2, initial_state=[decoder_state_input_h, decoder_state_input_c])\n",
        "\n",
        "# A dense softmax layer to generate prob dist. over the target vocabulary\n",
        "decoder_outputs2 = decoder_dense(decoder_outputs2) \n",
        "\n",
        "# Final decoder model\n",
        "decoder_model = Model(\n",
        "    [decoder_inputs] + [decoder_hidden_state_input,decoder_state_input_h, decoder_state_input_c],\n",
        "    [decoder_outputs2] + [state_h2, state_c2])"
      ],
      "execution_count": null,
      "outputs": []
    },
    {
      "cell_type": "code",
      "metadata": {
        "id": "afgl37jkJNIi"
      },
      "source": [
        "def decode_sequence(input_seq):\n",
        "    # Encode the input as state vectors.\n",
        "    e_out, e_h, e_c = encoder_model.predict(input_seq)\n",
        "    \n",
        "    # Generate empty target sequence of length 1.\n",
        "    target_seq = np.zeros((1,1))\n",
        "    \n",
        "    # Populate the first word of target sequence with the start word.\n",
        "    target_seq[0, 0] = target_word_index['sostok']\n",
        "\n",
        "    stop_condition = False\n",
        "    decoded_sentence = ''\n",
        "    while not stop_condition:\n",
        "      \n",
        "        output_tokens, h, c = decoder_model.predict([target_seq] + [e_out, e_h, e_c])\n",
        "\n",
        "        # Sample a token\n",
        "        sampled_token_index = np.argmax(output_tokens[0, -1, :])\n",
        "        sampled_token = reverse_target_word_index[sampled_token_index]\n",
        "        \n",
        "        if(sampled_token!='eostok'):\n",
        "            decoded_sentence += ' '+sampled_token\n",
        "\n",
        "        # Exit condition: either hit max length or find stop word.\n",
        "        if (sampled_token == 'eostok'  or len(decoded_sentence.split()) >= (max_summary_len-1)):\n",
        "            stop_condition = True\n",
        "\n",
        "        # Update the target sequence (of length 1).\n",
        "        target_seq = np.zeros((1,1))\n",
        "        target_seq[0, 0] = sampled_token_index\n",
        "\n",
        "        # Update internal states\n",
        "        e_h, e_c = h, c\n",
        "\n",
        "    return decoded_sentence"
      ],
      "execution_count": null,
      "outputs": []
    },
    {
      "cell_type": "code",
      "metadata": {
        "id": "Mk_KOYmWO7i4"
      },
      "source": [
        "def seq2summary(input_seq):\n",
        "    newString=''\n",
        "    for i in input_seq:\n",
        "        if((i!=0 and i!=target_word_index['sostok']) and i!=target_word_index['eostok']):\n",
        "            newString=newString+reverse_target_word_index[i]+' '\n",
        "    return newString\n",
        "\n",
        "def seq2text(input_seq):\n",
        "    newString=''\n",
        "    for i in input_seq:\n",
        "        if(i!=0):\n",
        "            newString=newString+reverse_source_word_index[i]+' '\n",
        "    return newString"
      ],
      "execution_count": null,
      "outputs": []
    },
    {
      "cell_type": "code",
      "metadata": {
        "colab": {
          "base_uri": "https://localhost:8080/"
        },
        "id": "nitr58WQO7lv",
        "outputId": "45b4d455-314f-41a4-f895-59506e367249"
      },
      "source": [
        "for i in range(0,100):\n",
        "    print(\"Review:\",seq2text(x_tr[i]))\n",
        "    print(\"Original summary:\",seq2summary(y_tr[i]))\n",
        "    print(\"Predicted summary:\",decode_sequence(x_tr[i].reshape(1,max_text_len)))\n",
        "    print(\"\\n\")"
      ],
      "execution_count": null,
      "outputs": [
        {
          "output_type": "stream",
          "text": [
            "Review: the police has banned in groups in leone citing public order and safety the police accused people in groups of insults traffic on vehicles playing music and property from other members of the public it said violators will be with according to law you have been warned \n",
            "Original summary: start bans in groups end \n",
            "Predicted summary:  start to be in india end\n",
            "\n",
            "\n",
            "Review: thirty two year old jammu and kashmir police officer ahmed dar who was buried on friday had written facebook post just yourself in your grave down there in that dark hole alone dar along with five other policemen was killed on friday in an in in anantnag district by suspected lashkar e taiba let militants \n",
            "Original summary: start just in cop on end \n",
            "Predicted summary:  start to be in india end\n",
            "\n",
            "\n",
            "Review: for changing the names of the central government schemes bjp leader chandra kumar bose compared west bengal cm mamata banerjee to mughal babur who demolished ram temple in ayodhya and built babri masjid think it very of mamata to give name at the state level for the same scheme which the centre has actually adopted bose added \n",
            "Original summary: start bjp leader calls mamata for centre scheme end \n",
            "Predicted summary:  start delhi to be in delhi end\n",
            "\n",
            "\n",
            "Review: delhi deputy chief minister manish sisodia on saturday claimed that his twitter account was hacked after anti hazare messages were from his account someone anti hazare messages from account trying to them not even getting deleted he said don believe them have greatest respect for can never say such things against him he added \n",
            "Original summary: start claims twitter after anti tweets appear end \n",
            "Predicted summary:  start to be in end\n",
            "\n",
            "\n",
            "Review: pacer who appeared in five tests and 61 one day for south africa has been charged with match fixing by the nation cricket board the charges are related to south africa domestic series held in 2015 six other players have already been banned for trying to fix the outcome of matches in the t20 league \n",
            "Original summary: start south international charged with match fixing end \n",
            "Predicted summary:  start to be in india end\n",
            "\n",
            "\n",
            "Review: director christopher nolan film which released on friday is one of the greatest war movies ever made wrote hindustan times the guardian wrote it piece of film making while times of india called it the first real contender for best picture at oscars the film has been rated 5 5 hindustan times the guardian and 4 5 5 times of india \n",
            "Original summary: start hits the theatres end \n",
            "Predicted summary:  start india to be end\n",
            "\n",
            "\n",
            "Review: like have been found in south african rocks dating back 2 4 billion years the oldest evidence of possible life by at most billion years the suggest it may have underwater scientists said if not the could be from an branch of life that hasn been described before scientists added \n",
            "Original summary: start world oldest in south end \n",
            "Predicted summary:  start to be in india end\n",
            "\n",
            "\n",
            "Review: indian army chief general bipin rawat on tuesday reportedly said that all options are open against pakistan aggression along the line of control loc and the international border his statement comes as tensions continue to along the india pakistan border with several ceasefire violations being reported in recent months \n",
            "Original summary: start all against pakistan open army chief end \n",
            "Predicted summary:  start to be in india end\n",
            "\n",
            "\n",
            "Review: the indefinite strike of movie theatres called by tamil nadu theatre owners and distributors association was withdrawn today and theatres are set to open from friday the association president said that committee comprising government and the association representatives has been formed to sort out the issue of 30 additional tax being levied over and above gst \n",
            "Original summary: start tn theatres to open from as strike gets called off end \n",
            "Predicted summary:  start delhi to be in delhi end\n",
            "\n",
            "\n",
            "Review: industry body has termed the launch of at an effective zero price as position because the move will help the company save licence fee and other government director general further termed the phone launch as clearly big win for jio that will put pressure on incumbent telecom operators \n",
            "Original summary: start at industry body end \n",
            "Predicted summary:  start to be in india end\n",
            "\n",
            "\n",
            "Review: the all india council for technical education has directed all the engineering colleges affiliated to it to put in place an online mechanism for of grievances an online monthly status report regarding the number of grievances received disposed off and pending should be informed to the directive has stated \n",
            "Original summary: start 10 000 colleges to get online complaint system end \n",
            "Predicted summary:  start delhi to be for end\n",
            "\n",
            "\n",
            "Review: the raveena tandon starrer which released on friday is dark film about human love and wrote hindustan times ndtv wrote is film while koimoi wrote this is not family or film which everyone would like to watch it was rated 3 5 ht ndtv and 1 5 5 koimoi \n",
            "Original summary: start starrer hits the theatres end \n",
            "Predicted summary:  start india to be end\n",
            "\n",
            "\n",
            "Review: the us house of representatives on tuesday voted 3 to new sanctions on russia for its interference in the 2016 presidential elections despite president donald trump to the the bill would also new sanctions against north korea and iran over the nations ballistic missile programs white house officials said they are the bill \n",
            "Original summary: start us house approves new against russia end \n",
            "Predicted summary:  start to be in india end\n",
            "\n",
            "\n",
            "Review: the newly elected bjp led manipur government has announced to end the stage of interview in direct recruitment for junior level posts in all departments under the state government with immediate effect the state also decided to amend the existing recruitment rules for grade iii and iv posts an official statement said \n",
            "Original summary: start manipur government for posts end \n",
            "Predicted summary:  start delhi to be for bjp end\n",
            "\n",
            "\n",
            "Review: as per reports 52 year old assistant sub inspector raj singh helped arrest his own son who was guilty of stabbing 23 year old female teacher nine times singh posted in west district was on seven day medical leave when he learnt about his son involvement in the stabbing case reportedly singh first warned his relatives not to give his son shelter \n",
            "Original summary: start delhi arrest son who stabbed woman times end \n",
            "Predicted summary:  start delhi to be in delhi end\n",
            "\n",
            "\n",
            "Review: bjp leader in west bengal has said state cm mamata banerjee has become hijra mamata banerjee is practising the politics of appeasement and indulging in he said we cannot understand whether she man or woman would say she has become hijra as you see them on trains and buses he added \n",
            "Original summary: start mamata has become bjp leader in wb end \n",
            "Predicted summary:  start delhi to be in delhi end\n",
            "\n",
            "\n",
            "Review: protesting against the death sentence awarded to kulbhushan jadhav by pakistani court maharashtra sena mns workers on tuesday vandalised and threw clothes that had pakistan we had written letters to them asking them not to sell pakistani brands other stores in areas like had to our request said mns leader gupta \n",
            "Original summary: start workers attack for selling end \n",
            "Predicted summary:  start to be in india end\n",
            "\n",
            "\n",
            "Review: the hindu parishad vhp on tuesday said that shiv sena was never outfit and was to be one only for political bal thackeray himself was about his party workers bringing of the mosque down in ayodhya said vhp you don become by merely chanting shivaji name it added \n",
            "Original summary: start shiv sena not to be one vhp end \n",
            "Predicted summary:  start to be in india end\n",
            "\n",
            "\n",
            "Review: easyjet is seeking after worker at france nice airport punched passenger who was holding his baby at the terminal after 13 hour delay picture of the incident was circulated online the man went over and talked to the and the didn reply he just and and then this guy another passenger said \n",
            "Original summary: start man with baby by airport staff after 13 delay end \n",
            "Predicted summary:  start delhi to be for end\n",
            "\n",
            "\n",
            "Review: filmmaker kabir khan while speaking about the salman khan starrer film tubelight performance at the box office said that he is however he added that it is unfair to pitch every film of his against his 2015 film which also starred salman notably tubelight became salman khan lowest eid opening in four years \n",
            "Original summary: start i khan on tubelight end \n",
            "Predicted summary:  start india to be end\n",
            "\n",
            "\n",
            "Review: india on thursday china offer to play role in the kashmir issue saying the issue is bilateral matter with pakistan and there is no of any third party the offer from the neighbour has come at time when the of india and china are locked in standoff in the sikkim area \n",
            "Original summary: start india china on its offer to on kashmir issue end \n",
            "Predicted summary:  start to be in india end\n",
            "\n",
            "\n",
            "Review: expressing support for bihar cm nitish kumar after his resignation pm narendra modi tweeted congratulations to nitish kumar for joining the fight against corruption he further added that the 125 crore citizens of the country welcome and support his honesty kumar had submitted his resignation to governor nath tripathi citing crisis in the ruling congress rjd jd alliance \n",
            "Original summary: start pm modi support for cm nitish after resignation end \n",
            "Predicted summary:  start delhi to be in delhi end\n",
            "\n",
            "\n",
            "Review: the supreme court appointed committee of administrators has said to the state associations that the indian cricket team withdrawal from the upcoming icc champions trophy is not in the best interests of indian cricket head vinod rai on tuesday had said that bcci officials are not mandated to take any decision on india champions trophy participation without the approval \n",
            "Original summary: start from icc ct not in india best end \n",
            "Predicted summary:  start i was to be in the end\n",
            "\n",
            "\n",
            "Review: is planning to send its first to the sun 15 crore from earth to probe its atmosphere from distance of 60 lakh the mission is aimed at understanding why the sun atmosphere 20 00 whereas its surface temperature is just and also to the emission of harmful high energy particles scientists said \n",
            "Original summary: start may send to next year end \n",
            "Predicted summary:  start to be in india end\n",
            "\n",
            "\n",
            "Review: actor tiger shroff has said he an brother and is the kind of person who wants to his sister in blanket he added know that after saying this people will say oh he sexist and ll be called all of names but don care tiger sister krishna shroff is three years younger to him \n",
            "Original summary: start i want to my in tiger end \n",
            "Predicted summary:  start to be in the theatres end\n",
            "\n",
            "\n",
            "Review: an analysis by the gurugram police revealed that driving in the wrong lane and pedestrians suddenly crossing the road are the three major causes of road accidents in gurugram around 70 of the 199 accidents were caused due to the data also revealed that accidents with casualties have happened so far this year \n",
            "Original summary: start of in gurugram police end \n",
            "Predicted summary:  start delhi to be for end\n",
            "\n",
            "\n",
            "Review: the centre on saturday that action would be taken against those who post videos and images of the protected and islands tribal communities on social media the national commission for scheduled tribes has said the tribes come under regulation that them from outside interference violation of which is punishable with imprisonment up to three years \n",
            "Original summary: start video on social media now end \n",
            "Predicted summary:  start to be in india end\n",
            "\n",
            "\n",
            "Review: a chinese embassy official in new delhi has said that the ongoing standoff between the of india and china will not impact the economic and cultural ties between the two nations india and china have enjoyed historical and cultural connections over thousands of years this border issue is temporary the official said \n",
            "Original summary: start won hit china end \n",
            "Predicted summary:  start india to be end\n",
            "\n",
            "\n",
            "Review: the world bank has cleared 250 million over crore loan for making indians more through re under the government skill india mission the programme is at people between 15 59 years of age who are and it also the provision of entrepreneurship opportunities to women and to increase their to skill training \n",
            "Original summary: start world bank clears loan to train indian job end \n",
            "Predicted summary:  start delhi to be for end\n",
            "\n",
            "\n",
            "Review: uttar pradesh cm yogi adityanath on sunday said we will not compromise with law and order and those who violate law won be spared he further said am committed to fulfil the dreams of our people to make up the best ruled state in the country he also warned gau rakshaks cow vigilantes and anti romeo squad against violating the law \n",
            "Original summary: start of law will not be adityanath end \n",
            "Predicted summary:  start delhi to be for end\n",
            "\n",
            "\n",
            "Review: a 19 year old afghan national was booked on tuesday after doctors at delhi hospital found seven capsules inside his the accused hamid landed at the indira gandhi international airport in an unconscious state after falling ill during flight he has not been arrested as he remains unconscious n \n",
            "Original summary: start national booked after found in end \n",
            "Predicted summary:  start to be in india end\n",
            "\n",
            "\n",
            "Review: finance minister arun jaitley while presenting union budget 2017 said the service tax regime is largely as it will be replaced by gst soon however items like railway e tickets micro and fingerprint readers will become cheaper on government digital payments push solar glass used in solar panels and natural gas will also become cheaper \n",
            "Original summary: start what becomes after union budget 2017 end \n",
            "Predicted summary:  start india to be in the theatres end\n",
            "\n",
            "\n",
            "Review: final year student helped woman give birth on moving train in maharashtra the 24 year old used whatsapp to seek instructions from his seniors and even the newborn who had not been breathing the relatives of the patient gave to thank him for the delivery \n",
            "Original summary: start student baby on train gets on whatsapp end \n",
            "Predicted summary:  start delhi to be in delhi end\n",
            "\n",
            "\n",
            "Review: following surprise check at mulayam singh yadav house in officials have found out that the samajwadi party has electricity bills worth lakh yadav has been given time till april end to clear the dues notably mulayam bungalow has over dozen rooms its own air plant temperature swimming pool and several according to report \n",
            "Original summary: start mulayam singh has worth lakh end \n",
            "Predicted summary:  start delhi to be for end\n",
            "\n",
            "\n",
            "Review: union minister for consumer affairs ram vilas paswan on monday mixed up kerala cm pinarayi vijayan with tamil nadu cm panneerselvam and got trolled on twitter the minister made the mistake while sharing pictures of his meeting with the kerala cm and his team of officers at his residence in new delhi \n",
            "Original summary: start union minister up name of kerala cm with tn cm end \n",
            "Predicted summary:  start delhi to be in delhi end\n",
            "\n",
            "\n",
            "Review: israeli prime minister benjamin netanyahu on wednesday tweeted that the people of israel were waiting for pm narendra modi historic visit he also thanked pm modi for his on the holiday of on tuesday notably israeli president had visited india in november last year setting the stage for pm modi visit this year \n",
            "Original summary: start people for modi visit end \n",
            "Predicted summary:  start delhi to be for end\n",
            "\n",
            "\n",
            "Review: alia bhatt mother has said alia does not need her to choose films he quite individual who follows strong as her mother always there but alia knows what she wants both and personally she added further said she was by alia performances in udta punjab highway and dear \n",
            "Original summary: start alia doesn need my to films end \n",
            "Predicted summary:  start india to be in end\n",
            "\n",
            "\n",
            "Review: minister of state for finance santosh said that as on july 27 over 11 44 lakh permanent account numbers were deleted or de in cases where multiple were allotted to one person he further said that fake have been identified which were allotted to either non people or in the names of persons with false \n",
            "Original summary: start over 11 lakh govt end \n",
            "Predicted summary:  start to be in india end\n",
            "\n",
            "\n",
            "Review: actor robert jr will portray the character doctor in the upcoming film the of doctor which is being directed by stephen the character was created by british author in the series of children books as doctor who to animals instead of human because he can speak with them \n",
            "Original summary: start to star as doctor in new film end \n",
            "Predicted summary:  start to be in india end\n",
            "\n",
            "\n",
            "Review: police have arrested four people after delhi bjp chief manoj tiwari claimed that his central delhi residence had been attacked by 8 10 people on sunday night the leader however was not present at his home when the attack took place this was life threatening attack two of my men have been injured manoj tiwari was quoted as saying \n",
            "Original summary: start 8 10 people attacked my house on tiwari end \n",
            "Predicted summary:  start delhi to be in delhi end\n",
            "\n",
            "\n",
            "Review: the cisf is looking to in students to act as volunteers to ensure discipline and in delhi metro an official said 16 point prepared by cisf will be distributed among commuters in the metro by the students as per reports around 400 students from delhi schools and colleges have participated in the drive the official said \n",
            "Original summary: start to train students to metro to end \n",
            "Predicted summary:  start delhi to be in delhi end\n",
            "\n",
            "\n",
            "Review: a helicopter carrying pilgrims crashed in on saturday morning killing flight engineer and injuring the two pilots the accident reportedly occurred due to air pressure in the the helicopter belonging to mumbai based operator was carrying five pilgrims and three crew members and was travelling from to haridwar \n",
            "Original summary: start one dead in crash in end \n",
            "Predicted summary:  start to be in india end\n",
            "\n",
            "\n",
            "Review: the allahabad high court has stayed the uttar pradesh government order to include 17 sub castes in the scheduled caste category in december the up government had issued an order naming the sub castes earlier classified in the other backward classes category into the sc list recently the hc directed the state to file its reply on petition challenging the decision \n",
            "Original summary: start hc of 17 in sc end \n",
            "Predicted summary:  start delhi to be in delhi end\n",
            "\n",
            "\n",
            "Review: who claimed to have saved gandhi from an earlier assassination attempt by nathuram godse in passed away on wednesday at the age of 98 according to mahatma gandhi great grandson book there were four attempts on gandhi life before godse killed him in reportedly the second attack in by godse \n",
            "Original summary: start man to have gandhi from dies end \n",
            "Predicted summary:  start to be in india end\n",
            "\n",
            "\n",
            "Review: a school principal in china city was suspended for holding exams for 400 students in an open despite closure orders amid pollution red alert across several parts of the country the worst smog of the year has reportedly affected over 46 crore people with people being forced to either leave the affected cities or toxic air \n",
            "Original summary: start suspended for in china end \n",
            "Predicted summary:  start to be in india end\n",
            "\n",
            "\n",
            "Review: two bikers were arrested on wednesday for performing stunts inspired by bollywood movie at mumbai drive the police said they got information that four bikers were performing stunts and managed to catch two of them the accused reportedly said that they were inspired by the movie to perform stunts to girls at the \n",
            "Original summary: start arrested for inspired in mumbai end \n",
            "Predicted summary:  start delhi to be for bjp end\n",
            "\n",
            "\n",
            "Review: the election commission has transferred chennai police commissioner sebastian george out of the city ahead of the by polls in former cm jayalalithaa constituency nagar this comes after the opposition dmk told the poll panel that george might act in way that favoured the ruling party the nagar by polls are scheduled for april 12 \n",
            "Original summary: start ec chennai of by polls end \n",
            "Predicted summary:  start delhi to be for bjp end\n",
            "\n",
            "\n",
            "Review: a self email prankster known as on twitter has fooled recently fired white house communications director anthony scaramucci thrice the prankster fooled scaramucci by posing as recently fired chief of staff priebus as russian and finally as one of his friends the prankster said he targeted scaramucci because he had used mental health issues as put down \n",
            "Original summary: start fired trump media chief end \n",
            "Predicted summary:  start india to be end\n",
            "\n",
            "\n",
            "Review: an 85 kg which was reportedly being kept tied up on the terrace of four storey building from the and fell onto 43 year old man the man suffered fractured leg several and head and was taken to local hospital the six month old however could not survive the fall \n",
            "Original summary: start kg off building falls on man in kolkata end \n",
            "Predicted summary:  start delhi to be for end\n",
            "\n",
            "\n",
            "Review: accused of raping 14 year old girl twice mla has been absconding after non bailable warrant was issued against him the guest house where the rape took place reportedly belonged to state home minister and his son known to be militant and the chairman of the banned outfit had surrendered in 2007 \n",
            "Original summary: start mla after being accused of raping minor end \n",
            "Predicted summary:  start delhi to be in delhi end\n",
            "\n",
            "\n",
            "Review: aap convenor arvind kejriwal on saturday promised to residential house tax in the city if voted to power in mcd aap has worked out the mathematics and the money saved from corruption would be used to cover the after scrapping the house tax he said public is harassed in the name of collection of house tax he added \n",
            "Original summary: start will house tax if we win mcd kejriwal end \n",
            "Predicted summary:  start delhi to be in delhi end\n",
            "\n",
            "\n",
            "Review: filmmaker has said that actress role in his upcoming film babumoshai bandookbaaz is not based on late tamil nadu chief minister jayalalithaa our film is so the between character and jayalalithaa begin and end with the fact that she plays female politician who is go he added \n",
            "Original summary: start role in not inspired by end \n",
            "Predicted summary:  start to be in india end\n",
            "\n",
            "\n",
            "Review: a police complaint has been lodged against aam aadmi party leader and kumar vishwas for making derogatory remarks against women on the kapil sharma show vishwas was on the show on saturday when he said mein affair hai vote de to aap le \n",
            "Original summary: start complaint against vishwas for on women on kapil show end \n",
            "Predicted summary:  start delhi to be in delhi end\n",
            "\n",
            "\n",
            "Review: scientists have developed paper based device that can energy from body the are with gold and carbon film comprising the electric pressing and releasing the device for few minutes charged the device to which was enough to power remote control or watch researchers said \n",
            "Original summary: start can be charged with body end \n",
            "Predicted summary:  start to be in india end\n",
            "\n",
            "\n",
            "Review: bhat who reportedly became terror outfit hizbul mujahideen commander after burhan wani death last year has been killed by security forces in an encounter in pulwama jammu and kashmir bhat who was among the militants killed in two in the valley on saturday called his family members before and said me if wrong \n",
            "Original summary: start killed in kashmir end \n",
            "Predicted summary:  start to be in india end\n",
            "\n",
            "\n",
            "Review: a picture for an upcoming film showing south indian actress tied to bed with the caption has been slammed on twitter so now they have used actress kidnapped as promotion will they rape next tweeted user so much for all the female talks promotions read another tweet \n",
            "Original summary: start pic actress slammed online end \n",
            "Predicted summary:  start india to be end\n",
            "\n",
            "\n",
            "Review: the gujarat government has decided to celebrate the world heritage city status granted to ahmedabad by for the programme starting on august will include heritage cultural events and about the 600 year old city further all flights to gujarat will serve gujarati to passengers during the 2 week long celebration \n",
            "Original summary: start to celebrate city status for 15 days end \n",
            "Predicted summary:  start delhi to be for end\n",
            "\n",
            "\n",
            "Review: responding to an rti query on chandra bose the central government has said netaji died in plane crash in the ministry of home affairs further clarified that man named or who was rumoured to be bose reportedly living in uttar pradesh till was not the leader himself \n",
            "Original summary: start died in plane crash govt end \n",
            "Predicted summary:  start to be in india end\n",
            "\n",
            "\n",
            "Review: a us based woman selfie has helped the cisf recover her stolen gold jewellery worth 22 lakh and gang of women from metro station in delhi the cisf said the case was with the help of selfie the woman had clicked while travelling in the metro the selfie had an accused in it \n",
            "Original summary: start selfie in gang of women in delhi end \n",
            "Predicted summary:  start delhi to be in delhi end\n",
            "\n",
            "\n",
            "Review: the noida authority has decided to road markings in an attempt to and traffic movement on city roads this comes after its traffic cell found that 80 of road markings either get washed away or out on their own the project involves marking of left right turns and stop lines for vehicles among others \n",
            "Original summary: start noida authority to road marks to traffic end \n",
            "Predicted summary:  start delhi to be in delhi end\n",
            "\n",
            "\n",
            "Review: the doctors in telangana biggest government run gandhi hospital in hyderabad the mantra to bring down the rising number of deaths of in the hospital patients complained of the of doctors as the pooja which was reportedly approved by the senior doctors went on for hours probe has been ordered in the case \n",
            "Original summary: start for hours to down in hospital end \n",
            "Predicted summary:  start delhi to be for end\n",
            "\n",
            "\n",
            "Review: indian cup team non playing captain mahesh bhupathi has claimed that his former doubles partner leander paes should not as he was in advance that his inclusion in the final four was never confirmed bhupathi picked rohan bopanna ahead of paes to play against and defended his decision saying that bopanna is india best doubles player \n",
            "Original summary: start no doubles player end \n",
            "Predicted summary:  start india to be end\n",
            "\n",
            "\n",
            "Review: singer known for songs like cheap and was spotted without her at the los angeles airport on her way to dubai the 41 year old singer usually makes public appearances wearing half black half hair and never shows her face has introduced her look in her videos where is seen in similar \n",
            "Original summary: start singer without her end \n",
            "Predicted summary:  start india to be end\n",
            "\n",
            "\n",
            "Review: delhi metro blue line services were hit for over three hours on tuesday evening as technical occurred after bird got on an overhead wire and caused short circuit officials said the of overhead equipment broke down causing electrical wire with train the bird died and thousands of passengers were stranded \n",
            "Original summary: start delhi metro line for hours as gets end \n",
            "Predicted summary:  start delhi to be for bjp end\n",
            "\n",
            "\n",
            "Review: the government has reportedly proposed special midnight session of the parliament on june 30 to mark the rollout of goods and services tax gst which will be on july president pranab mukherjee prime minister narendra modi and finance minister arun jaitley will likely address the hour long session both lok sabha and rajya sabha will participate in it \n",
            "Original summary: start special of parliament to mark gst end \n",
            "Predicted summary:  start to be in india end\n",
            "\n",
            "\n",
            "Review: american journalist kelly is being trolled on twitter for asking india pm narendra modi are you on twitter after he referred to her recent tweet with an while had done his ms kelly had not her subjects well tweet read citing kelly and modi twitter followers another user tweeted 2 followers \n",
            "Original summary: start us for modi are you on twitter end \n",
            "Predicted summary:  start to be in india end\n",
            "\n",
            "\n",
            "Review: actress katrina kaif has denied rumours that she got deepika padukone dropped from filmmaker rai upcoming film that stars shah rukh khan don think any actor in today day and age is going around putting on their director said katrina she further refused to confirm whether she was starring in the film \n",
            "Original summary: start katrina denies getting deepika from srk film end \n",
            "Predicted summary:  start india to be in the theatres end\n",
            "\n",
            "\n",
            "Review: outgoing us president barack obama on thursday expressed his to by posting letter on facebook throughout these eight years you have been the source of from which ve pulled strength obama wrote when the of progress seems remember america is not the project of any one person he added \n",
            "Original summary: start obama posts letter on facebook end \n",
            "Predicted summary:  start to be in the end\n",
            "\n",
            "\n",
            "Review: rajasthan bjp mla refused to pay the toll on the jaipur highway and entered into an with toll plaza employee according to india today the bjp leader reportedly pushed away the employee when he came in front of his vehicle and said he is ready to fight but the vehicles will go like this only \n",
            "Original summary: start bjp mla refuses to pay toll says he is to fight end \n",
            "Predicted summary:  start delhi to be in delhi end\n",
            "\n",
            "\n",
            "Review: shah the chief of terrorist organisation lashkar e taiba let in an official statement said the sacrifice of let commander junaid and other militants killed in an encounter with indian armed forces will not go in meanwhile let spokesperson dr abdullah called india cancer to while adding we shall soon witness india burning to \n",
            "Original summary: start won go in lashkar chief end \n",
            "Predicted summary:  start to be in india end\n",
            "\n",
            "\n",
            "Review: a 50 year old man died after he allegedly received bullet injury in firing during wedding function in west delhi area according to police the victim was reportedly working as waiter at the venue when he was hit by bullet fired from an illegal pistol the accused identified as fled the spot after the firing nn \n",
            "Original summary: start delhi man dies after being shot in firing end \n",
            "Predicted summary:  start delhi to be in delhi end\n",
            "\n",
            "\n",
            "Review: the aam aadmi party on monday declared former bureaucrat gomes as its chief ministerial candidate for upcoming goa assembly elections currently the elected president of goa football association 53 year old gomes had taken voluntary retirement as prisons and urban development secretary to join aap the announcement was made at rally by aap chief and delhi cm arvind kejriwal \n",
            "Original summary: start aap as its cm candidate in goa end \n",
            "Predicted summary:  start delhi to be in delhi end\n",
            "\n",
            "\n",
            "Review: a rare 60 kg whale on thursday washed at beach near mumbai the fishermen said that the seven and a half foot long looked injured and died during rescue operation this species of whale has not washed along the state for more than said member of the research team \n",
            "Original summary: start at mumbai beach dies during rescue end \n",
            "Predicted summary:  start to be in india end\n",
            "\n",
            "\n",
            "Review: the panchayat secretary of bihar handed out old notes of 500 and 000 to more than 100 old age he had distributed demonetised notes worth nearly 2 5 lakh to the the pension money was reportedly due since the last six months already an fir was filed against the secretary on the orders of the district magistrate \n",
            "Original summary: start secretary gives 500 000 notes to end \n",
            "Predicted summary:  start delhi to be in delhi end\n",
            "\n",
            "\n",
            "Review: criticising the up chief minister bjp mp yogi adityanath on monday said that parents will now from naming their sons akhilesh akhilesh did what and did not do he further alleged he also accused the up government of terrorists anti and whatever scheme the government ran it was only for particular community he added \n",
            "Original summary: start will not name their akhilesh now adityanath end \n",
            "Predicted summary:  start delhi to be for bjp end\n",
            "\n",
            "\n",
            "Review: the reserve bank of india rbi on wednesday banks dealing in government businesses from remaining open on april in view of the annual closing business this rbi earlier order where it asked the banks to remain open on all days from march 25 to april including saturday sunday and all holidays \n",
            "Original summary: start rbi banks from working on 1 end \n",
            "Predicted summary:  start delhi to get in delhi end\n",
            "\n",
            "\n",
            "Review: baahubali director ss rajamouli has spoken in defence of actor sathyaraj who against pro kannada organisations asking for an apology over the actor speech on the issue rajamouli claimed that sathyaraj speech was from nine years ago after that about 30 films of his were released in karnataka no one had problems with that added rajamouli \n",
            "Original summary: start baahubali director defends actor over row end \n",
            "Predicted summary:  start india to be end\n",
            "\n",
            "\n",
            "Review: former australian cricketer shane warne along with teammate mark was found guilty of accepting money from in in exchange of leaking information the leg spinner was also banned from international cricket for year for failing drug test before the 2003 world cup warne later claimed the drug was given by his mother for weight loss \n",
            "Original summary: start was of money drug use end \n",
            "Predicted summary:  start india to be in the theatres end\n",
            "\n",
            "\n",
            "Review: chief minister mehbooba mufti on saturday blamed external forces for creating unrest in the state and said there is militants are coming from outside unfortunately even china has started interfering mufti comments came after her meeting with home minister rajnath singh after the terror attack in which eight amarnath pilgrims were killed \n",
            "Original summary: start claims chinese in end \n",
            "Predicted summary:  start to be in india end\n",
            "\n",
            "\n",
            "Review: the bjp on sunday called for statewide strike in kerala after an rss worker died after being allegedly attacked by cpi workers thirty four year old rajesh was stabbed forty times and his left hand was chopped off by some men while he had been returning home after attending meeting on saturday reports said \n",
            "Original summary: start bjp calls for strike in kerala over rss killing end \n",
            "Predicted summary:  start delhi to be in delhi end\n",
            "\n",
            "\n",
            "Review: an air india express flight with passengers onboard off the runway at airport on sunday during due to an official said all passengers and crew members were while no damage to the aircraft was found an alert pilot immediately the path and the aircraft landed safely the official added \n",
            "Original summary: start air india express flight off end \n",
            "Predicted summary:  start to be in india end\n",
            "\n",
            "\n",
            "Review: google india has with the ministry of consumer affairs for campaign called safe consumer to help protect consumer interest online the company has said it will provide training material to over 200 consumer organisations and consumer affairs departments of all indian states google is also working with schools to spread awareness about internet safety among the youth \n",
            "Original summary: start govt with google for online end \n",
            "Predicted summary:  start to be in india end\n",
            "\n",
            "\n",
            "Review: andhra pradesh excise minister termed beer health drink while speaking at tv talk show beer is health drink and that why his government is promoting its sale in the state he said the state is planning to open round the clock beer in the state to attract foreign tourists \n",
            "Original summary: start beer health govt its sale minister end \n",
            "Predicted summary:  start to be in india end\n",
            "\n",
            "\n",
            "Review: following the successful of the pakistan super league final the international cricket council will be sending world xi team to lahore in september for four match t20 series against pakistan the tournament called the independence cup will be held to make efforts for the re introduction of top level cricket to pakistan after an eight year \n",
            "Original summary: start world to play four against pakistan in end \n",
            "Predicted summary:  start to be in india end\n",
            "\n",
            "\n",
            "Review: the supreme court while hearing an aap government petition on wednesday over the delhi issue said that an elected government should have some power to run otherwise the government cannot function cm arvind kejriwal had challenged the delhi hc order that stated the administrative head of the city is the lieutenant governor \n",
            "Original summary: start elected govt must have power sc on aap govt plea end \n",
            "Predicted summary:  start delhi to be in delhi end\n",
            "\n",
            "\n",
            "Review: ms dhoni has alleged that mobile firm is using his name and him as brand ambassador despite their contract being terminated in 2012 in 2014 order the delhi high court had directed the company to refrain from selling any products using dhoni name dhoni also alleged the company had on paying the cricketer his dues \n",
            "Original summary: start ms dhoni alleges of name by mobile company end \n",
            "Predicted summary:  start to be in india end\n",
            "\n",
            "\n",
            "Review: us permanent representative to the un haley has said president donald trump may get involved in peace process between india and pakistan would expect that the administration going to be in talks and try and find its place to be part of that process and also wouldn be surprised if the president as well haley stated \n",
            "Original summary: start trump may become between india pakistan us end \n",
            "Predicted summary:  start to be in india end\n",
            "\n",
            "\n",
            "Review: anantnag terror attack one of the survivors said the firing didn last for more than 20 seconds and we couldn see who was firing as it was dark outside he further said people just rolled on the bus floor over one another another said the people sitting near the driver cabin the but the driver survived \n",
            "Original summary: start firing didn last for over amarnath attack end \n",
            "Predicted summary:  start to be in india end\n",
            "\n",
            "\n",
            "Review: foreign secretary has asked china not to give political colour to india to join the nuclear group nsg keeping in mind solidarity of major developing states it is important that china views this as he said despite both countries facing terrorism they weren cooperating as effectively as they should added \n",
            "Original summary: start china must not give political to india bid end \n",
            "Predicted summary:  start to be in india end\n",
            "\n",
            "\n",
            "Review: dmk chief on wednesday missed the first party general body meeting in 48 years the 93 year old has recently been hospitalised twice after complaining of in breathing due to throat and son mk stalin was elected as the party working president in the general body meeting however will remain the dmk party president \n",
            "Original summary: start chief first party meeting in years end \n",
            "Predicted summary:  start delhi to be for end\n",
            "\n",
            "\n",
            "Review: at least six people were killed in fire that struck an electronic goods factory in noida sector 11 on wednesday afternoon the factory employees claimed that fire tenders reached the spot about 90 minutes after the complaint was registered goods estimated to be worth around 15 crore were destroyed in the fire which was caused by short circuit \n",
            "Original summary: start fire in in noida kills end \n",
            "Predicted summary:  start delhi to be for end\n",
            "\n",
            "\n",
            "Review: delhi crime rate has fallen by 31 54 this year with the police managing to solve 65 42 cases reported this year this is 16 increase in the solve rate which stood at 45 15 in 2015 till may 15 last year rape cases were reported while the figure stands at this year with 77 3 cases reported to be \n",
            "Original summary: start delhi down by 31 cops 65 cases in 2017 end \n",
            "Predicted summary:  start delhi to be in delhi end\n",
            "\n",
            "\n",
            "Review: there has been 60 in the release of central funds to assam for flood management according to comptroller and auditor general report the centre was supposed to release over 000 crore between 2007 and 2015 16 but provided only crore it further added that the state government released only 16 of the allocated budget for flood management \n",
            "Original summary: start 60 in funds for assam end \n",
            "Predicted summary:  start to be in india end\n",
            "\n",
            "\n",
            "Review: a university student fooled in new zealand into she was singer during her performance at public for an april fool day prank the no lights no party which featured total had promised super special guest after tweeted about the surprise performance it was revealed that was in london \n",
            "Original summary: start new end \n",
            "Predicted summary:  start to be in the end\n",
            "\n",
            "\n",
            "Review: malaika arora slammed an instagram user who trolled her for rich man and having fun with the her life now is all about wearing short clothes going to gym or vacation the user commented malaika responded you certainly got to get your facts right before on me when you know nothing about me \n",
            "Original summary: start slams who her for man end \n",
            "Predicted summary:  start to be in india end\n",
            "\n",
            "\n",
            "Review: former australian cricketer said that the indian team has run out of ideas to australian captain steve smith in the current border gavaskar test series smith is the highest scorer in the four match series having runs including two centuries in three tests so far smith and for runs is never ending said \n",
            "Original summary: start india have run out of to smith end \n",
            "Predicted summary:  start to be in india end\n",
            "\n",
            "\n",
            "Review: former prime minister indira gandhi name has been removed from the oxford india centre for sustainable development which was named the indira gandhi centre for sustainable development at its launch during the tenure of upa government the centre was established by college in the university of oxford in 2013 where indira gandhi studied modern history in \n",
            "Original summary: start gandhi name removed from india centre end \n",
            "Predicted summary:  start to be in india end\n",
            "\n",
            "\n",
            "Review: as many as 24 and police personnel were recently injured in stone pelting by mob during the kanwar yatra in uttar pradesh it is alleged that the attack happened after the yatris played music while passing through muslim locality the police had to resort to charge to disperse the crowd \n",
            "Original summary: start 24 security personnel injured in end \n",
            "Predicted summary:  start delhi to be in delhi end\n",
            "\n",
            "\n",
            "Review: samajwadi party candidate died following heart attack during an election campaign event on sunday in ambedkar nagar he was rushed to nearby hospital where he was declared brought dead notably the samajwadi party had given the ticket against its current legislator bhim prasad the constituency will go for polling on february 27 \n",
            "Original summary: start party candidate in up polls dies while on campaign end \n",
            "Predicted summary:  start delhi to be in delhi end\n",
            "\n",
            "\n",
            "Review: sikh religious authority on monday awarded religious punishment to 39 sikh politicians from the congress the shiromani akali dal and the aam aadmi party for seeking votes from during the recent assembly polls the leaders violated the 2007 directive of the the head ram singh for guru singh \n",
            "Original summary: start given religious by end \n",
            "Predicted summary:  start to be in india end\n",
            "\n",
            "\n"
          ],
          "name": "stdout"
        }
      ]
    },
    {
      "cell_type": "code",
      "metadata": {
        "id": "JsaUZvpWO7sC"
      },
      "source": [
        ""
      ],
      "execution_count": null,
      "outputs": []
    },
    {
      "cell_type": "code",
      "metadata": {
        "id": "h7UCo9eBO7yR"
      },
      "source": [
        ""
      ],
      "execution_count": null,
      "outputs": []
    },
    {
      "cell_type": "code",
      "metadata": {
        "id": "ZH9kJclUO74S"
      },
      "source": [
        ""
      ],
      "execution_count": null,
      "outputs": []
    },
    {
      "cell_type": "code",
      "metadata": {
        "id": "h2Q9bIuvO7-S"
      },
      "source": [
        ""
      ],
      "execution_count": null,
      "outputs": []
    },
    {
      "cell_type": "code",
      "metadata": {
        "id": "6KqxOu9KO8Ei"
      },
      "source": [
        ""
      ],
      "execution_count": null,
      "outputs": []
    },
    {
      "cell_type": "code",
      "metadata": {
        "id": "nQ-nSJ1YO8Kg"
      },
      "source": [
        ""
      ],
      "execution_count": null,
      "outputs": []
    },
    {
      "cell_type": "code",
      "metadata": {
        "id": "QB888qy7O8Qf"
      },
      "source": [
        ""
      ],
      "execution_count": null,
      "outputs": []
    },
    {
      "cell_type": "code",
      "metadata": {
        "id": "hgbCohmsO8Wt"
      },
      "source": [
        ""
      ],
      "execution_count": null,
      "outputs": []
    },
    {
      "cell_type": "code",
      "metadata": {
        "id": "9M9GFymQO8dE"
      },
      "source": [
        ""
      ],
      "execution_count": null,
      "outputs": []
    },
    {
      "cell_type": "code",
      "metadata": {
        "id": "4wxjvrRlO8j2"
      },
      "source": [
        ""
      ],
      "execution_count": null,
      "outputs": []
    },
    {
      "cell_type": "code",
      "metadata": {
        "id": "aKf_2SnoO8pt"
      },
      "source": [
        ""
      ],
      "execution_count": null,
      "outputs": []
    }
  ]
}